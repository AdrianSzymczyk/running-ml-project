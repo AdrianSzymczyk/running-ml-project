{
 "cells": [
  {
   "cell_type": "code",
   "execution_count": null,
   "id": "0ea8d3d4",
   "metadata": {},
   "outputs": [],
   "source": [
    "X_train = pd.DataFrame()"
   ]
  },
  {
   "cell_type": "markdown",
   "id": "49c4b5ee",
   "metadata": {},
   "source": [
    "# Running-ml-project"
   ]
  },
  {
   "cell_type": "markdown",
   "id": "d9684301",
   "metadata": {},
   "source": [
    "##### Project of predicting bunred calories during running activity. Data belongs only to one man "
   ]
  },
  {
   "cell_type": "code",
   "execution_count": 1,
   "id": "719658b8",
   "metadata": {},
   "outputs": [],
   "source": [
    "import numpy as np\n",
    "import pandas as pd\n",
    "import os\n",
    "from datetime import datetime"
   ]
  },
  {
   "cell_type": "markdown",
   "id": "b9615b71",
   "metadata": {},
   "source": [
    "# Load data"
   ]
  },
  {
   "cell_type": "code",
   "execution_count": 2,
   "id": "faffe4db",
   "metadata": {
    "scrolled": true
   },
   "outputs": [
    {
     "data": {
      "text/html": [
       "<div>\n",
       "<style scoped>\n",
       "    .dataframe tbody tr th:only-of-type {\n",
       "        vertical-align: middle;\n",
       "    }\n",
       "\n",
       "    .dataframe tbody tr th {\n",
       "        vertical-align: top;\n",
       "    }\n",
       "\n",
       "    .dataframe thead th {\n",
       "        text-align: right;\n",
       "    }\n",
       "</style>\n",
       "<table border=\"1\" class=\"dataframe\">\n",
       "  <thead>\n",
       "    <tr style=\"text-align: right;\">\n",
       "      <th></th>\n",
       "      <th>Activity Type</th>\n",
       "      <th>Date</th>\n",
       "      <th>Title</th>\n",
       "      <th>Distance</th>\n",
       "      <th>Calories</th>\n",
       "      <th>Time</th>\n",
       "      <th>Avg HR</th>\n",
       "      <th>Max HR</th>\n",
       "      <th>Avg Run Cadence</th>\n",
       "      <th>Max Run Cadence</th>\n",
       "      <th>Avg Pace</th>\n",
       "      <th>Best Pace</th>\n",
       "      <th>Elev Gain</th>\n",
       "      <th>Elev Loss</th>\n",
       "      <th>Avg Stride Length</th>\n",
       "      <th>Best Lap Time</th>\n",
       "      <th>Number of Laps</th>\n",
       "    </tr>\n",
       "  </thead>\n",
       "  <tbody>\n",
       "    <tr>\n",
       "      <th>0</th>\n",
       "      <td>Running</td>\n",
       "      <td>7/15/20 9:41</td>\n",
       "      <td>Cherry Hill Running</td>\n",
       "      <td>6.00</td>\n",
       "      <td>530</td>\n",
       "      <td>0:43:55</td>\n",
       "      <td>141</td>\n",
       "      <td>160</td>\n",
       "      <td>176</td>\n",
       "      <td>182</td>\n",
       "      <td>7:19</td>\n",
       "      <td>6:20</td>\n",
       "      <td>169</td>\n",
       "      <td>173</td>\n",
       "      <td>1.26</td>\n",
       "      <td>00:02.3</td>\n",
       "      <td>7</td>\n",
       "    </tr>\n",
       "    <tr>\n",
       "      <th>1</th>\n",
       "      <td>Running</td>\n",
       "      <td>7/14/20 17:45</td>\n",
       "      <td>Cherry Hill Running</td>\n",
       "      <td>6.50</td>\n",
       "      <td>587</td>\n",
       "      <td>0:47:04</td>\n",
       "      <td>144</td>\n",
       "      <td>160</td>\n",
       "      <td>172</td>\n",
       "      <td>182</td>\n",
       "      <td>7:14</td>\n",
       "      <td>6:35</td>\n",
       "      <td>183</td>\n",
       "      <td>187</td>\n",
       "      <td>1.29</td>\n",
       "      <td>03:32.7</td>\n",
       "      <td>7</td>\n",
       "    </tr>\n",
       "    <tr>\n",
       "      <th>2</th>\n",
       "      <td>Running</td>\n",
       "      <td>7/13/20 18:57</td>\n",
       "      <td>Cherry Hill Running</td>\n",
       "      <td>5.01</td>\n",
       "      <td>392</td>\n",
       "      <td>0:40:29</td>\n",
       "      <td>128</td>\n",
       "      <td>151</td>\n",
       "      <td>170</td>\n",
       "      <td>180</td>\n",
       "      <td>8:05</td>\n",
       "      <td>5:49</td>\n",
       "      <td>124</td>\n",
       "      <td>124</td>\n",
       "      <td>1.17</td>\n",
       "      <td>00:04.1</td>\n",
       "      <td>6</td>\n",
       "    </tr>\n",
       "    <tr>\n",
       "      <th>3</th>\n",
       "      <td>Running</td>\n",
       "      <td>7/12/20 18:44</td>\n",
       "      <td>Cherry Hill Running</td>\n",
       "      <td>7.01</td>\n",
       "      <td>633</td>\n",
       "      <td>0:52:55</td>\n",
       "      <td>142</td>\n",
       "      <td>157</td>\n",
       "      <td>172</td>\n",
       "      <td>180</td>\n",
       "      <td>7:33</td>\n",
       "      <td>5:00</td>\n",
       "      <td>215</td>\n",
       "      <td>219</td>\n",
       "      <td>1.24</td>\n",
       "      <td>00:05.1</td>\n",
       "      <td>8</td>\n",
       "    </tr>\n",
       "    <tr>\n",
       "      <th>4</th>\n",
       "      <td>Running</td>\n",
       "      <td>7/11/20 19:35</td>\n",
       "      <td>Cherry Hill Running</td>\n",
       "      <td>5.19</td>\n",
       "      <td>419</td>\n",
       "      <td>0:41:35</td>\n",
       "      <td>129</td>\n",
       "      <td>143</td>\n",
       "      <td>170</td>\n",
       "      <td>178</td>\n",
       "      <td>8:01</td>\n",
       "      <td>6:48</td>\n",
       "      <td>76</td>\n",
       "      <td>80</td>\n",
       "      <td>1.18</td>\n",
       "      <td>01:27.1</td>\n",
       "      <td>6</td>\n",
       "    </tr>\n",
       "  </tbody>\n",
       "</table>\n",
       "</div>"
      ],
      "text/plain": [
       "  Activity Type           Date                Title  Distance Calories  \\\n",
       "0       Running   7/15/20 9:41  Cherry Hill Running      6.00      530   \n",
       "1       Running  7/14/20 17:45  Cherry Hill Running      6.50      587   \n",
       "2       Running  7/13/20 18:57  Cherry Hill Running      5.01      392   \n",
       "3       Running  7/12/20 18:44  Cherry Hill Running      7.01      633   \n",
       "4       Running  7/11/20 19:35  Cherry Hill Running      5.19      419   \n",
       "\n",
       "      Time Avg HR Max HR Avg Run Cadence Max Run Cadence Avg Pace Best Pace  \\\n",
       "0  0:43:55    141    160             176             182     7:19      6:20   \n",
       "1  0:47:04    144    160             172             182     7:14      6:35   \n",
       "2  0:40:29    128    151             170             180     8:05      5:49   \n",
       "3  0:52:55    142    157             172             180     7:33      5:00   \n",
       "4  0:41:35    129    143             170             178     8:01      6:48   \n",
       "\n",
       "  Elev Gain Elev Loss  Avg Stride Length Best Lap Time  Number of Laps  \n",
       "0       169       173               1.26       00:02.3               7  \n",
       "1       183       187               1.29       03:32.7               7  \n",
       "2       124       124               1.17       00:04.1               6  \n",
       "3       215       219               1.24       00:05.1               8  \n",
       "4        76        80               1.18       01:27.1               6  "
      ]
     },
     "execution_count": 2,
     "metadata": {},
     "output_type": "execute_result"
    }
   ],
   "source": [
    "# Extract project df\n",
    "PROJECT_URL = 'https://raw.githubusercontent.com/AdrianSzymczyk/AdrianSzymczyk/main/datasets/activity_log.csv'\n",
    "df = pd.read_csv(PROJECT_URL)\n",
    "df.head()"
   ]
  },
  {
   "cell_type": "code",
   "execution_count": 37,
   "id": "31cd277d",
   "metadata": {},
   "outputs": [
    {
     "name": "stdout",
     "output_type": "stream",
     "text": [
      "<class 'pandas.core.frame.DataFrame'>\n",
      "RangeIndex: 689 entries, 0 to 688\n",
      "Data columns (total 17 columns):\n",
      " #   Column             Non-Null Count  Dtype  \n",
      "---  ------             --------------  -----  \n",
      " 0   Activity Type      689 non-null    object \n",
      " 1   Date               689 non-null    object \n",
      " 2   Title              689 non-null    object \n",
      " 3   Distance           689 non-null    float64\n",
      " 4   Calories           689 non-null    object \n",
      " 5   Time               689 non-null    object \n",
      " 6   Avg HR             689 non-null    object \n",
      " 7   Max HR             689 non-null    object \n",
      " 8   Avg Run Cadence    689 non-null    object \n",
      " 9   Max Run Cadence    689 non-null    object \n",
      " 10  Avg Pace           689 non-null    object \n",
      " 11  Best Pace          689 non-null    object \n",
      " 12  Elev Gain          689 non-null    object \n",
      " 13  Elev Loss          689 non-null    object \n",
      " 14  Avg Stride Length  689 non-null    float64\n",
      " 15  Best Lap Time      689 non-null    object \n",
      " 16  Number of Laps     689 non-null    int64  \n",
      "dtypes: float64(2), int64(1), object(14)\n",
      "memory usage: 91.6+ KB\n"
     ]
    }
   ],
   "source": [
    "df.info()"
   ]
  },
  {
   "cell_type": "markdown",
   "id": "4fa329c8",
   "metadata": {},
   "source": [
    "# Preprocessing"
   ]
  },
  {
   "cell_type": "markdown",
   "id": "f48e373d",
   "metadata": {},
   "source": [
    "### Delete rows with missing values "
   ]
  },
  {
   "cell_type": "code",
   "execution_count": 38,
   "id": "ebcf804a",
   "metadata": {},
   "outputs": [],
   "source": [
    "df = df[~df[['Distance', 'Avg HR', 'Max HR', 'Avg Pace', 'Avg Run Cadence', 'Elev Gain', 'Elev Loss']].isin(['--']).any(axis=1)].reset_index(drop=True)"
   ]
  },
  {
   "cell_type": "markdown",
   "id": "5bd6b009",
   "metadata": {},
   "source": [
    "## Convert Avg HR Max HR columns into numeric type"
   ]
  },
  {
   "cell_type": "code",
   "execution_count": 39,
   "id": "b473d5cf",
   "metadata": {},
   "outputs": [],
   "source": [
    "df['Elev Gain'] = df['Elev Gain'].apply(lambda x: int(str(x).replace(',', '')))\n",
    "df['Elev Loss'] = df['Elev Loss'].apply(lambda x: int(str(x).replace(',', '')))\n",
    "df['Calories'] = df['Calories'].apply(lambda x: int(str(x).replace(',', '')))"
   ]
  },
  {
   "cell_type": "code",
   "execution_count": 40,
   "id": "8596127a",
   "metadata": {},
   "outputs": [],
   "source": [
    "df['Calories'] = df['Calories'].astype(int)\n",
    "df['Avg HR'] = df['Avg HR'].astype(int)\n",
    "df['Max HR'] = df['Max HR'].astype(int)\n",
    "df['Avg Run Cadence'] = df['Avg Run Cadence'].astype(int)\n",
    "df['Max Run Cadence'] = df['Max Run Cadence'].astype(int)\n",
    "df['Elev Gain'] = df['Elev Gain'].astype(float)\n",
    "df['Elev Loss'] = df['Elev Loss'].astype(float)"
   ]
  },
  {
   "cell_type": "markdown",
   "id": "bf7758fb",
   "metadata": {},
   "source": [
    "### Fix problem with Time shorter than 10 minutes"
   ]
  },
  {
   "cell_type": "markdown",
   "id": "a759e125",
   "metadata": {},
   "source": [
    "#### Convert column Time values with format %M:%S.%MS to format %H:%M:%S"
   ]
  },
  {
   "cell_type": "code",
   "execution_count": 41,
   "id": "ceabf994",
   "metadata": {
    "scrolled": false
   },
   "outputs": [],
   "source": [
    "invalid_time_indices = df[df['Time'].apply(lambda x: x[-2] == '.')].index"
   ]
  },
  {
   "cell_type": "code",
   "execution_count": 42,
   "id": "0c27dfb3",
   "metadata": {
    "scrolled": false
   },
   "outputs": [],
   "source": [
    "df['Time'] = df['Time'].apply(lambda x: datetime.strptime(x, '%M:%S.%f').time() if x[-2] == '.' else datetime.strptime(x, '%H:%M:%S').time())"
   ]
  },
  {
   "cell_type": "markdown",
   "id": "0b56870c",
   "metadata": {},
   "source": [
    "### Convert Time into numeric representation as total number of seconds"
   ]
  },
  {
   "cell_type": "code",
   "execution_count": 43,
   "id": "dd48a5a5",
   "metadata": {},
   "outputs": [],
   "source": [
    "df['Time'] = pd.to_timedelta(df['Time'].astype(str)).dt.total_seconds().astype(int)"
   ]
  },
  {
   "cell_type": "markdown",
   "id": "c6cc89b4",
   "metadata": {},
   "source": [
    "#### Pace conversion "
   ]
  },
  {
   "cell_type": "code",
   "execution_count": 44,
   "id": "4c982a27",
   "metadata": {},
   "outputs": [],
   "source": [
    "def pace_to_km(pace):\n",
    "    mile = 1.60934 \n",
    "    minutes, seconds = pace.split(':')\n",
    "    pace_in_seconds = int(minutes) * 60 + int(seconds)\n",
    "    pace_per_km = round(pace_in_seconds / mile)\n",
    "    return pace_per_km"
   ]
  },
  {
   "cell_type": "markdown",
   "id": "1022c1ee",
   "metadata": {},
   "source": [
    "#### Avg Pace conversion"
   ]
  },
  {
   "cell_type": "code",
   "execution_count": 45,
   "id": "14d3e090",
   "metadata": {},
   "outputs": [],
   "source": [
    "df['Avg Pace'] = df['Avg Pace'].apply(pace_to_km)"
   ]
  },
  {
   "cell_type": "markdown",
   "id": "807c0861",
   "metadata": {},
   "source": [
    "#### Best Pace conversion"
   ]
  },
  {
   "cell_type": "code",
   "execution_count": 46,
   "id": "223f5d7b",
   "metadata": {},
   "outputs": [],
   "source": [
    "df['Best Pace'] = df['Best Pace'].apply(pace_to_km)"
   ]
  },
  {
   "cell_type": "markdown",
   "id": "121e3d49",
   "metadata": {},
   "source": [
    "### Convert data units from Miles to Kilometers"
   ]
  },
  {
   "cell_type": "markdown",
   "id": "4c8f854e",
   "metadata": {},
   "source": [
    "#### Distance conversion"
   ]
  },
  {
   "cell_type": "code",
   "execution_count": 47,
   "id": "00630eb6",
   "metadata": {},
   "outputs": [],
   "source": [
    "df['Distance'] = df['Distance'].apply(lambda x: round(x * 1.60934, 2))"
   ]
  },
  {
   "cell_type": "markdown",
   "id": "4b7a2636",
   "metadata": {},
   "source": [
    "# 📈 Discover and visualize the data insights"
   ]
  },
  {
   "cell_type": "code",
   "execution_count": 48,
   "id": "d395ee9f",
   "metadata": {
    "scrolled": false
   },
   "outputs": [
    {
     "data": {
      "text/html": [
       "<div>\n",
       "<style scoped>\n",
       "    .dataframe tbody tr th:only-of-type {\n",
       "        vertical-align: middle;\n",
       "    }\n",
       "\n",
       "    .dataframe tbody tr th {\n",
       "        vertical-align: top;\n",
       "    }\n",
       "\n",
       "    .dataframe thead th {\n",
       "        text-align: right;\n",
       "    }\n",
       "</style>\n",
       "<table border=\"1\" class=\"dataframe\">\n",
       "  <thead>\n",
       "    <tr style=\"text-align: right;\">\n",
       "      <th></th>\n",
       "      <th>Activity Type</th>\n",
       "      <th>Date</th>\n",
       "      <th>Title</th>\n",
       "      <th>Distance</th>\n",
       "      <th>Calories</th>\n",
       "      <th>Time</th>\n",
       "      <th>Avg HR</th>\n",
       "      <th>Max HR</th>\n",
       "      <th>Avg Run Cadence</th>\n",
       "      <th>Max Run Cadence</th>\n",
       "      <th>Avg Pace</th>\n",
       "      <th>Best Pace</th>\n",
       "      <th>Elev Gain</th>\n",
       "      <th>Elev Loss</th>\n",
       "      <th>Avg Stride Length</th>\n",
       "      <th>Best Lap Time</th>\n",
       "      <th>Number of Laps</th>\n",
       "    </tr>\n",
       "  </thead>\n",
       "  <tbody>\n",
       "    <tr>\n",
       "      <th>0</th>\n",
       "      <td>Running</td>\n",
       "      <td>7/15/20 9:41</td>\n",
       "      <td>Cherry Hill Running</td>\n",
       "      <td>9.66</td>\n",
       "      <td>530</td>\n",
       "      <td>2635</td>\n",
       "      <td>141</td>\n",
       "      <td>160</td>\n",
       "      <td>176</td>\n",
       "      <td>182</td>\n",
       "      <td>273</td>\n",
       "      <td>236</td>\n",
       "      <td>169.0</td>\n",
       "      <td>173.0</td>\n",
       "      <td>1.26</td>\n",
       "      <td>00:02.3</td>\n",
       "      <td>7</td>\n",
       "    </tr>\n",
       "    <tr>\n",
       "      <th>1</th>\n",
       "      <td>Running</td>\n",
       "      <td>7/14/20 17:45</td>\n",
       "      <td>Cherry Hill Running</td>\n",
       "      <td>10.46</td>\n",
       "      <td>587</td>\n",
       "      <td>2824</td>\n",
       "      <td>144</td>\n",
       "      <td>160</td>\n",
       "      <td>172</td>\n",
       "      <td>182</td>\n",
       "      <td>270</td>\n",
       "      <td>245</td>\n",
       "      <td>183.0</td>\n",
       "      <td>187.0</td>\n",
       "      <td>1.29</td>\n",
       "      <td>03:32.7</td>\n",
       "      <td>7</td>\n",
       "    </tr>\n",
       "    <tr>\n",
       "      <th>2</th>\n",
       "      <td>Running</td>\n",
       "      <td>7/13/20 18:57</td>\n",
       "      <td>Cherry Hill Running</td>\n",
       "      <td>8.06</td>\n",
       "      <td>392</td>\n",
       "      <td>2429</td>\n",
       "      <td>128</td>\n",
       "      <td>151</td>\n",
       "      <td>170</td>\n",
       "      <td>180</td>\n",
       "      <td>301</td>\n",
       "      <td>217</td>\n",
       "      <td>124.0</td>\n",
       "      <td>124.0</td>\n",
       "      <td>1.17</td>\n",
       "      <td>00:04.1</td>\n",
       "      <td>6</td>\n",
       "    </tr>\n",
       "    <tr>\n",
       "      <th>3</th>\n",
       "      <td>Running</td>\n",
       "      <td>7/12/20 18:44</td>\n",
       "      <td>Cherry Hill Running</td>\n",
       "      <td>11.28</td>\n",
       "      <td>633</td>\n",
       "      <td>3175</td>\n",
       "      <td>142</td>\n",
       "      <td>157</td>\n",
       "      <td>172</td>\n",
       "      <td>180</td>\n",
       "      <td>281</td>\n",
       "      <td>186</td>\n",
       "      <td>215.0</td>\n",
       "      <td>219.0</td>\n",
       "      <td>1.24</td>\n",
       "      <td>00:05.1</td>\n",
       "      <td>8</td>\n",
       "    </tr>\n",
       "    <tr>\n",
       "      <th>4</th>\n",
       "      <td>Running</td>\n",
       "      <td>7/11/20 19:35</td>\n",
       "      <td>Cherry Hill Running</td>\n",
       "      <td>8.35</td>\n",
       "      <td>419</td>\n",
       "      <td>2495</td>\n",
       "      <td>129</td>\n",
       "      <td>143</td>\n",
       "      <td>170</td>\n",
       "      <td>178</td>\n",
       "      <td>299</td>\n",
       "      <td>254</td>\n",
       "      <td>76.0</td>\n",
       "      <td>80.0</td>\n",
       "      <td>1.18</td>\n",
       "      <td>01:27.1</td>\n",
       "      <td>6</td>\n",
       "    </tr>\n",
       "  </tbody>\n",
       "</table>\n",
       "</div>"
      ],
      "text/plain": [
       "  Activity Type           Date                Title  Distance  Calories  Time  \\\n",
       "0       Running   7/15/20 9:41  Cherry Hill Running      9.66       530  2635   \n",
       "1       Running  7/14/20 17:45  Cherry Hill Running     10.46       587  2824   \n",
       "2       Running  7/13/20 18:57  Cherry Hill Running      8.06       392  2429   \n",
       "3       Running  7/12/20 18:44  Cherry Hill Running     11.28       633  3175   \n",
       "4       Running  7/11/20 19:35  Cherry Hill Running      8.35       419  2495   \n",
       "\n",
       "   Avg HR  Max HR  Avg Run Cadence  Max Run Cadence  Avg Pace  Best Pace  \\\n",
       "0     141     160              176              182       273        236   \n",
       "1     144     160              172              182       270        245   \n",
       "2     128     151              170              180       301        217   \n",
       "3     142     157              172              180       281        186   \n",
       "4     129     143              170              178       299        254   \n",
       "\n",
       "   Elev Gain  Elev Loss  Avg Stride Length Best Lap Time  Number of Laps  \n",
       "0      169.0      173.0               1.26       00:02.3               7  \n",
       "1      183.0      187.0               1.29       03:32.7               7  \n",
       "2      124.0      124.0               1.17       00:04.1               6  \n",
       "3      215.0      219.0               1.24       00:05.1               8  \n",
       "4       76.0       80.0               1.18       01:27.1               6  "
      ]
     },
     "execution_count": 48,
     "metadata": {},
     "output_type": "execute_result"
    }
   ],
   "source": [
    "df.head()"
   ]
  },
  {
   "cell_type": "markdown",
   "id": "e92e89f4",
   "metadata": {
    "scrolled": true
   },
   "source": [
    "#### Create a Pace Range column for data analysis"
   ]
  },
  {
   "cell_type": "code",
   "execution_count": 60,
   "id": "9868cbd7",
   "metadata": {},
   "outputs": [],
   "source": [
    "df = df.sort_values(by=['Avg Pace'])\n",
    "bins = np.arange(150, 421, 15)\n",
    "df['Pace Range'] = pd.cut(x=df['Avg Pace'], bins=bins, retbins=False)\n",
    "df['Pace Range'] = df['Pace Range'].apply(lambda x: datetime.fromtimestamp(x.left).strftime(\"%M:%S\") + \"-\" +datetime.fromtimestamp(x.right).strftime(\"%M:%S\"))"
   ]
  },
  {
   "cell_type": "code",
   "execution_count": 119,
   "id": "b617d286",
   "metadata": {
    "scrolled": false
   },
   "outputs": [
    {
     "data": {
      "image/png": "[encoded data removed]",
      "text/plain": [
       "<Figure size 1000x600 with 2 Axes>"
      ]
     },
     "metadata": {},
     "output_type": "display_data"
    }
   ],
   "source": [
    "import matplotlib.pyplot as plt\n",
    "import seaborn as sns\n",
    "\n",
    "\n",
    "plt.figure(figsize=(10, 6))\n",
    "# Plotting histogram of average pace\n",
    "plt.subplot(1, 2, 1)\n",
    "plt.hist(df['Pace Range'], edgecolor='black', bins=15)\n",
    "plt.xlabel('Average Pace Range')\n",
    "plt.xticks(rotation = 60)\n",
    "plt.ylabel('Frequency')\n",
    "plt.title('Distribution of Average Pace')\n",
    "\n",
    "plt.subplot(1, 2, 2)\n",
    "plt.hist(df['Distance'], edgecolor='black', bins=15)\n",
    "plt.xlabel('Average Distance Range')\n",
    "plt.ylabel('Frequency')\n",
    "plt.title('Distribution of Distance')\n",
    "plt.tight_layout()\n",
    "plt.show()"
   ]
  },
  {
   "cell_type": "code",
   "execution_count": 113,
   "id": "588b2203",
   "metadata": {},
   "outputs": [
    {
     "name": "stderr",
     "output_type": "stream",
     "text": [
      "C:\\Users\\Adrian_PC\\AppData\\Local\\Temp\\ipykernel_9160\\3457367977.py:4: FutureWarning: Indexing with multiple keys (implicitly converted to a tuple of keys) will be deprecated, use a list instead.\n",
      "  hr_stats = df.groupby('Title')['Avg HR', 'Max HR'].mean().reset_index()\n"
     ]
    },
    {
     "data": {
      "image/png": "[encoded data removed]",
      "text/plain": [
       "<Figure size 1000x600 with 1 Axes>"
      ]
     },
     "metadata": {},
     "output_type": "display_data"
    }
   ],
   "source": [
    "# Group the data by 'Title' and calculate the average and maximum heart rate\n",
    "hr_stats = df.groupby('Title')['Avg HR', 'Max HR'].mean().reset_index()\n",
    "\n",
    "# Plotting average and maximum heart rate\n",
    "plt.figure(figsize=(10, 6))\n",
    "bar_width = 0.35\n",
    "index = np.arange(len(hr_stats))\n",
    "plt.bar(index, hr_stats['Avg HR'], bar_width, label='Average HR')\n",
    "plt.bar(index + bar_width, hr_stats['Max HR'], bar_width, label='Max HR')\n",
    "plt.xlabel('Activity Title')\n",
    "plt.ylabel('Heart Rate')\n",
    "plt.title('Average and Maximum Heart Rate by Activity')\n",
    "plt.xticks(index + bar_width / 2, hr_stats['Title'], rotation=90)\n",
    "plt.legend()\n",
    "plt.tight_layout()\n",
    "plt.show()\n"
   ]
  },
  {
   "cell_type": "code",
   "execution_count": 108,
   "id": "8e7fd3d9",
   "metadata": {},
   "outputs": [
    {
     "data": {
      "image/png": "[encoded data removed]",
      "text/plain": [
       "<Figure size 1000x600 with 1 Axes>"
      ]
     },
     "metadata": {},
     "output_type": "display_data"
    }
   ],
   "source": [
    "# Plotting distance vs. elevation gain\n",
    "plt.figure(figsize=(10, 6))\n",
    "plt.scatter(df['Calories'], df['Distance'], c='blue', alpha=0.5)\n",
    "plt.xlabel('Calories')\n",
    "plt.ylabel('Distance')\n",
    "plt.title('Calories vs. Distance')\n",
    "plt.tight_layout()\n",
    "plt.show()"
   ]
  },
  {
   "cell_type": "markdown",
   "id": "9a76fe99",
   "metadata": {},
   "source": [
    "## Drop columns which won't be usefull for out regression"
   ]
  },
  {
   "cell_type": "code",
   "execution_count": 14,
   "id": "5760e1ec",
   "metadata": {},
   "outputs": [],
   "source": [
    "df_for_model = df.drop(['Activity Type', 'Date', 'Title', 'Best Lap Time', 'Number of Laps'], axis=1)"
   ]
  },
  {
   "cell_type": "code",
   "execution_count": 15,
   "id": "ffb425b4",
   "metadata": {},
   "outputs": [
    {
     "data": {
      "text/html": [
       "<div>\n",
       "<style scoped>\n",
       "    .dataframe tbody tr th:only-of-type {\n",
       "        vertical-align: middle;\n",
       "    }\n",
       "\n",
       "    .dataframe tbody tr th {\n",
       "        vertical-align: top;\n",
       "    }\n",
       "\n",
       "    .dataframe thead th {\n",
       "        text-align: right;\n",
       "    }\n",
       "</style>\n",
       "<table border=\"1\" class=\"dataframe\">\n",
       "  <thead>\n",
       "    <tr style=\"text-align: right;\">\n",
       "      <th></th>\n",
       "      <th>Distance</th>\n",
       "      <th>Calories</th>\n",
       "      <th>Time</th>\n",
       "      <th>Avg HR</th>\n",
       "      <th>Max HR</th>\n",
       "      <th>Avg Run Cadence</th>\n",
       "      <th>Max Run Cadence</th>\n",
       "      <th>Avg Pace</th>\n",
       "      <th>Best Pace</th>\n",
       "      <th>Elev Gain</th>\n",
       "      <th>Elev Loss</th>\n",
       "      <th>Avg Stride Length</th>\n",
       "    </tr>\n",
       "  </thead>\n",
       "  <tbody>\n",
       "    <tr>\n",
       "      <th>0</th>\n",
       "      <td>9.66</td>\n",
       "      <td>530</td>\n",
       "      <td>2635</td>\n",
       "      <td>141</td>\n",
       "      <td>160</td>\n",
       "      <td>176</td>\n",
       "      <td>182</td>\n",
       "      <td>273</td>\n",
       "      <td>236</td>\n",
       "      <td>169.0</td>\n",
       "      <td>173.0</td>\n",
       "      <td>1.26</td>\n",
       "    </tr>\n",
       "    <tr>\n",
       "      <th>1</th>\n",
       "      <td>10.46</td>\n",
       "      <td>587</td>\n",
       "      <td>2824</td>\n",
       "      <td>144</td>\n",
       "      <td>160</td>\n",
       "      <td>172</td>\n",
       "      <td>182</td>\n",
       "      <td>270</td>\n",
       "      <td>245</td>\n",
       "      <td>183.0</td>\n",
       "      <td>187.0</td>\n",
       "      <td>1.29</td>\n",
       "    </tr>\n",
       "    <tr>\n",
       "      <th>2</th>\n",
       "      <td>8.06</td>\n",
       "      <td>392</td>\n",
       "      <td>2429</td>\n",
       "      <td>128</td>\n",
       "      <td>151</td>\n",
       "      <td>170</td>\n",
       "      <td>180</td>\n",
       "      <td>301</td>\n",
       "      <td>217</td>\n",
       "      <td>124.0</td>\n",
       "      <td>124.0</td>\n",
       "      <td>1.17</td>\n",
       "    </tr>\n",
       "    <tr>\n",
       "      <th>3</th>\n",
       "      <td>11.28</td>\n",
       "      <td>633</td>\n",
       "      <td>3175</td>\n",
       "      <td>142</td>\n",
       "      <td>157</td>\n",
       "      <td>172</td>\n",
       "      <td>180</td>\n",
       "      <td>281</td>\n",
       "      <td>186</td>\n",
       "      <td>215.0</td>\n",
       "      <td>219.0</td>\n",
       "      <td>1.24</td>\n",
       "    </tr>\n",
       "    <tr>\n",
       "      <th>4</th>\n",
       "      <td>8.35</td>\n",
       "      <td>419</td>\n",
       "      <td>2495</td>\n",
       "      <td>129</td>\n",
       "      <td>143</td>\n",
       "      <td>170</td>\n",
       "      <td>178</td>\n",
       "      <td>299</td>\n",
       "      <td>254</td>\n",
       "      <td>76.0</td>\n",
       "      <td>80.0</td>\n",
       "      <td>1.18</td>\n",
       "    </tr>\n",
       "  </tbody>\n",
       "</table>\n",
       "</div>"
      ],
      "text/plain": [
       "   Distance  Calories  Time  Avg HR  Max HR  Avg Run Cadence  Max Run Cadence  \\\n",
       "0      9.66       530  2635     141     160              176              182   \n",
       "1     10.46       587  2824     144     160              172              182   \n",
       "2      8.06       392  2429     128     151              170              180   \n",
       "3     11.28       633  3175     142     157              172              180   \n",
       "4      8.35       419  2495     129     143              170              178   \n",
       "\n",
       "   Avg Pace  Best Pace  Elev Gain  Elev Loss  Avg Stride Length  \n",
       "0       273        236      169.0      173.0               1.26  \n",
       "1       270        245      183.0      187.0               1.29  \n",
       "2       301        217      124.0      124.0               1.17  \n",
       "3       281        186      215.0      219.0               1.24  \n",
       "4       299        254       76.0       80.0               1.18  "
      ]
     },
     "execution_count": 15,
     "metadata": {},
     "output_type": "execute_result"
    }
   ],
   "source": [
    "df_for_model.head()"
   ]
  },
  {
   "cell_type": "markdown",
   "id": "b43b544c",
   "metadata": {},
   "source": [
    "## Looking for Correlations"
   ]
  },
  {
   "cell_type": "code",
   "execution_count": 17,
   "id": "a78f8811",
   "metadata": {},
   "outputs": [],
   "source": [
    "corr_matrix = df_for_model.corr(numeric_only=True)"
   ]
  },
  {
   "cell_type": "code",
   "execution_count": 18,
   "id": "8c9bd4e5",
   "metadata": {},
   "outputs": [
    {
     "data": {
      "text/plain": [
       "Time                 1.000000\n",
       "Distance             0.992891\n",
       "Calories             0.955622\n",
       "Elev Gain            0.821551\n",
       "Elev Loss            0.818582\n",
       "Avg Pace             0.252870\n",
       "Max HR               0.134543\n",
       "Best Pace            0.038627\n",
       "Avg HR              -0.053432\n",
       "Max Run Cadence     -0.178102\n",
       "Avg Stride Length   -0.319321\n",
       "Avg Run Cadence     -0.331184\n",
       "Name: Time, dtype: float64"
      ]
     },
     "execution_count": 18,
     "metadata": {},
     "output_type": "execute_result"
    }
   ],
   "source": [
    "corr_matrix['Time'].sort_values(ascending=False)"
   ]
  },
  {
   "cell_type": "markdown",
   "id": "91b3f23e",
   "metadata": {},
   "source": [
    "# Split dataset"
   ]
  },
  {
   "cell_type": "code",
   "execution_count": 19,
   "id": "6bfadf9c",
   "metadata": {},
   "outputs": [],
   "source": [
    "from sklearn.model_selection import train_test_split\n",
    "\n",
    "def get_data_splits(X, y, train_size=0.7):\n",
    "    X_train, X_, y_train, y_ = train_test_split(X, y, train_size=train_size, random_state=42)\n",
    "    X_val, X_test, y_val, y_test = train_test_split(X_, y_, train_size=0.5, random_state=42)\n",
    "    return X_train, X_val, X_test, y_train, y_val, y_test"
   ]
  },
  {
   "cell_type": "code",
   "execution_count": 20,
   "id": "0f89072f",
   "metadata": {},
   "outputs": [],
   "source": [
    "X_train, X_val, X_test, y_train, y_val, y_test = get_data_splits(X=df_for_model.drop('Time', axis=1), y=df_for_model['Time'])"
   ]
  },
  {
   "cell_type": "markdown",
   "id": "96b23221",
   "metadata": {},
   "source": [
    "# Train, adjust hyperparameters and evaluate models"
   ]
  },
  {
   "cell_type": "markdown",
   "id": "98331d7f",
   "metadata": {},
   "source": [
    "## -->Linear Regression"
   ]
  },
  {
   "cell_type": "code",
   "execution_count": 24,
   "id": "2f43d53e",
   "metadata": {},
   "outputs": [
    {
     "name": "stdout",
     "output_type": "stream",
     "text": [
      "Mean squared error: 122.89 seconds\n",
      "Mean absolute error: 87.00 seconds\n"
     ]
    }
   ],
   "source": [
    "from sklearn.linear_model import LinearRegression\n",
    "from sklearn.metrics import mean_squared_error, mean_absolute_error\n",
    "\n",
    "lin_reg = LinearRegression()\n",
    "# Train model on the training set\n",
    "lin_reg.fit(X_train, y_train)\n",
    "# Predict values \n",
    "y_pred = lin_reg.predict(X_test)\n",
    "# Evaluate the model on the test set\n",
    "mse = mean_squared_error(y_test, y_pred, squared=False)\n",
    "mae = mean_absolute_error(y_test, y_pred)\n",
    "print(f'Mean squared error: {mse:.2f} seconds')\n",
    "print(f'Mean absolute error: {mae:.2f} seconds')"
   ]
  },
  {
   "cell_type": "code",
   "execution_count": 25,
   "id": "bb75bff4",
   "metadata": {},
   "outputs": [
    {
     "name": "stdout",
     "output_type": "stream",
     "text": [
      "Outcomes: [111.20145296 135.70885721 118.2078381  156.53620573 140.75600877\n",
      " 117.07926399 105.71249414 182.51891531 104.53656825 106.55886063]\n",
      "Mean: 127.88164651124853\n",
      "Standard deviation: 24.521332395853122\n"
     ]
    }
   ],
   "source": [
    "from sklearn.model_selection import cross_val_score\n",
    "\n",
    "scores = cross_val_score(lin_reg, X_train, y_train, scoring='neg_mean_squared_error', cv=10)\n",
    "scores = np.sqrt(-scores)\n",
    "print('Outcomes:', scores)\n",
    "print('Mean:', scores.mean())\n",
    "print('Standard deviation:', scores.std())"
   ]
  },
  {
   "cell_type": "markdown",
   "id": "9d9f38e7",
   "metadata": {},
   "source": [
    "### <u> Linear Regression with PolynomialFeature </u> "
   ]
  },
  {
   "cell_type": "code",
   "execution_count": 26,
   "id": "2efecf64",
   "metadata": {
    "scrolled": false
   },
   "outputs": [
    {
     "name": "stdout",
     "output_type": "stream",
     "text": [
      "Mean squared error: 4.93 seconds\n",
      "Mean absolute error: 3.57 seconds\n",
      "\n",
      "Outcomes: [2.88089439 6.83689583 4.72247491 5.95187229 5.52646085 4.29940493\n",
      " 3.07677063 4.72077316 5.33666904 4.84044824]\n",
      "Mean: 4.819266426845185\n",
      "Standard deviation: 1.1491216532649102\n"
     ]
    }
   ],
   "source": [
    "from sklearn.preprocessing import PolynomialFeatures\n",
    "from sklearn.preprocessing import StandardScaler\n",
    "from sklearn.pipeline import make_pipeline\n",
    "\n",
    "polynomial_regression = make_pipeline(\n",
    "    PolynomialFeatures(include_bias=False),\n",
    "    StandardScaler(),\n",
    "    LinearRegression()\n",
    ")\n",
    "# Train model on training set\n",
    "polynomial_regression.fit(X_train, y_train)\n",
    "# Predict valeus \n",
    "y_pred = polynomial_regression.predict(X_test)\n",
    "# Evalueate the model on the test set\n",
    "mse = mean_squared_error(y_test, y_pred, squared=False)\n",
    "mae = mean_absolute_error(y_test, y_pred)\n",
    "print(f'Mean squared error: {mse:.2f} seconds')\n",
    "print(f'Mean absolute error: {mae:.2f} seconds')\n",
    "\n",
    "scores = cross_val_score(polynomial_regression, X_train, y_train, scoring='neg_mean_squared_error', cv=10)\n",
    "scores = np.sqrt(-scores)\n",
    "print('\\nOutcomes:', scores)\n",
    "print('Mean:', scores.mean())\n",
    "print('Standard deviation:', scores.std())"
   ]
  },
  {
   "cell_type": "code",
   "execution_count": 28,
   "id": "d437fe59",
   "metadata": {},
   "outputs": [
    {
     "name": "stdout",
     "output_type": "stream",
     "text": [
      "Best hyperparameters:  {'poly__degree': 2}\n",
      "Best MSE:  5.405348314305393\n"
     ]
    }
   ],
   "source": [
    "from sklearn.model_selection import GridSearchCV, RandomizedSearchCV\n",
    "from sklearn.pipeline import Pipeline\n",
    "\n",
    "pipeline = Pipeline([\n",
    "    ('poly', PolynomialFeatures(include_bias=False)),\n",
    "    ('scaler', StandardScaler()),\n",
    "    ('linear', LinearRegression())\n",
    "])\n",
    "\n",
    "param_grid = {\n",
    "    'poly__degree': [1,2,3,4]\n",
    "}\n",
    "# Create a GridSearchCV object with pipeline and hyperparamters to search over\n",
    "grid_search = GridSearchCV(pipeline, param_grid, cv=5, scoring='neg_mean_squared_error', n_jobs=-1)\n",
    "# Train the grid search on training set\n",
    "grid_search.fit(X_train, y_train)\n",
    "\n",
    "# Print the best hyperparameters and the corresponding mean squared error\n",
    "print(\"Best hyperparameters: \", grid_search.best_params_)\n",
    "print(\"Best MSE: \", np.sqrt(-grid_search.best_score_))"
   ]
  },
  {
   "cell_type": "markdown",
   "id": "91078013",
   "metadata": {},
   "source": [
    "## --> SVM"
   ]
  },
  {
   "cell_type": "code",
   "execution_count": 29,
   "id": "54a2191f",
   "metadata": {},
   "outputs": [
    {
     "name": "stdout",
     "output_type": "stream",
     "text": [
      "Mean squared error: 1752.09 seconds\n",
      "Mean absolute error: 1352.38 seconds\n",
      "\n",
      "Outcomes: [1463.38583766 1668.56549134 1458.48011337 1899.08778814 1634.39489456\n",
      " 1498.1952712  1882.60971203 1885.11979069 1612.33029929 1825.51476271]\n",
      "Mean: 1682.7683960991685\n",
      "Standard deviation: 169.72261657888671\n"
     ]
    }
   ],
   "source": [
    "from sklearn.svm import SVR\n",
    "\n",
    "svm_reg_pipe = make_pipeline(\n",
    "    StandardScaler(),\n",
    "    SVR()\n",
    ")\n",
    "svm_reg = SVR()\n",
    "# Train model on training set\n",
    "svm_reg_pipe.fit(X_train, y_train)\n",
    "y_pred = svm_reg_pipe.predict(X_test)\n",
    "# Evalueate the model on the test set\n",
    "mse = mean_squared_error(y_test, y_pred, squared=False)\n",
    "mae = mean_absolute_error(y_test, y_pred)\n",
    "print(f'Mean squared error: {mse:.2f} seconds')\n",
    "print(f'Mean absolute error: {mae:.2f} seconds')\n",
    "\n",
    "scores = cross_val_score(svm_reg_pipe, X_train, y_train, scoring='neg_mean_squared_error', cv=10)\n",
    "scores = np.sqrt(-scores)\n",
    "print('\\nOutcomes:', scores)\n",
    "print('Mean:', scores.mean())\n",
    "print('Standard deviation:', scores.std())"
   ]
  },
  {
   "cell_type": "markdown",
   "id": "e59fcda5",
   "metadata": {},
   "source": [
    "## --> RandomForest"
   ]
  },
  {
   "cell_type": "code",
   "execution_count": 30,
   "id": "82869350",
   "metadata": {
    "scrolled": true
   },
   "outputs": [
    {
     "name": "stdout",
     "output_type": "stream",
     "text": [
      "Mean squared error: 99.85 seconds\n",
      "Mean absolute error: 63.72 seconds\n",
      "\n",
      "Outcomes: [ 97.44426657  79.68426797  89.23167184 163.50320648 137.90629646\n",
      " 115.21141868 113.43881191 184.63416597 106.26859622 133.76336014]\n",
      "Mean: 122.10860622454797\n",
      "Standard deviation: 31.4182244010454\n"
     ]
    }
   ],
   "source": [
    "from sklearn.ensemble import RandomForestRegressor\n",
    "\n",
    "forest_reg = make_pipeline(\n",
    "    StandardScaler(),\n",
    "    RandomForestRegressor(random_state=42)\n",
    ")\n",
    "# Train model on training set\n",
    "forest_reg.fit(X_train, y_train)\n",
    "y_pred = forest_reg.predict(X_test)\n",
    "# Evalueate the model on the test set\n",
    "mse = mean_squared_error(y_test, y_pred, squared=False)\n",
    "mae = mean_absolute_error(y_test, y_pred)\n",
    "print(f'Mean squared error: {mse:.2f} seconds')\n",
    "print(f'Mean absolute error: {mae:.2f} seconds')\n",
    "\n",
    "scores = cross_val_score(forest_reg, X_train, y_train, scoring='neg_mean_squared_error', cv=10)\n",
    "scores = np.sqrt(-scores)\n",
    "print('\\nOutcomes:', scores)\n",
    "print('Mean:', scores.mean())\n",
    "print('Standard deviation:', scores.std())"
   ]
  },
  {
   "cell_type": "code",
   "execution_count": 31,
   "id": "115c52f5",
   "metadata": {},
   "outputs": [
    {
     "data": {
      "text/html": [
       "<div>\n",
       "<style scoped>\n",
       "    .dataframe tbody tr th:only-of-type {\n",
       "        vertical-align: middle;\n",
       "    }\n",
       "\n",
       "    .dataframe tbody tr th {\n",
       "        vertical-align: top;\n",
       "    }\n",
       "\n",
       "    .dataframe thead th {\n",
       "        text-align: right;\n",
       "    }\n",
       "</style>\n",
       "<table border=\"1\" class=\"dataframe\">\n",
       "  <thead>\n",
       "    <tr style=\"text-align: right;\">\n",
       "      <th></th>\n",
       "      <th>y_test</th>\n",
       "      <th>y_pred</th>\n",
       "    </tr>\n",
       "  </thead>\n",
       "  <tbody>\n",
       "    <tr>\n",
       "      <th>0</th>\n",
       "      <td>178</td>\n",
       "      <td>179.82</td>\n",
       "    </tr>\n",
       "    <tr>\n",
       "      <th>1</th>\n",
       "      <td>2323</td>\n",
       "      <td>2373.75</td>\n",
       "    </tr>\n",
       "    <tr>\n",
       "      <th>2</th>\n",
       "      <td>2387</td>\n",
       "      <td>2356.00</td>\n",
       "    </tr>\n",
       "    <tr>\n",
       "      <th>3</th>\n",
       "      <td>3333</td>\n",
       "      <td>3316.33</td>\n",
       "    </tr>\n",
       "    <tr>\n",
       "      <th>4</th>\n",
       "      <td>888</td>\n",
       "      <td>880.15</td>\n",
       "    </tr>\n",
       "  </tbody>\n",
       "</table>\n",
       "</div>"
      ],
      "text/plain": [
       "   y_test   y_pred\n",
       "0     178   179.82\n",
       "1    2323  2373.75\n",
       "2    2387  2356.00\n",
       "3    3333  3316.33\n",
       "4     888   880.15"
      ]
     },
     "execution_count": 31,
     "metadata": {},
     "output_type": "execute_result"
    }
   ],
   "source": [
    "pd.DataFrame({'y_test': y_test.values, 'y_pred': y_pred}).head()"
   ]
  },
  {
   "cell_type": "markdown",
   "id": "67a3e80a",
   "metadata": {},
   "source": [
    "## --> Stochastic Gradient Descent"
   ]
  },
  {
   "cell_type": "code",
   "execution_count": 32,
   "id": "c93f8265",
   "metadata": {},
   "outputs": [
    {
     "name": "stdout",
     "output_type": "stream",
     "text": [
      "Mean squared error: 961509565712338.75 seconds\n",
      "Mean absolute error: 868291046838595.00 seconds\n"
     ]
    }
   ],
   "source": [
    "from sklearn.linear_model import SGDRegressor\n",
    "\n",
    "# Train model on training set\n",
    "sgd_reg = SGDRegressor()\n",
    "sgd_reg.fit(X_train, y_train)\n",
    "y_pred = sgd_reg.predict(X_test)\n",
    "# Evalueate the model on the test set\n",
    "mse = mean_squared_error(y_test, y_pred, squared=False)\n",
    "mae = mean_absolute_error(y_test, y_pred)\n",
    "print(f'Mean squared error: {mse:.2f} seconds')\n",
    "print(f'Mean absolute error: {mae:.2f} seconds')"
   ]
  },
  {
   "cell_type": "code",
   "execution_count": 33,
   "id": "41f35a3e",
   "metadata": {},
   "outputs": [
    {
     "name": "stdout",
     "output_type": "stream",
     "text": [
      "Best hyperparamenters:  {'power_t': 1.0, 'penalty': 'l2', 'max_iter': 8000, 'loss': 'huber', 'learning_rate': 'invscaling', 'eta0': 0.1, 'alpha': 1e-06}\n",
      "Best MSE:  0.9342297316738563\n"
     ]
    }
   ],
   "source": [
    "param_grid = {\n",
    "    'alpha': 10.0 ** -np.arange(1, 7),\n",
    "    'loss': ['huber', 'epsilon_insensitive'],\n",
    "    'penalty': ['l2', 'l1', 'elasticnet'],\n",
    "    'learning_rate': ['constant', 'optimal', 'invscaling'],\n",
    "    'eta0': 10.0 ** -np.arange(1, 4),\n",
    "    'power_t': np.arange(0, 2, 0.25),\n",
    "    'max_iter': np.arange(1000, 10000, 1000),\n",
    "}\n",
    "model = SGDRegressor()\n",
    "rnd_search = RandomizedSearchCV(model, param_grid)\n",
    "rnd_search.fit(X_train, y_train)\n",
    "print('Best hyperparamenters: ', rnd_search.best_params_)\n",
    "print(\"Best MSE: \", rnd_search.best_score_)"
   ]
  },
  {
   "cell_type": "code",
   "execution_count": 34,
   "id": "bf436f08",
   "metadata": {},
   "outputs": [],
   "source": [
    "model = SGDRegressor(\n",
    "    loss='huber', penalty='l2', alpha=1e-05, max_iter=9000,\n",
    "    learning_rate='invscaling', eta0=0.01, power_t=0.25,\n",
    "    warm_start=True)"
   ]
  },
  {
   "cell_type": "code",
   "execution_count": 35,
   "id": "67c85727",
   "metadata": {},
   "outputs": [
    {
     "name": "stdout",
     "output_type": "stream",
     "text": [
      "Epoch: 00 | train_mse: 186151.59569, val_mse: 205374.85506\n",
      "Epoch: 10 | train_mse: 152941.71677, val_mse: 164817.52966\n",
      "Epoch: 20 | train_mse: 135153.18209, val_mse: 145573.77278\n",
      "Epoch: 30 | train_mse: 123531.20139, val_mse: 119853.39001\n",
      "Epoch: 40 | train_mse: 112365.47055, val_mse: 117583.99968\n",
      "Epoch: 50 | train_mse: 116273.64868, val_mse: 128728.29977\n",
      "Epoch: 60 | train_mse: 111396.78748, val_mse: 100643.32838\n",
      "Epoch: 70 | train_mse: 114962.56234, val_mse: 131566.80319\n",
      "Epoch: 80 | train_mse: 114299.87044, val_mse: 131666.43148\n",
      "Epoch: 90 | train_mse: 80383.44514, val_mse: 85274.35305\n",
      "Epoch: 100 | train_mse: 73619.04271, val_mse: 80682.01467\n",
      "Epoch: 110 | train_mse: 74104.69330, val_mse: 85563.35402\n",
      "Epoch: 120 | train_mse: 72359.63579, val_mse: 85937.15265\n",
      "Epoch: 130 | train_mse: 60404.98889, val_mse: 67558.37639\n",
      "Epoch: 140 | train_mse: 55048.45518, val_mse: 58479.19834\n",
      "Epoch: 150 | train_mse: 65961.10882, val_mse: 57992.15525\n",
      "Epoch: 160 | train_mse: 50555.64802, val_mse: 50066.28640\n",
      "Epoch: 170 | train_mse: 46018.46799, val_mse: 56418.60291\n",
      "Epoch: 180 | train_mse: 48919.86736, val_mse: 46579.45358\n",
      "Epoch: 190 | train_mse: 43149.15144, val_mse: 42157.71769\n",
      "Epoch: 200 | train_mse: 37145.83177, val_mse: 46662.12889\n",
      "Epoch: 210 | train_mse: 34421.39376, val_mse: 39904.38278\n",
      "Epoch: 220 | train_mse: 42597.33382, val_mse: 54357.05217\n",
      "Epoch: 230 | train_mse: 33357.72176, val_mse: 44010.20004\n",
      "Epoch: 240 | train_mse: 30529.31092, val_mse: 32002.02260\n",
      "Epoch: 250 | train_mse: 29019.73360, val_mse: 38381.42402\n",
      "Epoch: 260 | train_mse: 25195.50050, val_mse: 31110.93069\n",
      "Epoch: 270 | train_mse: 26072.49955, val_mse: 26993.04256\n",
      "Epoch: 280 | train_mse: 23447.81680, val_mse: 25569.85348\n",
      "Epoch: 290 | train_mse: 23989.28461, val_mse: 32008.34519\n"
     ]
    },
    {
     "data": {
      "image/png": "[encoded data removed]",
      "text/plain": [
       "<Figure size 640x480 with 1 Axes>"
      ]
     },
     "metadata": {},
     "output_type": "display_data"
    }
   ],
   "source": [
    "import matplotlib.pyplot as plt\n",
    "\n",
    "num_epochs = 300\n",
    "train_mse = []\n",
    "val_mse = []\n",
    "\n",
    "for epoch in range(num_epochs):\n",
    "    # Training\n",
    "    model.fit(X_train, y_train)\n",
    "\n",
    "    # Evaluation\n",
    "    train_pred = model.predict(X_train)\n",
    "    val_pred = model.predict(X_val)    \n",
    "    train_mse.append(mean_squared_error(y_train, train_pred))\n",
    "    val_mse.append(mean_squared_error(y_val, val_pred))\n",
    "    \n",
    "    if not epoch%10:\n",
    "        print(\n",
    "            f\"Epoch: {epoch:02d} | \"\n",
    "            f\"train_mse: {train_mse[-1]:.5f}, \"\n",
    "            f\"val_mse: {val_mse[-1]:.5f}\"\n",
    "        )\n",
    "\n",
    "# Plot the MSE for each epoch\n",
    "plt.plot(train_mse, label='train')\n",
    "plt.plot(val_mse, label='validation')\n",
    "plt.xlabel('Epoch')\n",
    "plt.ylabel('MSE')\n",
    "plt.legend()\n",
    "plt.show()"
   ]
  },
  {
   "cell_type": "markdown",
   "id": "30dc9096",
   "metadata": {},
   "source": [
    " "
   ]
  },
  {
   "cell_type": "markdown",
   "id": "db93bac7",
   "metadata": {},
   "source": [
    "## Testing models with different combination of features"
   ]
  },
  {
   "cell_type": "code",
   "execution_count": 36,
   "id": "9e25eb49",
   "metadata": {},
   "outputs": [
    {
     "data": {
      "text/plain": [
       "Calories             1.000000\n",
       "Time                 0.955622\n",
       "Distance             0.950508\n",
       "Number of Laps       0.944696\n",
       "Elev Gain            0.767314\n",
       "Elev Loss            0.763612\n",
       "Avg Pace             0.242882\n",
       "Max HR               0.236209\n",
       "Avg HR               0.104829\n",
       "Best Pace            0.054429\n",
       "Max Run Cadence     -0.216974\n",
       "Avg Stride Length   -0.299361\n",
       "Avg Run Cadence     -0.366149\n",
       "Name: Calories, dtype: float64"
      ]
     },
     "execution_count": 36,
     "metadata": {},
     "output_type": "execute_result"
    }
   ],
   "source": [
    "df.corr(numeric_only=True)['Calories'].sort_values(ascending=False)"
   ]
  },
  {
   "cell_type": "code",
   "execution_count": 37,
   "id": "ae14e463",
   "metadata": {},
   "outputs": [],
   "source": [
    "new_df = df_for_model.drop(['Max HR', 'Best Pace', 'Max Run Cadence', 'Avg Stride Length'], axis=1)"
   ]
  },
  {
   "cell_type": "code",
   "execution_count": 38,
   "id": "9a66d969",
   "metadata": {},
   "outputs": [],
   "source": [
    "X_train, X_val, X_test, y_train, y_val, y_test = get_data_splits(X=new_df.drop('Calories', axis=1), y=new_df['Calories'])"
   ]
  },
  {
   "cell_type": "markdown",
   "id": "ddeac0dc",
   "metadata": {},
   "source": [
    "### Linear Regression"
   ]
  },
  {
   "cell_type": "code",
   "execution_count": 39,
   "id": "f0581bf2",
   "metadata": {},
   "outputs": [
    {
     "name": "stdout",
     "output_type": "stream",
     "text": [
      "Root mean squared error: 64.12 calories\n",
      "Mean absolute error: 44.54 calories\n",
      "\n",
      "Outcomes: [57.92225573 93.5023716  58.70922722 86.02391241 92.60274924 68.03373995\n",
      " 64.38318104 82.15636907 87.38622441 68.67914931]\n",
      "Mean: 75.93991799660951\n",
      "Standard deviation: 13.144414404180528\n"
     ]
    }
   ],
   "source": [
    "lin_reg = LinearRegression()\n",
    "# Train model on the training set\n",
    "lin_reg.fit(X_train, y_train)\n",
    "# Predict values \n",
    "y_pred = lin_reg.predict(X_test)\n",
    "# Evaluate the model on the test set\n",
    "mse = mean_squared_error(y_test, y_pred, squared=False)\n",
    "mae = mean_absolute_error(y_test, y_pred)\n",
    "print(f'Root mean squared error: {mse:.2f} calories')\n",
    "print(f'Mean absolute error: {mae:.2f} calories')\n",
    "\n",
    "scores = cross_val_score(lin_reg, X_train, y_train, scoring='neg_mean_squared_error', cv=10)\n",
    "scores = np.sqrt(-scores)\n",
    "print('\\nOutcomes:', scores)\n",
    "print('Mean:', scores.mean())\n",
    "print('Standard deviation:', scores.std())"
   ]
  },
  {
   "cell_type": "markdown",
   "id": "88b67ad6",
   "metadata": {},
   "source": [
    "### Linear Regression with Polynomial Features"
   ]
  },
  {
   "cell_type": "code",
   "execution_count": 40,
   "id": "b2dd403e",
   "metadata": {
    "scrolled": true
   },
   "outputs": [
    {
     "name": "stdout",
     "output_type": "stream",
     "text": [
      "Root mean squared error: 45.39 calories\n",
      "Mean absolute error: 29.73 calories\n",
      "\n",
      "Outcomes: [37.22197739 50.341404   31.87968289 44.14693275 46.37864098 40.59431665\n",
      " 42.49243655 48.20695616 56.68468381 50.21788391]\n",
      "Mean: 44.81649150825335\n",
      "Standard deviation: 6.805903399204066\n"
     ]
    }
   ],
   "source": [
    "polynomial_regression = make_pipeline(\n",
    "    PolynomialFeatures(include_bias=False),\n",
    "    LinearRegression()\n",
    ")\n",
    "# Train model on training set\n",
    "polynomial_regression.fit(X_train, y_train)\n",
    "# Predict valeus \n",
    "y_pred = polynomial_regression.predict(X_test)\n",
    "# Evalueate the model on the test set\n",
    "mse = mean_squared_error(y_test, y_pred, squared=False)\n",
    "mae = mean_absolute_error(y_test, y_pred)\n",
    "print(f'Root mean squared error: {mse:.2f} calories')\n",
    "print(f'Mean absolute error: {mae:.2f} calories')\n",
    "\n",
    "scores = cross_val_score(polynomial_regression, X_train, y_train, scoring='neg_mean_squared_error', cv=10)\n",
    "scores = np.sqrt(-scores)\n",
    "print('\\nOutcomes:', scores)\n",
    "print('Mean:', scores.mean())\n",
    "print('Standard deviation:', scores.std())"
   ]
  },
  {
   "cell_type": "markdown",
   "id": "c180862a",
   "metadata": {},
   "source": [
    "### -->SVM Regressor"
   ]
  },
  {
   "cell_type": "code",
   "execution_count": 42,
   "id": "60b8eea6",
   "metadata": {},
   "outputs": [
    {
     "name": "stdout",
     "output_type": "stream",
     "text": [
      "Root mean squared error: 282.78 calories\n",
      "Mean absolute error: 214.50 calories\n",
      "\n",
      "Outcomes: [223.10835328 330.17757264 246.94185521 301.31299113 253.37620159\n",
      " 257.45625399 295.986131   324.50230541 270.12568411 277.02739194]\n",
      "Mean: 278.00147402889166\n",
      "Standard deviation: 32.89527160547896\n"
     ]
    }
   ],
   "source": [
    "from sklearn.svm import SVR\n",
    "\n",
    "svm_reg_pipe = make_pipeline(\n",
    "    StandardScaler(),\n",
    "    SVR()\n",
    ")\n",
    "# Train model on training set\n",
    "svm_reg_pipe.fit(X_train, y_train)\n",
    "y_pred = svm_reg_pipe.predict(X_test)\n",
    "# Evalueate the model on the test set\n",
    "mse = mean_squared_error(y_test, y_pred, squared=False)\n",
    "mae = mean_absolute_error(y_test, y_pred)\n",
    "print(f'Root mean squared error: {mse:.2f} calories')\n",
    "print(f'Mean absolute error: {mae:.2f} calories')\n",
    "\n",
    "scores = cross_val_score(svm_reg_pipe, X_train, y_train, scoring='neg_mean_squared_error', cv=10)\n",
    "scores = np.sqrt(-scores)\n",
    "print('\\nOutcomes:', scores)\n",
    "print('Mean:', scores.mean())\n",
    "print('Standard deviation:', scores.std())"
   ]
  },
  {
   "cell_type": "markdown",
   "id": "28728c63",
   "metadata": {},
   "source": [
    "### -->RandomForest Regressor"
   ]
  },
  {
   "cell_type": "code",
   "execution_count": 43,
   "id": "989d6e05",
   "metadata": {
    "scrolled": true
   },
   "outputs": [
    {
     "name": "stdout",
     "output_type": "stream",
     "text": [
      "Root mean squared error: 57.49 calories\n",
      "Mean absolute error: 36.37 calories\n"
     ]
    }
   ],
   "source": [
    "forest_reg = make_pipeline(\n",
    "    StandardScaler(),\n",
    "    RandomForestRegressor(n_estimators=500, min_samples_leaf=1, random_state=42)\n",
    ")\n",
    "# Train model on training set\n",
    "forest_reg.fit(X_train, y_train)\n",
    "y_pred = forest_reg.predict(X_test)\n",
    "# Evalueate the model on the test set\n",
    "mse = mean_squared_error(y_test, y_pred, squared=False)\n",
    "mae = mean_absolute_error(y_test, y_pred)\n",
    "print(f'Root mean squared error: {mse:.2f} calories')\n",
    "print(f'Mean absolute error: {mae:.2f} calories')\n",
    "\n",
    "# scores = cross_val_score(forest_reg, X_train, y_train, scoring='neg_mean_squared_error', cv=10)\n",
    "# scores = np.sqrt(-scores)\n",
    "# print('\\nOutcomes:', scores)\n",
    "# print('Mean:', scores.mean())\n",
    "# print('Standard deviation:', scores.std())"
   ]
  },
  {
   "cell_type": "code",
   "execution_count": 44,
   "id": "786c2852",
   "metadata": {},
   "outputs": [
    {
     "data": {
      "text/html": [
       "<div>\n",
       "<style scoped>\n",
       "    .dataframe tbody tr th:only-of-type {\n",
       "        vertical-align: middle;\n",
       "    }\n",
       "\n",
       "    .dataframe tbody tr th {\n",
       "        vertical-align: top;\n",
       "    }\n",
       "\n",
       "    .dataframe thead th {\n",
       "        text-align: right;\n",
       "    }\n",
       "</style>\n",
       "<table border=\"1\" class=\"dataframe\">\n",
       "  <thead>\n",
       "    <tr style=\"text-align: right;\">\n",
       "      <th></th>\n",
       "      <th>y_test</th>\n",
       "      <th>y_pred</th>\n",
       "    </tr>\n",
       "  </thead>\n",
       "  <tbody>\n",
       "    <tr>\n",
       "      <th>0</th>\n",
       "      <td>29</td>\n",
       "      <td>23.100</td>\n",
       "    </tr>\n",
       "    <tr>\n",
       "      <th>1</th>\n",
       "      <td>506</td>\n",
       "      <td>472.036</td>\n",
       "    </tr>\n",
       "    <tr>\n",
       "      <th>2</th>\n",
       "      <td>440</td>\n",
       "      <td>421.490</td>\n",
       "    </tr>\n",
       "    <tr>\n",
       "      <th>3</th>\n",
       "      <td>808</td>\n",
       "      <td>712.636</td>\n",
       "    </tr>\n",
       "    <tr>\n",
       "      <th>4</th>\n",
       "      <td>163</td>\n",
       "      <td>165.122</td>\n",
       "    </tr>\n",
       "  </tbody>\n",
       "</table>\n",
       "</div>"
      ],
      "text/plain": [
       "   y_test   y_pred\n",
       "0      29   23.100\n",
       "1     506  472.036\n",
       "2     440  421.490\n",
       "3     808  712.636\n",
       "4     163  165.122"
      ]
     },
     "execution_count": 44,
     "metadata": {},
     "output_type": "execute_result"
    }
   ],
   "source": [
    "pd.DataFrame({'y_test': y_test.values, 'y_pred': y_pred}).head()"
   ]
  },
  {
   "cell_type": "markdown",
   "id": "fc252273",
   "metadata": {},
   "source": [
    " "
   ]
  },
  {
   "cell_type": "markdown",
   "id": "a0279168",
   "metadata": {},
   "source": [
    "## Warning!!!"
   ]
  },
  {
   "cell_type": "markdown",
   "id": "86b55617",
   "metadata": {},
   "source": [
    "**This may take a few minutes!!!**"
   ]
  },
  {
   "cell_type": "code",
   "execution_count": 45,
   "id": "59e2d9ea",
   "metadata": {},
   "outputs": [
    {
     "name": "stdout",
     "output_type": "stream",
     "text": [
      "Best Hyperparameters: {'bootstrap': True, 'max_depth': 10, 'max_features': 1.0, 'min_samples_leaf': 2, 'min_samples_split': 2, 'n_estimators': 500}\n",
      "Best Score: -3061.2560565306753\n"
     ]
    }
   ],
   "source": [
    "# Define the hyperparameter parameters\n",
    "params = {\n",
    "    'n_estimators': np.arange(100, 1000, 100),\n",
    "    'max_depth': [None, 5, 10],\n",
    "    'min_samples_split': [2, 5, 10],\n",
    "    'min_samples_leaf': [1, 2, 4],\n",
    "    'max_features': [1.0, 'log2', 'sqrt'],\n",
    "    'bootstrap': [True, False]\n",
    "}\n",
    "\n",
    "# Create the Random Forest Regressor object\n",
    "rf_reg = RandomForestRegressor(random_state=42)\n",
    "# Create the RandomizedSearchCV object\n",
    "rs_reg = GridSearchCV(rf_reg, params, cv=5, scoring='neg_mean_squared_error', n_jobs=-1)\n",
    "# Train the RandomizedSearchCV object on the training set\n",
    "rs_reg.fit(X_train, y_train)\n",
    "\n",
    "# Print the best hyperparameters found\n",
    "print('Best Hyperparameters:', rs_reg.best_params_)\n",
    "print('Best Score:', rs_reg.best_score_)"
   ]
  },
  {
   "cell_type": "code",
   "execution_count": 46,
   "id": "b93bc151",
   "metadata": {},
   "outputs": [
    {
     "name": "stdout",
     "output_type": "stream",
     "text": [
      "Root mean squared error: 59.74 calories\n",
      "Mean absolute error: 37.77 calories\n",
      "\n",
      "Outcomes: [28.77813547 87.61723989 46.54994839 67.43715268 50.62853139 53.53637372\n",
      " 41.98933246 49.32301361 47.35810627 52.70868291]\n",
      "Mean: 52.592651681506894\n",
      "Standard deviation: 14.852641700818486\n"
     ]
    }
   ],
   "source": [
    "forest_reg_best_params = RandomForestRegressor(**rs_reg.best_params_)\n",
    "# Train model on training set\n",
    "forest_reg_best_params.fit(X_train, y_train)\n",
    "y_pred = forest_reg_best_params.predict(X_test)\n",
    "# Evaluate the model on the test set\n",
    "mse = mean_squared_error(y_test, y_pred, squared=False)\n",
    "mae = mean_absolute_error(y_test, y_pred)\n",
    "print(f'Root mean squared error: {mse:.2f} calories')\n",
    "print(f'Mean absolute error: {mae:.2f} calories')\n",
    "\n",
    "scores = cross_val_score(forest_reg_best_params, X_train, y_train, scoring='neg_mean_squared_error', cv=10)\n",
    "scores = np.sqrt(-scores)\n",
    "print('\\nOutcomes:', scores)\n",
    "print('Mean:', scores.mean())\n",
    "print('Standard deviation:', scores.std())"
   ]
  },
  {
   "cell_type": "code",
   "execution_count": 47,
   "id": "c0626324",
   "metadata": {},
   "outputs": [
    {
     "data": {
      "text/html": [
       "<div>\n",
       "<style scoped>\n",
       "    .dataframe tbody tr th:only-of-type {\n",
       "        vertical-align: middle;\n",
       "    }\n",
       "\n",
       "    .dataframe tbody tr th {\n",
       "        vertical-align: top;\n",
       "    }\n",
       "\n",
       "    .dataframe thead th {\n",
       "        text-align: right;\n",
       "    }\n",
       "</style>\n",
       "<table border=\"1\" class=\"dataframe\">\n",
       "  <thead>\n",
       "    <tr style=\"text-align: right;\">\n",
       "      <th></th>\n",
       "      <th>Distance</th>\n",
       "      <th>Calories</th>\n",
       "      <th>Time</th>\n",
       "      <th>Avg HR</th>\n",
       "      <th>Avg Run Cadence</th>\n",
       "      <th>Avg Pace</th>\n",
       "      <th>Elev Gain</th>\n",
       "      <th>Elev Loss</th>\n",
       "    </tr>\n",
       "  </thead>\n",
       "  <tbody>\n",
       "    <tr>\n",
       "      <th>0</th>\n",
       "      <td>9.66</td>\n",
       "      <td>530</td>\n",
       "      <td>2635</td>\n",
       "      <td>141</td>\n",
       "      <td>176</td>\n",
       "      <td>273</td>\n",
       "      <td>169.0</td>\n",
       "      <td>173.0</td>\n",
       "    </tr>\n",
       "    <tr>\n",
       "      <th>1</th>\n",
       "      <td>10.46</td>\n",
       "      <td>587</td>\n",
       "      <td>2824</td>\n",
       "      <td>144</td>\n",
       "      <td>172</td>\n",
       "      <td>270</td>\n",
       "      <td>183.0</td>\n",
       "      <td>187.0</td>\n",
       "    </tr>\n",
       "    <tr>\n",
       "      <th>2</th>\n",
       "      <td>8.06</td>\n",
       "      <td>392</td>\n",
       "      <td>2429</td>\n",
       "      <td>128</td>\n",
       "      <td>170</td>\n",
       "      <td>301</td>\n",
       "      <td>124.0</td>\n",
       "      <td>124.0</td>\n",
       "    </tr>\n",
       "    <tr>\n",
       "      <th>3</th>\n",
       "      <td>11.28</td>\n",
       "      <td>633</td>\n",
       "      <td>3175</td>\n",
       "      <td>142</td>\n",
       "      <td>172</td>\n",
       "      <td>281</td>\n",
       "      <td>215.0</td>\n",
       "      <td>219.0</td>\n",
       "    </tr>\n",
       "    <tr>\n",
       "      <th>4</th>\n",
       "      <td>8.35</td>\n",
       "      <td>419</td>\n",
       "      <td>2495</td>\n",
       "      <td>129</td>\n",
       "      <td>170</td>\n",
       "      <td>299</td>\n",
       "      <td>76.0</td>\n",
       "      <td>80.0</td>\n",
       "    </tr>\n",
       "  </tbody>\n",
       "</table>\n",
       "</div>"
      ],
      "text/plain": [
       "   Distance  Calories  Time  Avg HR  Avg Run Cadence  Avg Pace  Elev Gain  \\\n",
       "0      9.66       530  2635     141              176       273      169.0   \n",
       "1     10.46       587  2824     144              172       270      183.0   \n",
       "2      8.06       392  2429     128              170       301      124.0   \n",
       "3     11.28       633  3175     142              172       281      215.0   \n",
       "4      8.35       419  2495     129              170       299       76.0   \n",
       "\n",
       "   Elev Loss  \n",
       "0      173.0  \n",
       "1      187.0  \n",
       "2      124.0  \n",
       "3      219.0  \n",
       "4       80.0  "
      ]
     },
     "execution_count": 47,
     "metadata": {},
     "output_type": "execute_result"
    }
   ],
   "source": [
    "new_df.head()"
   ]
  },
  {
   "cell_type": "markdown",
   "id": "635e18c2",
   "metadata": {},
   "source": [
    "## Testing models on new data"
   ]
  },
  {
   "cell_type": "code",
   "execution_count": 51,
   "id": "8a39c266",
   "metadata": {
    "scrolled": true
   },
   "outputs": [
    {
     "data": {
      "text/html": [
       "<div>\n",
       "<style scoped>\n",
       "    .dataframe tbody tr th:only-of-type {\n",
       "        vertical-align: middle;\n",
       "    }\n",
       "\n",
       "    .dataframe tbody tr th {\n",
       "        vertical-align: top;\n",
       "    }\n",
       "\n",
       "    .dataframe thead th {\n",
       "        text-align: right;\n",
       "    }\n",
       "</style>\n",
       "<table border=\"1\" class=\"dataframe\">\n",
       "  <thead>\n",
       "    <tr style=\"text-align: right;\">\n",
       "      <th></th>\n",
       "      <th>Distance</th>\n",
       "      <th>Time</th>\n",
       "      <th>Avg HR</th>\n",
       "      <th>Avg Run Cadence</th>\n",
       "      <th>Avg Pace</th>\n",
       "      <th>Elev Gain</th>\n",
       "      <th>Elev Loss</th>\n",
       "    </tr>\n",
       "  </thead>\n",
       "  <tbody>\n",
       "    <tr>\n",
       "      <th>0</th>\n",
       "      <td>7.85</td>\n",
       "      <td>2387</td>\n",
       "      <td>148</td>\n",
       "      <td>174</td>\n",
       "      <td>305</td>\n",
       "      <td>132.0</td>\n",
       "      <td>129.0</td>\n",
       "    </tr>\n",
       "    <tr>\n",
       "      <th>1</th>\n",
       "      <td>6.75</td>\n",
       "      <td>2124</td>\n",
       "      <td>138</td>\n",
       "      <td>169</td>\n",
       "      <td>315</td>\n",
       "      <td>156.0</td>\n",
       "      <td>143.0</td>\n",
       "    </tr>\n",
       "    <tr>\n",
       "      <th>2</th>\n",
       "      <td>9.12</td>\n",
       "      <td>2745</td>\n",
       "      <td>152</td>\n",
       "      <td>181</td>\n",
       "      <td>301</td>\n",
       "      <td>189.0</td>\n",
       "      <td>167.0</td>\n",
       "    </tr>\n",
       "    <tr>\n",
       "      <th>3</th>\n",
       "      <td>8.93</td>\n",
       "      <td>2678</td>\n",
       "      <td>146</td>\n",
       "      <td>179</td>\n",
       "      <td>299</td>\n",
       "      <td>174.0</td>\n",
       "      <td>152.0</td>\n",
       "    </tr>\n",
       "    <tr>\n",
       "      <th>4</th>\n",
       "      <td>5.27</td>\n",
       "      <td>1885</td>\n",
       "      <td>134</td>\n",
       "      <td>163</td>\n",
       "      <td>358</td>\n",
       "      <td>92.0</td>\n",
       "      <td>81.0</td>\n",
       "    </tr>\n",
       "    <tr>\n",
       "      <th>5</th>\n",
       "      <td>6.20</td>\n",
       "      <td>2164</td>\n",
       "      <td>166</td>\n",
       "      <td>156</td>\n",
       "      <td>349</td>\n",
       "      <td>236.0</td>\n",
       "      <td>221.0</td>\n",
       "    </tr>\n",
       "  </tbody>\n",
       "</table>\n",
       "</div>"
      ],
      "text/plain": [
       "   Distance  Time  Avg HR  Avg Run Cadence  Avg Pace  Elev Gain  Elev Loss\n",
       "0      7.85  2387     148              174       305      132.0      129.0\n",
       "1      6.75  2124     138              169       315      156.0      143.0\n",
       "2      9.12  2745     152              181       301      189.0      167.0\n",
       "3      8.93  2678     146              179       299      174.0      152.0\n",
       "4      5.27  1885     134              163       358       92.0       81.0\n",
       "5      6.20  2164     166              156       349      236.0      221.0"
      ]
     },
     "execution_count": 51,
     "metadata": {},
     "output_type": "execute_result"
    }
   ],
   "source": [
    "import pandas as pd\n",
    "\n",
    "new_test_data = pd.DataFrame({\n",
    "        'Distance': [7.85, 6.75, 9.12, 8.93, 5.27, 6.20],\n",
    "        'Time': [2387, 2124, 2745, 2678, 1885, 2164],\n",
    "        'Avg HR': [148, 138, 152, 146, 134, 166],\n",
    "        'Avg Run Cadence': [174, 169, 181, 179, 163, 156],\n",
    "        'Avg Pace': [305, 315, 301, 299, 358, 349],\n",
    "        'Elev Gain': [132.0, 156.0, 189.0, 174.0, 92.0, 236.0],\n",
    "        'Elev Loss': [129.0, 143.0, 167.0, 152.0, 81.0, 221.0]\n",
    "    })\n",
    "new_test_data"
   ]
  },
  {
   "cell_type": "code",
   "execution_count": 52,
   "id": "46f7e925",
   "metadata": {
    "scrolled": true
   },
   "outputs": [
    {
     "name": "stdout",
     "output_type": "stream",
     "text": [
      "\n",
      "Polynomial regressor: [480.31123731 399.4076742  505.52903543 473.87670635 350.79492447\n",
      " 572.55717478] \n",
      "RandomForest regressor: [454.726 385.068 554.302 535.362 330.368 434.54 ]\n",
      "RandomForest regressor with best params: [451.32584959 387.6215676  552.20992277 531.85883046 333.33153333\n",
      " 442.68254921]\n",
      "\n"
     ]
    }
   ],
   "source": [
    "predict_calories_pol = polynomial_regression.predict(new_test_data)\n",
    "predict_calories_forest = forest_reg.predict(new_test_data)\n",
    "predict_calories_forest_rs = forest_reg_best_params.predict(new_test_data)\n",
    "print(f'''\n",
    "Polynomial regressor: {predict_calories_pol} \n",
    "RandomForest regressor: {predict_calories_forest}\n",
    "RandomForest regressor with best params: {predict_calories_forest_rs}\n",
    "''')"
   ]
  }
 ],
 "metadata": {
  "kernelspec": {
   "display_name": "Python 3 (ipykernel)",
   "language": "python",
   "name": "python3"
  },
  "language_info": {
   "codemirror_mode": {
    "name": "ipython",
    "version": 3
   },
   "file_extension": ".py",
   "mimetype": "text/x-python",
   "name": "python",
   "nbconvert_exporter": "python",
   "pygments_lexer": "ipython3",
   "version": "3.11.2"
  }
 },
 "nbformat": 4,
 "nbformat_minor": 5
}
