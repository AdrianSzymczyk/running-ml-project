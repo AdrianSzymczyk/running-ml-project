{
 "cells": [
  {
   "cell_type": "code",
   "execution_count": 1,
   "id": "719658b8",
   "metadata": {},
   "outputs": [],
   "source": [
    "import numpy as np\n",
    "import pandas as pd\n",
    "import os\n",
    "from datetime import time, datetime, timedelta"
   ]
  },
  {
   "cell_type": "markdown",
   "id": "3fb655f1",
   "metadata": {},
   "source": [
    "Project of predicting the time of a running activity"
   ]
  },
  {
   "cell_type": "markdown",
   "id": "b9615b71",
   "metadata": {},
   "source": [
    "# Load data"
   ]
  },
  {
   "cell_type": "code",
   "execution_count": 2,
   "id": "faffe4db",
   "metadata": {},
   "outputs": [
    {
     "data": {
      "text/html": [
       "<div>\n",
       "<style scoped>\n",
       "    .dataframe tbody tr th:only-of-type {\n",
       "        vertical-align: middle;\n",
       "    }\n",
       "\n",
       "    .dataframe tbody tr th {\n",
       "        vertical-align: top;\n",
       "    }\n",
       "\n",
       "    .dataframe thead th {\n",
       "        text-align: right;\n",
       "    }\n",
       "</style>\n",
       "<table border=\"1\" class=\"dataframe\">\n",
       "  <thead>\n",
       "    <tr style=\"text-align: right;\">\n",
       "      <th></th>\n",
       "      <th>Activity Type</th>\n",
       "      <th>Date</th>\n",
       "      <th>Title</th>\n",
       "      <th>Distance</th>\n",
       "      <th>Calories</th>\n",
       "      <th>Time</th>\n",
       "      <th>Avg HR</th>\n",
       "      <th>Max HR</th>\n",
       "      <th>Avg Run Cadence</th>\n",
       "      <th>Max Run Cadence</th>\n",
       "      <th>Avg Pace</th>\n",
       "      <th>Best Pace</th>\n",
       "      <th>Elev Gain</th>\n",
       "      <th>Elev Loss</th>\n",
       "      <th>Avg Stride Length</th>\n",
       "      <th>Best Lap Time</th>\n",
       "      <th>Number of Laps</th>\n",
       "    </tr>\n",
       "  </thead>\n",
       "  <tbody>\n",
       "    <tr>\n",
       "      <th>0</th>\n",
       "      <td>Running</td>\n",
       "      <td>7/15/20 9:41</td>\n",
       "      <td>Cherry Hill Running</td>\n",
       "      <td>6.00</td>\n",
       "      <td>530</td>\n",
       "      <td>0:43:55</td>\n",
       "      <td>141</td>\n",
       "      <td>160</td>\n",
       "      <td>176</td>\n",
       "      <td>182</td>\n",
       "      <td>7:19</td>\n",
       "      <td>6:20</td>\n",
       "      <td>169</td>\n",
       "      <td>173</td>\n",
       "      <td>1.26</td>\n",
       "      <td>00:02.3</td>\n",
       "      <td>7</td>\n",
       "    </tr>\n",
       "    <tr>\n",
       "      <th>1</th>\n",
       "      <td>Running</td>\n",
       "      <td>7/14/20 17:45</td>\n",
       "      <td>Cherry Hill Running</td>\n",
       "      <td>6.50</td>\n",
       "      <td>587</td>\n",
       "      <td>0:47:04</td>\n",
       "      <td>144</td>\n",
       "      <td>160</td>\n",
       "      <td>172</td>\n",
       "      <td>182</td>\n",
       "      <td>7:14</td>\n",
       "      <td>6:35</td>\n",
       "      <td>183</td>\n",
       "      <td>187</td>\n",
       "      <td>1.29</td>\n",
       "      <td>03:32.7</td>\n",
       "      <td>7</td>\n",
       "    </tr>\n",
       "    <tr>\n",
       "      <th>2</th>\n",
       "      <td>Running</td>\n",
       "      <td>7/13/20 18:57</td>\n",
       "      <td>Cherry Hill Running</td>\n",
       "      <td>5.01</td>\n",
       "      <td>392</td>\n",
       "      <td>0:40:29</td>\n",
       "      <td>128</td>\n",
       "      <td>151</td>\n",
       "      <td>170</td>\n",
       "      <td>180</td>\n",
       "      <td>8:05</td>\n",
       "      <td>5:49</td>\n",
       "      <td>124</td>\n",
       "      <td>124</td>\n",
       "      <td>1.17</td>\n",
       "      <td>00:04.1</td>\n",
       "      <td>6</td>\n",
       "    </tr>\n",
       "    <tr>\n",
       "      <th>3</th>\n",
       "      <td>Running</td>\n",
       "      <td>7/12/20 18:44</td>\n",
       "      <td>Cherry Hill Running</td>\n",
       "      <td>7.01</td>\n",
       "      <td>633</td>\n",
       "      <td>0:52:55</td>\n",
       "      <td>142</td>\n",
       "      <td>157</td>\n",
       "      <td>172</td>\n",
       "      <td>180</td>\n",
       "      <td>7:33</td>\n",
       "      <td>5:00</td>\n",
       "      <td>215</td>\n",
       "      <td>219</td>\n",
       "      <td>1.24</td>\n",
       "      <td>00:05.1</td>\n",
       "      <td>8</td>\n",
       "    </tr>\n",
       "    <tr>\n",
       "      <th>4</th>\n",
       "      <td>Running</td>\n",
       "      <td>7/11/20 19:35</td>\n",
       "      <td>Cherry Hill Running</td>\n",
       "      <td>5.19</td>\n",
       "      <td>419</td>\n",
       "      <td>0:41:35</td>\n",
       "      <td>129</td>\n",
       "      <td>143</td>\n",
       "      <td>170</td>\n",
       "      <td>178</td>\n",
       "      <td>8:01</td>\n",
       "      <td>6:48</td>\n",
       "      <td>76</td>\n",
       "      <td>80</td>\n",
       "      <td>1.18</td>\n",
       "      <td>01:27.1</td>\n",
       "      <td>6</td>\n",
       "    </tr>\n",
       "  </tbody>\n",
       "</table>\n",
       "</div>"
      ],
      "text/plain": [
       "  Activity Type           Date                Title  Distance Calories  \\\n",
       "0       Running   7/15/20 9:41  Cherry Hill Running      6.00      530   \n",
       "1       Running  7/14/20 17:45  Cherry Hill Running      6.50      587   \n",
       "2       Running  7/13/20 18:57  Cherry Hill Running      5.01      392   \n",
       "3       Running  7/12/20 18:44  Cherry Hill Running      7.01      633   \n",
       "4       Running  7/11/20 19:35  Cherry Hill Running      5.19      419   \n",
       "\n",
       "      Time Avg HR Max HR Avg Run Cadence Max Run Cadence Avg Pace Best Pace  \\\n",
       "0  0:43:55    141    160             176             182     7:19      6:20   \n",
       "1  0:47:04    144    160             172             182     7:14      6:35   \n",
       "2  0:40:29    128    151             170             180     8:05      5:49   \n",
       "3  0:52:55    142    157             172             180     7:33      5:00   \n",
       "4  0:41:35    129    143             170             178     8:01      6:48   \n",
       "\n",
       "  Elev Gain Elev Loss  Avg Stride Length Best Lap Time  Number of Laps  \n",
       "0       169       173               1.26       00:02.3               7  \n",
       "1       183       187               1.29       03:32.7               7  \n",
       "2       124       124               1.17       00:04.1               6  \n",
       "3       215       219               1.24       00:05.1               8  \n",
       "4        76        80               1.18       01:27.1               6  "
      ]
     },
     "execution_count": 2,
     "metadata": {},
     "output_type": "execute_result"
    }
   ],
   "source": [
    "# Extract project df\n",
    "PROJECT_URL = 'https://raw.githubusercontent.com/AdrianSzymczyk/running-ml-project/main/data/activity_log.csv'\n",
    "df = pd.read_csv(PROJECT_URL)\n",
    "df.head()"
   ]
  },
  {
   "cell_type": "code",
   "execution_count": 3,
   "id": "31cd277d",
   "metadata": {},
   "outputs": [
    {
     "name": "stdout",
     "output_type": "stream",
     "text": [
      "<class 'pandas.core.frame.DataFrame'>\n",
      "RangeIndex: 689 entries, 0 to 688\n",
      "Data columns (total 17 columns):\n",
      " #   Column             Non-Null Count  Dtype  \n",
      "---  ------             --------------  -----  \n",
      " 0   Activity Type      689 non-null    object \n",
      " 1   Date               689 non-null    object \n",
      " 2   Title              689 non-null    object \n",
      " 3   Distance           689 non-null    float64\n",
      " 4   Calories           689 non-null    object \n",
      " 5   Time               689 non-null    object \n",
      " 6   Avg HR             689 non-null    object \n",
      " 7   Max HR             689 non-null    object \n",
      " 8   Avg Run Cadence    689 non-null    object \n",
      " 9   Max Run Cadence    689 non-null    object \n",
      " 10  Avg Pace           689 non-null    object \n",
      " 11  Best Pace          689 non-null    object \n",
      " 12  Elev Gain          689 non-null    object \n",
      " 13  Elev Loss          689 non-null    object \n",
      " 14  Avg Stride Length  689 non-null    float64\n",
      " 15  Best Lap Time      689 non-null    object \n",
      " 16  Number of Laps     689 non-null    int64  \n",
      "dtypes: float64(2), int64(1), object(14)\n",
      "memory usage: 91.6+ KB\n"
     ]
    }
   ],
   "source": [
    "df.info()"
   ]
  },
  {
   "cell_type": "markdown",
   "id": "4fa329c8",
   "metadata": {},
   "source": [
    "# Preprocessing"
   ]
  },
  {
   "cell_type": "markdown",
   "id": "f48e373d",
   "metadata": {},
   "source": [
    "### Delete rows with missing values "
   ]
  },
  {
   "cell_type": "code",
   "execution_count": 4,
   "id": "ebcf804a",
   "metadata": {},
   "outputs": [],
   "source": [
    "df = df[~df[['Distance', 'Avg HR', 'Max HR', 'Avg Pace', 'Avg Run Cadence', 'Elev Gain', 'Elev Loss']].isin(['--']).any(axis=1)]"
   ]
  },
  {
   "cell_type": "markdown",
   "id": "3532d08b",
   "metadata": {},
   "source": [
    "#### Reset indices after deleting rows"
   ]
  },
  {
   "cell_type": "code",
   "execution_count": 5,
   "id": "d7b7d7b1",
   "metadata": {},
   "outputs": [],
   "source": [
    "df = df.reset_index(drop=True)"
   ]
  },
  {
   "cell_type": "markdown",
   "id": "5bd6b009",
   "metadata": {},
   "source": [
    "## Convert Avg HR Max HR columns into numeric type"
   ]
  },
  {
   "cell_type": "code",
   "execution_count": 6,
   "id": "b473d5cf",
   "metadata": {},
   "outputs": [],
   "source": [
    "df['Elev Gain'] = df['Elev Gain'].apply(lambda x: int(str(x).replace(',', '')))\n",
    "df['Elev Loss'] = df['Elev Loss'].apply(lambda x: int(str(x).replace(',', '')))"
   ]
  },
  {
   "cell_type": "code",
   "execution_count": 7,
   "id": "8596127a",
   "metadata": {},
   "outputs": [],
   "source": [
    "df['Avg HR'] = df['Avg HR'].astype(int)\n",
    "df['Max HR'] = df['Max HR'].astype(int)\n",
    "df['Avg Run Cadence'] = df['Avg Run Cadence'].astype(int)\n",
    "df['Max Run Cadence'] = df['Max Run Cadence'].astype(int)\n",
    "df['Elev Gain'] = df['Elev Gain'].astype(float)\n",
    "df['Elev Loss'] = df['Elev Loss'].astype(float)"
   ]
  },
  {
   "cell_type": "markdown",
   "id": "bf7758fb",
   "metadata": {},
   "source": [
    "### Fix problem with missing leading zeros in Time column"
   ]
  },
  {
   "cell_type": "markdown",
   "id": "4994830c",
   "metadata": {},
   "source": [
    "#### Convert column Time values with format %M:%S.%MS to format %H:%M:%S"
   ]
  },
  {
   "cell_type": "code",
   "execution_count": 8,
   "id": "78fd859f",
   "metadata": {
    "scrolled": false
   },
   "outputs": [],
   "source": [
    "invalid_time_indices = df[df['Time'].apply(lambda x: x[-2] == '.')].index"
   ]
  },
  {
   "cell_type": "code",
   "execution_count": 9,
   "id": "d2ad35a9",
   "metadata": {
    "scrolled": false
   },
   "outputs": [],
   "source": [
    "df['Time'] = df['Time'].apply(lambda x: datetime.strptime(x, '%M:%S.%f').time() if(x[-2] == '.') else datetime.strptime(x, '%H:%M:%S').time())"
   ]
  },
  {
   "cell_type": "markdown",
   "id": "121e3d49",
   "metadata": {},
   "source": [
    "### Convert data units from Miles to Kilometers"
   ]
  },
  {
   "cell_type": "code",
   "execution_count": 10,
   "id": "098ec75e",
   "metadata": {
    "scrolled": true
   },
   "outputs": [
    {
     "data": {
      "text/html": [
       "<div>\n",
       "<style scoped>\n",
       "    .dataframe tbody tr th:only-of-type {\n",
       "        vertical-align: middle;\n",
       "    }\n",
       "\n",
       "    .dataframe tbody tr th {\n",
       "        vertical-align: top;\n",
       "    }\n",
       "\n",
       "    .dataframe thead th {\n",
       "        text-align: right;\n",
       "    }\n",
       "</style>\n",
       "<table border=\"1\" class=\"dataframe\">\n",
       "  <thead>\n",
       "    <tr style=\"text-align: right;\">\n",
       "      <th></th>\n",
       "      <th>Activity Type</th>\n",
       "      <th>Date</th>\n",
       "      <th>Title</th>\n",
       "      <th>Distance</th>\n",
       "      <th>Calories</th>\n",
       "      <th>Time</th>\n",
       "      <th>Avg HR</th>\n",
       "      <th>Max HR</th>\n",
       "      <th>Avg Run Cadence</th>\n",
       "      <th>Max Run Cadence</th>\n",
       "      <th>Avg Pace</th>\n",
       "      <th>Best Pace</th>\n",
       "      <th>Elev Gain</th>\n",
       "      <th>Elev Loss</th>\n",
       "      <th>Avg Stride Length</th>\n",
       "      <th>Best Lap Time</th>\n",
       "      <th>Number of Laps</th>\n",
       "    </tr>\n",
       "  </thead>\n",
       "  <tbody>\n",
       "    <tr>\n",
       "      <th>0</th>\n",
       "      <td>Running</td>\n",
       "      <td>7/15/20 9:41</td>\n",
       "      <td>Cherry Hill Running</td>\n",
       "      <td>6.0</td>\n",
       "      <td>530</td>\n",
       "      <td>00:43:55</td>\n",
       "      <td>141</td>\n",
       "      <td>160</td>\n",
       "      <td>176</td>\n",
       "      <td>182</td>\n",
       "      <td>7:19</td>\n",
       "      <td>6:20</td>\n",
       "      <td>169.0</td>\n",
       "      <td>173.0</td>\n",
       "      <td>1.26</td>\n",
       "      <td>00:02.3</td>\n",
       "      <td>7</td>\n",
       "    </tr>\n",
       "    <tr>\n",
       "      <th>1</th>\n",
       "      <td>Running</td>\n",
       "      <td>7/14/20 17:45</td>\n",
       "      <td>Cherry Hill Running</td>\n",
       "      <td>6.5</td>\n",
       "      <td>587</td>\n",
       "      <td>00:47:04</td>\n",
       "      <td>144</td>\n",
       "      <td>160</td>\n",
       "      <td>172</td>\n",
       "      <td>182</td>\n",
       "      <td>7:14</td>\n",
       "      <td>6:35</td>\n",
       "      <td>183.0</td>\n",
       "      <td>187.0</td>\n",
       "      <td>1.29</td>\n",
       "      <td>03:32.7</td>\n",
       "      <td>7</td>\n",
       "    </tr>\n",
       "  </tbody>\n",
       "</table>\n",
       "</div>"
      ],
      "text/plain": [
       "  Activity Type           Date                Title  Distance Calories  \\\n",
       "0       Running   7/15/20 9:41  Cherry Hill Running       6.0      530   \n",
       "1       Running  7/14/20 17:45  Cherry Hill Running       6.5      587   \n",
       "\n",
       "       Time  Avg HR  Max HR  Avg Run Cadence  Max Run Cadence Avg Pace  \\\n",
       "0  00:43:55     141     160              176              182     7:19   \n",
       "1  00:47:04     144     160              172              182     7:14   \n",
       "\n",
       "  Best Pace  Elev Gain  Elev Loss  Avg Stride Length Best Lap Time  \\\n",
       "0      6:20      169.0      173.0               1.26       00:02.3   \n",
       "1      6:35      183.0      187.0               1.29       03:32.7   \n",
       "\n",
       "   Number of Laps  \n",
       "0               7  \n",
       "1               7  "
      ]
     },
     "execution_count": 10,
     "metadata": {},
     "output_type": "execute_result"
    }
   ],
   "source": [
    "df.head(2)"
   ]
  },
  {
   "cell_type": "markdown",
   "id": "4c8f854e",
   "metadata": {},
   "source": [
    "#### Distance conversion"
   ]
  },
  {
   "cell_type": "code",
   "execution_count": 11,
   "id": "00630eb6",
   "metadata": {},
   "outputs": [],
   "source": [
    "df['Distance'] = df['Distance'].apply(lambda x: round(x * 1.60934, 2))"
   ]
  },
  {
   "cell_type": "markdown",
   "id": "6bf56757",
   "metadata": {},
   "source": [
    "#### Pace conversion "
   ]
  },
  {
   "cell_type": "code",
   "execution_count": 12,
   "id": "78027108",
   "metadata": {},
   "outputs": [],
   "source": [
    "def pace_to_km(pace):\n",
    "    mile = 1.60934 \n",
    "    minutes, seconds = pace.split(':')\n",
    "    pace_in_seconds = int(minutes) * 60 + int(seconds)\n",
    "    pace_per_km = round(pace_in_seconds / mile)\n",
    "    return pace_per_km"
   ]
  },
  {
   "cell_type": "markdown",
   "id": "996eaf04",
   "metadata": {},
   "source": [
    "#### Avg Pace conversion"
   ]
  },
  {
   "cell_type": "code",
   "execution_count": 13,
   "id": "06035d7e",
   "metadata": {},
   "outputs": [],
   "source": [
    "df['Avg Pace'] = df['Avg Pace'].apply(pace_to_km)"
   ]
  },
  {
   "cell_type": "markdown",
   "id": "ea95522b",
   "metadata": {},
   "source": [
    "#### Best Pace conversion"
   ]
  },
  {
   "cell_type": "code",
   "execution_count": 14,
   "id": "764cc9f6",
   "metadata": {},
   "outputs": [],
   "source": [
    "df['Best Pace'] = df['Best Pace'].apply(pace_to_km)"
   ]
  },
  {
   "cell_type": "markdown",
   "id": "9efe5f1a",
   "metadata": {},
   "source": [
    "### Convert Time into numeric representation as total number of seconds"
   ]
  },
  {
   "cell_type": "code",
   "execution_count": 15,
   "id": "eb9f25d4",
   "metadata": {},
   "outputs": [],
   "source": [
    "df['Time'] = pd.to_timedelta(df['Time'].astype(str)).dt.total_seconds().astype(int)"
   ]
  },
  {
   "cell_type": "markdown",
   "id": "9a76fe99",
   "metadata": {},
   "source": [
    "## Drop columns which won't be usefull for out regression"
   ]
  },
  {
   "cell_type": "code",
   "execution_count": 17,
   "id": "5760e1ec",
   "metadata": {},
   "outputs": [],
   "source": [
    "df = df.drop(['Activity Type', 'Date', 'Title', 'Calories', 'Best Lap Time', 'Number of Laps'], axis=1)"
   ]
  },
  {
   "cell_type": "code",
   "execution_count": 70,
   "id": "daea5eab",
   "metadata": {},
   "outputs": [
    {
     "data": {
      "text/html": [
       "<div>\n",
       "<style scoped>\n",
       "    .dataframe tbody tr th:only-of-type {\n",
       "        vertical-align: middle;\n",
       "    }\n",
       "\n",
       "    .dataframe tbody tr th {\n",
       "        vertical-align: top;\n",
       "    }\n",
       "\n",
       "    .dataframe thead th {\n",
       "        text-align: right;\n",
       "    }\n",
       "</style>\n",
       "<table border=\"1\" class=\"dataframe\">\n",
       "  <thead>\n",
       "    <tr style=\"text-align: right;\">\n",
       "      <th></th>\n",
       "      <th>Distance</th>\n",
       "      <th>Time</th>\n",
       "      <th>Avg HR</th>\n",
       "      <th>Max HR</th>\n",
       "      <th>Avg Run Cadence</th>\n",
       "      <th>Max Run Cadence</th>\n",
       "      <th>Avg Pace</th>\n",
       "      <th>Best Pace</th>\n",
       "      <th>Elev Gain</th>\n",
       "      <th>Elev Loss</th>\n",
       "      <th>Avg Stride Length</th>\n",
       "    </tr>\n",
       "  </thead>\n",
       "  <tbody>\n",
       "    <tr>\n",
       "      <th>0</th>\n",
       "      <td>9.66</td>\n",
       "      <td>2635</td>\n",
       "      <td>141</td>\n",
       "      <td>160</td>\n",
       "      <td>176</td>\n",
       "      <td>182</td>\n",
       "      <td>273</td>\n",
       "      <td>236</td>\n",
       "      <td>169.0</td>\n",
       "      <td>173.0</td>\n",
       "      <td>1.26</td>\n",
       "    </tr>\n",
       "    <tr>\n",
       "      <th>1</th>\n",
       "      <td>10.46</td>\n",
       "      <td>2824</td>\n",
       "      <td>144</td>\n",
       "      <td>160</td>\n",
       "      <td>172</td>\n",
       "      <td>182</td>\n",
       "      <td>270</td>\n",
       "      <td>245</td>\n",
       "      <td>183.0</td>\n",
       "      <td>187.0</td>\n",
       "      <td>1.29</td>\n",
       "    </tr>\n",
       "    <tr>\n",
       "      <th>2</th>\n",
       "      <td>8.06</td>\n",
       "      <td>2429</td>\n",
       "      <td>128</td>\n",
       "      <td>151</td>\n",
       "      <td>170</td>\n",
       "      <td>180</td>\n",
       "      <td>301</td>\n",
       "      <td>217</td>\n",
       "      <td>124.0</td>\n",
       "      <td>124.0</td>\n",
       "      <td>1.17</td>\n",
       "    </tr>\n",
       "    <tr>\n",
       "      <th>3</th>\n",
       "      <td>11.28</td>\n",
       "      <td>3175</td>\n",
       "      <td>142</td>\n",
       "      <td>157</td>\n",
       "      <td>172</td>\n",
       "      <td>180</td>\n",
       "      <td>281</td>\n",
       "      <td>186</td>\n",
       "      <td>215.0</td>\n",
       "      <td>219.0</td>\n",
       "      <td>1.24</td>\n",
       "    </tr>\n",
       "    <tr>\n",
       "      <th>4</th>\n",
       "      <td>8.35</td>\n",
       "      <td>2495</td>\n",
       "      <td>129</td>\n",
       "      <td>143</td>\n",
       "      <td>170</td>\n",
       "      <td>178</td>\n",
       "      <td>299</td>\n",
       "      <td>254</td>\n",
       "      <td>76.0</td>\n",
       "      <td>80.0</td>\n",
       "      <td>1.18</td>\n",
       "    </tr>\n",
       "  </tbody>\n",
       "</table>\n",
       "</div>"
      ],
      "text/plain": [
       "   Distance  Time  Avg HR  Max HR  Avg Run Cadence  Max Run Cadence  Avg Pace  \\\n",
       "0      9.66  2635     141     160              176              182       273   \n",
       "1     10.46  2824     144     160              172              182       270   \n",
       "2      8.06  2429     128     151              170              180       301   \n",
       "3     11.28  3175     142     157              172              180       281   \n",
       "4      8.35  2495     129     143              170              178       299   \n",
       "\n",
       "   Best Pace  Elev Gain  Elev Loss  Avg Stride Length  \n",
       "0        236      169.0      173.0               1.26  \n",
       "1        245      183.0      187.0               1.29  \n",
       "2        217      124.0      124.0               1.17  \n",
       "3        186      215.0      219.0               1.24  \n",
       "4        254       76.0       80.0               1.18  "
      ]
     },
     "execution_count": 70,
     "metadata": {},
     "output_type": "execute_result"
    }
   ],
   "source": [
    "df.head()"
   ]
  },
  {
   "cell_type": "code",
   "execution_count": 18,
   "id": "cfe97c2a",
   "metadata": {},
   "outputs": [
    {
     "data": {
      "text/html": [
       "<div>\n",
       "<style scoped>\n",
       "    .dataframe tbody tr th:only-of-type {\n",
       "        vertical-align: middle;\n",
       "    }\n",
       "\n",
       "    .dataframe tbody tr th {\n",
       "        vertical-align: top;\n",
       "    }\n",
       "\n",
       "    .dataframe thead th {\n",
       "        text-align: right;\n",
       "    }\n",
       "</style>\n",
       "<table border=\"1\" class=\"dataframe\">\n",
       "  <thead>\n",
       "    <tr style=\"text-align: right;\">\n",
       "      <th></th>\n",
       "      <th>Distance</th>\n",
       "      <th>Time</th>\n",
       "      <th>Avg HR</th>\n",
       "      <th>Max HR</th>\n",
       "      <th>Avg Run Cadence</th>\n",
       "      <th>Max Run Cadence</th>\n",
       "      <th>Avg Pace</th>\n",
       "      <th>Best Pace</th>\n",
       "      <th>Elev Gain</th>\n",
       "      <th>Elev Loss</th>\n",
       "      <th>Avg Stride Length</th>\n",
       "    </tr>\n",
       "  </thead>\n",
       "  <tbody>\n",
       "    <tr>\n",
       "      <th>count</th>\n",
       "      <td>634.000000</td>\n",
       "      <td>634.000000</td>\n",
       "      <td>634.000000</td>\n",
       "      <td>634.000000</td>\n",
       "      <td>634.000000</td>\n",
       "      <td>634.000000</td>\n",
       "      <td>634.000000</td>\n",
       "      <td>634.000000</td>\n",
       "      <td>634.000000</td>\n",
       "      <td>634.000000</td>\n",
       "      <td>634.00000</td>\n",
       "    </tr>\n",
       "    <tr>\n",
       "      <th>mean</th>\n",
       "      <td>8.499543</td>\n",
       "      <td>2234.938486</td>\n",
       "      <td>144.457413</td>\n",
       "      <td>165.668770</td>\n",
       "      <td>177.037855</td>\n",
       "      <td>189.063091</td>\n",
       "      <td>258.143533</td>\n",
       "      <td>193.337539</td>\n",
       "      <td>264.821767</td>\n",
       "      <td>265.157729</td>\n",
       "      <td>1.34082</td>\n",
       "    </tr>\n",
       "    <tr>\n",
       "      <th>std</th>\n",
       "      <td>6.263989</td>\n",
       "      <td>1628.836675</td>\n",
       "      <td>14.036251</td>\n",
       "      <td>15.044665</td>\n",
       "      <td>7.085251</td>\n",
       "      <td>10.158264</td>\n",
       "      <td>38.750140</td>\n",
       "      <td>48.590720</td>\n",
       "      <td>276.334467</td>\n",
       "      <td>277.648169</td>\n",
       "      <td>0.17664</td>\n",
       "    </tr>\n",
       "    <tr>\n",
       "      <th>min</th>\n",
       "      <td>0.400000</td>\n",
       "      <td>66.000000</td>\n",
       "      <td>102.000000</td>\n",
       "      <td>116.000000</td>\n",
       "      <td>162.000000</td>\n",
       "      <td>168.000000</td>\n",
       "      <td>160.000000</td>\n",
       "      <td>16.000000</td>\n",
       "      <td>3.000000</td>\n",
       "      <td>3.000000</td>\n",
       "      <td>0.90000</td>\n",
       "    </tr>\n",
       "    <tr>\n",
       "      <th>25%</th>\n",
       "      <td>3.400000</td>\n",
       "      <td>919.250000</td>\n",
       "      <td>135.000000</td>\n",
       "      <td>156.000000</td>\n",
       "      <td>172.000000</td>\n",
       "      <td>180.000000</td>\n",
       "      <td>249.000000</td>\n",
       "      <td>167.000000</td>\n",
       "      <td>63.000000</td>\n",
       "      <td>59.000000</td>\n",
       "      <td>1.25000</td>\n",
       "    </tr>\n",
       "    <tr>\n",
       "      <th>50%</th>\n",
       "      <td>6.570000</td>\n",
       "      <td>1822.000000</td>\n",
       "      <td>143.000000</td>\n",
       "      <td>165.000000</td>\n",
       "      <td>176.000000</td>\n",
       "      <td>188.000000</td>\n",
       "      <td>264.000000</td>\n",
       "      <td>194.000000</td>\n",
       "      <td>153.000000</td>\n",
       "      <td>148.500000</td>\n",
       "      <td>1.29500</td>\n",
       "    </tr>\n",
       "    <tr>\n",
       "      <th>75%</th>\n",
       "      <td>12.860000</td>\n",
       "      <td>3327.250000</td>\n",
       "      <td>152.000000</td>\n",
       "      <td>176.000000</td>\n",
       "      <td>180.000000</td>\n",
       "      <td>194.000000</td>\n",
       "      <td>279.000000</td>\n",
       "      <td>228.000000</td>\n",
       "      <td>403.750000</td>\n",
       "      <td>397.750000</td>\n",
       "      <td>1.36000</td>\n",
       "    </tr>\n",
       "    <tr>\n",
       "      <th>max</th>\n",
       "      <td>28.980000</td>\n",
       "      <td>7200.000000</td>\n",
       "      <td>188.000000</td>\n",
       "      <td>209.000000</td>\n",
       "      <td>202.000000</td>\n",
       "      <td>246.000000</td>\n",
       "      <td>400.000000</td>\n",
       "      <td>321.000000</td>\n",
       "      <td>1262.000000</td>\n",
       "      <td>1521.000000</td>\n",
       "      <td>1.86000</td>\n",
       "    </tr>\n",
       "  </tbody>\n",
       "</table>\n",
       "</div>"
      ],
      "text/plain": [
       "         Distance         Time      Avg HR      Max HR  Avg Run Cadence  \\\n",
       "count  634.000000   634.000000  634.000000  634.000000       634.000000   \n",
       "mean     8.499543  2234.938486  144.457413  165.668770       177.037855   \n",
       "std      6.263989  1628.836675   14.036251   15.044665         7.085251   \n",
       "min      0.400000    66.000000  102.000000  116.000000       162.000000   \n",
       "25%      3.400000   919.250000  135.000000  156.000000       172.000000   \n",
       "50%      6.570000  1822.000000  143.000000  165.000000       176.000000   \n",
       "75%     12.860000  3327.250000  152.000000  176.000000       180.000000   \n",
       "max     28.980000  7200.000000  188.000000  209.000000       202.000000   \n",
       "\n",
       "       Max Run Cadence    Avg Pace   Best Pace    Elev Gain    Elev Loss  \\\n",
       "count       634.000000  634.000000  634.000000   634.000000   634.000000   \n",
       "mean        189.063091  258.143533  193.337539   264.821767   265.157729   \n",
       "std          10.158264   38.750140   48.590720   276.334467   277.648169   \n",
       "min         168.000000  160.000000   16.000000     3.000000     3.000000   \n",
       "25%         180.000000  249.000000  167.000000    63.000000    59.000000   \n",
       "50%         188.000000  264.000000  194.000000   153.000000   148.500000   \n",
       "75%         194.000000  279.000000  228.000000   403.750000   397.750000   \n",
       "max         246.000000  400.000000  321.000000  1262.000000  1521.000000   \n",
       "\n",
       "       Avg Stride Length  \n",
       "count          634.00000  \n",
       "mean             1.34082  \n",
       "std              0.17664  \n",
       "min              0.90000  \n",
       "25%              1.25000  \n",
       "50%              1.29500  \n",
       "75%              1.36000  \n",
       "max              1.86000  "
      ]
     },
     "execution_count": 18,
     "metadata": {},
     "output_type": "execute_result"
    }
   ],
   "source": [
    "df.describe()"
   ]
  },
  {
   "cell_type": "markdown",
   "id": "b139e842",
   "metadata": {},
   "source": [
    "## Looking for Correlations"
   ]
  },
  {
   "cell_type": "code",
   "execution_count": 19,
   "id": "a78f8811",
   "metadata": {},
   "outputs": [],
   "source": [
    "corr_matrix = df.corr(numeric_only=True)"
   ]
  },
  {
   "cell_type": "code",
   "execution_count": 20,
   "id": "8c9bd4e5",
   "metadata": {},
   "outputs": [
    {
     "data": {
      "text/plain": [
       "Time                 1.000000\n",
       "Distance             0.992891\n",
       "Elev Gain            0.821551\n",
       "Elev Loss            0.818582\n",
       "Avg Pace             0.252870\n",
       "Max HR               0.134543\n",
       "Best Pace            0.038627\n",
       "Avg HR              -0.053432\n",
       "Max Run Cadence     -0.178102\n",
       "Avg Stride Length   -0.319321\n",
       "Avg Run Cadence     -0.331184\n",
       "Name: Time, dtype: float64"
      ]
     },
     "execution_count": 20,
     "metadata": {},
     "output_type": "execute_result"
    }
   ],
   "source": [
    "corr_matrix['Time'].sort_values(ascending=False)"
   ]
  },
  {
   "cell_type": "markdown",
   "id": "90eddec4",
   "metadata": {},
   "source": [
    "# Split dataset"
   ]
  },
  {
   "cell_type": "code",
   "execution_count": 21,
   "id": "d41a9fa1",
   "metadata": {},
   "outputs": [],
   "source": [
    "from sklearn.model_selection import train_test_split\n",
    "\n",
    "def get_data_splits(X, y, train_size=0.7):\n",
    "    X_train, X_, y_train, y_ = train_test_split(X, y, train_size=train_size, random_state=42)\n",
    "    X_val, X_test, y_val, y_test = train_test_split(X_, y_, train_size=0.5, random_state=42)\n",
    "    return X_train, X_val, X_test, y_train, y_val, y_test"
   ]
  },
  {
   "cell_type": "code",
   "execution_count": 22,
   "id": "316c8a52",
   "metadata": {},
   "outputs": [],
   "source": [
    "X_train, X_val, X_test, y_train, y_val, y_test = get_data_splits(X=df.drop('Time', axis=1), y=df['Time'].copy())"
   ]
  },
  {
   "cell_type": "markdown",
   "id": "4d4a45e8",
   "metadata": {},
   "source": [
    "# Train, adjust hyperparameters and evaluate models"
   ]
  },
  {
   "cell_type": "markdown",
   "id": "97330ee7",
   "metadata": {},
   "source": [
    "## -->Linear Regression"
   ]
  },
  {
   "cell_type": "code",
   "execution_count": 24,
   "id": "e4fb88d9",
   "metadata": {},
   "outputs": [
    {
     "name": "stdout",
     "output_type": "stream",
     "text": [
      "Mean squared error: 125.87 seconds\n",
      "Mean absolute error: 89.27 seconds\n"
     ]
    }
   ],
   "source": [
    "from sklearn.linear_model import LinearRegression\n",
    "from sklearn.metrics import mean_squared_error, mean_absolute_error\n",
    "\n",
    "lin_reg = LinearRegression()\n",
    "# Train model on the training set\n",
    "lin_reg.fit(X_train, y_train)\n",
    "# Predict values \n",
    "y_pred = lin_reg.predict(X_test)\n",
    "# Evaluate the model on the test set\n",
    "mse = mean_squared_error(y_test, y_pred, squared=False)\n",
    "mae = mean_absolute_error(y_test, y_pred)\n",
    "print(f'Mean squared error: {mse:.2f} seconds')\n",
    "print(f'Mean absolute error: {mae:.2f} seconds')"
   ]
  },
  {
   "cell_type": "code",
   "execution_count": 25,
   "id": "9e59aa08",
   "metadata": {},
   "outputs": [
    {
     "name": "stdout",
     "output_type": "stream",
     "text": [
      "Outcomes: [110.84866851 144.55344934 129.25147263 161.62410046 121.37732389\n",
      " 122.99147764 122.41173521 195.31473917 121.38526428 110.5170801 ]\n",
      "Mean: 134.0275311224114\n",
      "Standard deviation: 25.135383472508543\n"
     ]
    }
   ],
   "source": [
    "from sklearn.model_selection import cross_val_score\n",
    "\n",
    "scores = cross_val_score(lin_reg, X_train, y_train, scoring='neg_mean_squared_error', cv=10)\n",
    "scores = np.sqrt(-scores)\n",
    "print('Outcomes:', scores)\n",
    "print('Mean:', scores.mean())\n",
    "print('Standard deviation:', scores.std())"
   ]
  },
  {
   "cell_type": "markdown",
   "id": "92dea772",
   "metadata": {},
   "source": [
    "### <u> Linear Regression with PolynomialFeature </u> BEST ONE"
   ]
  },
  {
   "cell_type": "code",
   "execution_count": 43,
   "id": "29d4e1f3",
   "metadata": {
    "scrolled": true
   },
   "outputs": [
    {
     "name": "stdout",
     "output_type": "stream",
     "text": [
      "Mean squared error: 4.97 seconds\n",
      "Mean absolute error: 3.66 seconds\n",
      "\n",
      "Outcomes: [2.88069143 4.76310854 4.74567874 4.97668518 5.00759993 4.19957946\n",
      " 3.12862257 5.36782983 4.42390053 4.41473395]\n",
      "Mean: 4.390843015998032\n",
      "Standard deviation: 0.765153380056676\n"
     ]
    }
   ],
   "source": [
    "from sklearn.preprocessing import PolynomialFeatures\n",
    "from sklearn.preprocessing import StandardScaler\n",
    "from sklearn.pipeline import make_pipeline\n",
    "\n",
    "polynomial_regression = make_pipeline(\n",
    "    PolynomialFeatures(include_bias=False),\n",
    "    StandardScaler(),\n",
    "    LinearRegression()\n",
    ")\n",
    "# Train model on training set\n",
    "polynomial_regression.fit(X_train, y_train)\n",
    "# Predict valeus \n",
    "y_pred = polynomial_regression.predict(X_test)\n",
    "# Evalueate the model on the test set\n",
    "mse = mean_squared_error(y_test, y_pred, squared=False)\n",
    "mae = mean_absolute_error(y_test, y_pred)\n",
    "print(f'Mean squared error: {mse:.2f} seconds')\n",
    "print(f'Mean absolute error: {mae:.2f} seconds')\n",
    "\n",
    "scores = cross_val_score(polynomial_regression, X_train, y_train, scoring='neg_mean_squared_error', cv=10)\n",
    "scores = np.sqrt(-scores)\n",
    "print('\\nOutcomes:', scores)\n",
    "print('Mean:', scores.mean())\n",
    "print('Standard deviation:', scores.std())"
   ]
  },
  {
   "cell_type": "code",
   "execution_count": 66,
   "id": "d4a66007",
   "metadata": {
    "scrolled": true
   },
   "outputs": [
    {
     "data": {
      "text/html": [
       "<div>\n",
       "<style scoped>\n",
       "    .dataframe tbody tr th:only-of-type {\n",
       "        vertical-align: middle;\n",
       "    }\n",
       "\n",
       "    .dataframe tbody tr th {\n",
       "        vertical-align: top;\n",
       "    }\n",
       "\n",
       "    .dataframe thead th {\n",
       "        text-align: right;\n",
       "    }\n",
       "</style>\n",
       "<table border=\"1\" class=\"dataframe\">\n",
       "  <thead>\n",
       "    <tr style=\"text-align: right;\">\n",
       "      <th></th>\n",
       "      <th>y_test</th>\n",
       "      <th>y_pred</th>\n",
       "    </tr>\n",
       "  </thead>\n",
       "  <tbody>\n",
       "    <tr>\n",
       "      <th>0</th>\n",
       "      <td>178</td>\n",
       "      <td>177.915764</td>\n",
       "    </tr>\n",
       "    <tr>\n",
       "      <th>1</th>\n",
       "      <td>2323</td>\n",
       "      <td>2323.796140</td>\n",
       "    </tr>\n",
       "    <tr>\n",
       "      <th>2</th>\n",
       "      <td>2387</td>\n",
       "      <td>2383.909050</td>\n",
       "    </tr>\n",
       "    <tr>\n",
       "      <th>3</th>\n",
       "      <td>3333</td>\n",
       "      <td>3328.205018</td>\n",
       "    </tr>\n",
       "    <tr>\n",
       "      <th>4</th>\n",
       "      <td>888</td>\n",
       "      <td>887.992837</td>\n",
       "    </tr>\n",
       "    <tr>\n",
       "      <th>...</th>\n",
       "      <td>...</td>\n",
       "      <td>...</td>\n",
       "    </tr>\n",
       "    <tr>\n",
       "      <th>91</th>\n",
       "      <td>2198</td>\n",
       "      <td>2200.882907</td>\n",
       "    </tr>\n",
       "    <tr>\n",
       "      <th>92</th>\n",
       "      <td>300</td>\n",
       "      <td>300.930200</td>\n",
       "    </tr>\n",
       "    <tr>\n",
       "      <th>93</th>\n",
       "      <td>4207</td>\n",
       "      <td>4206.538827</td>\n",
       "    </tr>\n",
       "    <tr>\n",
       "      <th>94</th>\n",
       "      <td>2206</td>\n",
       "      <td>2209.456287</td>\n",
       "    </tr>\n",
       "    <tr>\n",
       "      <th>95</th>\n",
       "      <td>73</td>\n",
       "      <td>73.543155</td>\n",
       "    </tr>\n",
       "  </tbody>\n",
       "</table>\n",
       "<p>96 rows × 2 columns</p>\n",
       "</div>"
      ],
      "text/plain": [
       "    y_test       y_pred\n",
       "0      178   177.915764\n",
       "1     2323  2323.796140\n",
       "2     2387  2383.909050\n",
       "3     3333  3328.205018\n",
       "4      888   887.992837\n",
       "..     ...          ...\n",
       "91    2198  2200.882907\n",
       "92     300   300.930200\n",
       "93    4207  4206.538827\n",
       "94    2206  2209.456287\n",
       "95      73    73.543155\n",
       "\n",
       "[96 rows x 2 columns]"
      ]
     },
     "execution_count": 66,
     "metadata": {},
     "output_type": "execute_result"
    }
   ],
   "source": [
    "pd.DataFrame({'y_test': y_test.values, 'y_pred': y_pred})"
   ]
  },
  {
   "cell_type": "code",
   "execution_count": 67,
   "id": "8a5f7a16",
   "metadata": {},
   "outputs": [
    {
     "name": "stdout",
     "output_type": "stream",
     "text": [
      "Best hyperparameters:  {'poly__degree': 2}\n",
      "Best MSE:  4.581775283159717\n"
     ]
    }
   ],
   "source": [
    "from sklearn.model_selection import GridSearchCV, RandomizedSearchCV\n",
    "from sklearn.pipeline import Pipeline\n",
    "\n",
    "pipeline = Pipeline([\n",
    "    ('poly', PolynomialFeatures(include_bias=False)),\n",
    "    ('scaler', StandardScaler()),\n",
    "    ('linear', LinearRegression())\n",
    "])\n",
    "\n",
    "param_grid = {\n",
    "    'poly__degree': [1,2,3,4,5,10]\n",
    "}\n",
    "# Create a GridSearchCV object with pipeline and hyperparamters to search over\n",
    "grid_search = GridSearchCV(pipeline, param_grid, cv=5, scoring='neg_mean_squared_error', n_jobs=-1)\n",
    "# Train the grid search on training set\n",
    "grid_search.fit(X_train, y_train)\n",
    "\n",
    "# Print the best hyperparameters and the corresponding mean squared error\n",
    "print(\"Best hyperparameters: \", grid_search.best_params_)\n",
    "print(\"Best MSE: \", np.sqrt(-grid_search.best_score_))"
   ]
  },
  {
   "cell_type": "markdown",
   "id": "4b15af4d",
   "metadata": {},
   "source": [
    "## --> SVM"
   ]
  },
  {
   "cell_type": "code",
   "execution_count": 27,
   "id": "bfd4a4d1",
   "metadata": {},
   "outputs": [
    {
     "name": "stdout",
     "output_type": "stream",
     "text": [
      "Mean squared error: 1756.02 seconds\n",
      "Mean absolute error: 1356.99 seconds\n",
      "\n",
      "Outcomes: [1466.89968095 1669.68806883 1463.26486306 1902.52266395 1638.04874547\n",
      " 1502.05001749 1882.80397085 1887.80570002 1615.47976625 1827.85726883]\n",
      "Mean: 1685.6420745703829\n",
      "Standard deviation: 168.95372250943186\n"
     ]
    }
   ],
   "source": [
    "from sklearn.svm import SVR\n",
    "\n",
    "svm_reg_pipe = make_pipeline(\n",
    "    StandardScaler(),\n",
    "    SVR()\n",
    ")\n",
    "svm_reg = SVR()\n",
    "# Train model on training set\n",
    "svm_reg_pipe.fit(X_train, y_train)\n",
    "y_pred = svm_reg_pipe.predict(X_test)\n",
    "# Evalueate the model on the test set\n",
    "mse = mean_squared_error(y_test, y_pred, squared=False)\n",
    "mae = mean_absolute_error(y_test, y_pred)\n",
    "print(f'Mean squared error: {mse:.2f} seconds')\n",
    "print(f'Mean absolute error: {mae:.2f} seconds')\n",
    "\n",
    "scores = cross_val_score(svm_reg_pipe, X_train, y_train, scoring='neg_mean_squared_error', cv=10)\n",
    "scores = np.sqrt(-scores)\n",
    "print('\\nOutcomes:', scores)\n",
    "print('Mean:', scores.mean())\n",
    "print('Standard deviation:', scores.std())"
   ]
  },
  {
   "cell_type": "markdown",
   "id": "acb8e89d",
   "metadata": {},
   "source": [
    "## --> RandomForest"
   ]
  },
  {
   "cell_type": "code",
   "execution_count": 28,
   "id": "5533fcc0",
   "metadata": {
    "scrolled": true
   },
   "outputs": [
    {
     "name": "stdout",
     "output_type": "stream",
     "text": [
      "Mean squared error: 98.20 seconds\n",
      "Mean absolute error: 60.34 seconds\n",
      "\n",
      "Outcomes: [ 85.1252768   83.95746587  88.81248264 143.82963262 129.2364996\n",
      " 101.31598102 108.50111475 182.59589472  98.23072881 135.35519369]\n",
      "Mean: 115.69602705203451\n",
      "Standard deviation: 30.10837161310924\n"
     ]
    }
   ],
   "source": [
    "from sklearn.ensemble import RandomForestRegressor\n",
    "\n",
    "forest_reg = make_pipeline(\n",
    "    StandardScaler(),\n",
    "    RandomForestRegressor(random_state=42)\n",
    ")\n",
    "# Train model on training set\n",
    "forest_reg.fit(X_train, y_train)\n",
    "y_pred = forest_reg.predict(X_test)\n",
    "# Evalueate the model on the test set\n",
    "mse = mean_squared_error(y_test, y_pred, squared=False)\n",
    "mae = mean_absolute_error(y_test, y_pred)\n",
    "print(f'Mean squared error: {mse:.2f} seconds')\n",
    "print(f'Mean absolute error: {mae:.2f} seconds')\n",
    "\n",
    "scores = cross_val_score(forest_reg, X_train, y_train, scoring='neg_mean_squared_error', cv=10)\n",
    "scores = np.sqrt(-scores)\n",
    "print('\\nOutcomes:', scores)\n",
    "print('Mean:', scores.mean())\n",
    "print('Standard deviation:', scores.std())"
   ]
  },
  {
   "cell_type": "code",
   "execution_count": null,
   "id": "2c13af96",
   "metadata": {},
   "outputs": [],
   "source": [
    "pd.DataFrame({'y_test': y_test.values, 'y_pred': y_pred})"
   ]
  },
  {
   "cell_type": "code",
   "execution_count": null,
   "id": "7fc9fece",
   "metadata": {},
   "outputs": [],
   "source": []
  },
  {
   "cell_type": "code",
   "execution_count": null,
   "id": "e99318fe",
   "metadata": {},
   "outputs": [],
   "source": []
  },
  {
   "cell_type": "code",
   "execution_count": null,
   "id": "71ec74d6",
   "metadata": {},
   "outputs": [],
   "source": []
  },
  {
   "cell_type": "code",
   "execution_count": 30,
   "id": "7cd5c5c3",
   "metadata": {},
   "outputs": [
    {
     "name": "stdout",
     "output_type": "stream",
     "text": [
      "Mean squared error: 150790542828085.09 seconds\n",
      "Mean absolute error: 138398999995347.92 seconds\n"
     ]
    }
   ],
   "source": [
    "from sklearn.linear_model import SGDRegressor\n",
    "\n",
    "# Train model on training set\n",
    "sgd_reg = SGDRegressor()\n",
    "sgd_reg.fit(X_train, y_train)\n",
    "y_pred = sgd_reg.predict(X_test)\n",
    "# Evalueate the model on the test set\n",
    "mse = mean_squared_error(y_test, y_pred, squared=False)\n",
    "mae = mean_absolute_error(y_test, y_pred)\n",
    "print(f'Mean squared error: {mse:.2f} seconds')\n",
    "print(f'Mean absolute error: {mae:.2f} seconds')"
   ]
  },
  {
   "cell_type": "code",
   "execution_count": 32,
   "id": "3ba41890",
   "metadata": {},
   "outputs": [
    {
     "name": "stdout",
     "output_type": "stream",
     "text": [
      "Best hyperparamenters:  {'power_t': 0.25, 'penalty': 'l2', 'max_iter': 9000, 'loss': 'huber', 'learning_rate': 'invscaling', 'eta0': 0.01, 'alpha': 1e-05}\n",
      "Best MSE:  -0.6967045087360592\n"
     ]
    }
   ],
   "source": [
    "param_grid = {\n",
    "    'alpha': 10.0 ** -np.arange(1, 7),\n",
    "    'loss': ['huber', 'epsilon_insensitive'],\n",
    "    'penalty': ['l2', 'l1', 'elasticnet'],\n",
    "    'learning_rate': ['constant', 'optimal', 'invscaling'],\n",
    "    'eta0': 10.0 ** -np.arange(1, 4),\n",
    "    'power_t': np.arange(0, 2, 0.25),\n",
    "    'max_iter': np.arange(1000, 10000, 1000),\n",
    "}\n",
    "model = SGDRegressor()\n",
    "rnd_search = RandomizedSearchCV(model, param_grid)\n",
    "rnd_search.fit(X_train, y_train)\n",
    "print('Best hyperparamenters: ', rnd_search.best_params_)\n",
    "print(\"Best MSE: \", rnd_search.best_score_)"
   ]
  },
  {
   "cell_type": "code",
   "execution_count": 40,
   "id": "3fd0c875",
   "metadata": {},
   "outputs": [],
   "source": [
    "model = SGDRegressor(\n",
    "    loss='huber', penalty='l2', alpha=1e-05, max_iter=9000,\n",
    "    learning_rate='invscaling', eta0=0.01, power_t=0.25,\n",
    "    warm_start=True)"
   ]
  },
  {
   "cell_type": "code",
   "execution_count": 42,
   "id": "bc7a2c51",
   "metadata": {},
   "outputs": [
    {
     "name": "stdout",
     "output_type": "stream",
     "text": [
      "Epoch: 00 | train_mse: 846728.61908, val_mse: 611723.79375\n",
      "Epoch: 10 | train_mse: 687068.59140, val_mse: 530363.55773\n",
      "Epoch: 20 | train_mse: 505990.78173, val_mse: 372028.10000\n",
      "Epoch: 30 | train_mse: 462282.07695, val_mse: 366832.11784\n",
      "Epoch: 40 | train_mse: 315681.00836, val_mse: 242418.04884\n",
      "Epoch: 50 | train_mse: 221918.14221, val_mse: 163426.80067\n",
      "Epoch: 60 | train_mse: 154577.26046, val_mse: 119860.33605\n",
      "Epoch: 70 | train_mse: 87281.82903, val_mse: 62240.10144\n",
      "Epoch: 80 | train_mse: 55863.50653, val_mse: 41312.10685\n",
      "Epoch: 90 | train_mse: 69429.85893, val_mse: 66804.92301\n",
      "Epoch: 100 | train_mse: 34101.55713, val_mse: 23171.37515\n",
      "Epoch: 110 | train_mse: 23949.02393, val_mse: 25208.02809\n",
      "Epoch: 120 | train_mse: 21432.20511, val_mse: 21443.42889\n",
      "Epoch: 130 | train_mse: 20037.17265, val_mse: 16273.37702\n",
      "Epoch: 140 | train_mse: 21998.05114, val_mse: 24055.51101\n",
      "Epoch: 150 | train_mse: 21964.64062, val_mse: 16629.32371\n",
      "Epoch: 160 | train_mse: 28450.69821, val_mse: 31517.99627\n",
      "Epoch: 170 | train_mse: 25101.43499, val_mse: 28650.77834\n",
      "Epoch: 180 | train_mse: 19792.30246, val_mse: 19564.74531\n",
      "Epoch: 190 | train_mse: 20100.54479, val_mse: 20047.92008\n"
     ]
    },
    {
     "data": {
      "image/png": "[encoded data removed]",
      "text/plain": [
       "<Figure size 640x480 with 1 Axes>"
      ]
     },
     "metadata": {},
     "output_type": "display_data"
    }
   ],
   "source": [
    "import matplotlib.pyplot as plt\n",
    "\n",
    "num_epochs = 200\n",
    "train_mse = []\n",
    "val_mse = []\n",
    "\n",
    "for epoch in range(num_epochs):\n",
    "    # Training\n",
    "    model.fit(X_train, y_train)\n",
    "\n",
    "    # Evaluation\n",
    "    train_pred = model.predict(X_train)\n",
    "    val_pred = model.predict(X_val)    \n",
    "    train_mse.append(mean_squared_error(y_train, train_pred))\n",
    "    val_mse.append(mean_squared_error(y_val, val_pred))\n",
    "    \n",
    "    if not epoch%10:\n",
    "        print(\n",
    "            f\"Epoch: {epoch:02d} | \"\n",
    "            f\"train_mse: {train_mse[-1]:.5f}, \"\n",
    "            f\"val_mse: {val_mse[-1]:.5f}\"\n",
    "        )\n",
    "\n",
    "# Plot the MSE for each epoch\n",
    "plt.plot(train_mse, label='train')\n",
    "plt.plot(val_mse, label='validation')\n",
    "plt.xlabel('Epoch')\n",
    "plt.ylabel('MSE')\n",
    "plt.legend()\n",
    "plt.show()"
   ]
  },
  {
   "cell_type": "code",
   "execution_count": null,
   "id": "c74e59ce",
   "metadata": {},
   "outputs": [],
   "source": []
  }
 ],
 "metadata": {
  "kernelspec": {
   "display_name": "Python 3 (ipykernel)",
   "language": "python",
   "name": "python3"
  },
  "language_info": {
   "codemirror_mode": {
    "name": "ipython",
    "version": 3
   },
   "file_extension": ".py",
   "mimetype": "text/x-python",
   "name": "python",
   "nbconvert_exporter": "python",
   "pygments_lexer": "ipython3",
   "version": "3.11.2"
  }
 },
 "nbformat": 4,
 "nbformat_minor": 5
}
