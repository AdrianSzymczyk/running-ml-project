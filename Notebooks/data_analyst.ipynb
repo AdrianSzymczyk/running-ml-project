{
 "cells": [
  {
   "cell_type": "code",
   "execution_count": 124,
   "id": "719658b8",
   "metadata": {},
   "outputs": [],
   "source": [
    "import numpy as np\n",
    "import pandas as pd\n",
    "import os\n",
    "from datetime import datetime"
   ]
  },
  {
   "cell_type": "markdown",
   "id": "3fb655f1",
   "metadata": {},
   "source": [
    "Project of predicting the time of a running activity"
   ]
  },
  {
   "cell_type": "markdown",
   "id": "b9615b71",
   "metadata": {},
   "source": [
    "# Load data"
   ]
  },
  {
   "cell_type": "code",
   "execution_count": 125,
   "id": "faffe4db",
   "metadata": {},
   "outputs": [
    {
     "data": {
      "text/html": [
       "<div>\n",
       "<style scoped>\n",
       "    .dataframe tbody tr th:only-of-type {\n",
       "        vertical-align: middle;\n",
       "    }\n",
       "\n",
       "    .dataframe tbody tr th {\n",
       "        vertical-align: top;\n",
       "    }\n",
       "\n",
       "    .dataframe thead th {\n",
       "        text-align: right;\n",
       "    }\n",
       "</style>\n",
       "<table border=\"1\" class=\"dataframe\">\n",
       "  <thead>\n",
       "    <tr style=\"text-align: right;\">\n",
       "      <th></th>\n",
       "      <th>Activity Type</th>\n",
       "      <th>Date</th>\n",
       "      <th>Title</th>\n",
       "      <th>Distance</th>\n",
       "      <th>Calories</th>\n",
       "      <th>Time</th>\n",
       "      <th>Avg HR</th>\n",
       "      <th>Max HR</th>\n",
       "      <th>Avg Run Cadence</th>\n",
       "      <th>Max Run Cadence</th>\n",
       "      <th>Avg Pace</th>\n",
       "      <th>Best Pace</th>\n",
       "      <th>Elev Gain</th>\n",
       "      <th>Elev Loss</th>\n",
       "      <th>Avg Stride Length</th>\n",
       "      <th>Best Lap Time</th>\n",
       "      <th>Number of Laps</th>\n",
       "    </tr>\n",
       "  </thead>\n",
       "  <tbody>\n",
       "    <tr>\n",
       "      <th>0</th>\n",
       "      <td>Running</td>\n",
       "      <td>7/15/20 9:41</td>\n",
       "      <td>Cherry Hill Running</td>\n",
       "      <td>6.00</td>\n",
       "      <td>530</td>\n",
       "      <td>0:43:55</td>\n",
       "      <td>141</td>\n",
       "      <td>160</td>\n",
       "      <td>176</td>\n",
       "      <td>182</td>\n",
       "      <td>7:19</td>\n",
       "      <td>6:20</td>\n",
       "      <td>169</td>\n",
       "      <td>173</td>\n",
       "      <td>1.26</td>\n",
       "      <td>00:02.3</td>\n",
       "      <td>7</td>\n",
       "    </tr>\n",
       "    <tr>\n",
       "      <th>1</th>\n",
       "      <td>Running</td>\n",
       "      <td>7/14/20 17:45</td>\n",
       "      <td>Cherry Hill Running</td>\n",
       "      <td>6.50</td>\n",
       "      <td>587</td>\n",
       "      <td>0:47:04</td>\n",
       "      <td>144</td>\n",
       "      <td>160</td>\n",
       "      <td>172</td>\n",
       "      <td>182</td>\n",
       "      <td>7:14</td>\n",
       "      <td>6:35</td>\n",
       "      <td>183</td>\n",
       "      <td>187</td>\n",
       "      <td>1.29</td>\n",
       "      <td>03:32.7</td>\n",
       "      <td>7</td>\n",
       "    </tr>\n",
       "    <tr>\n",
       "      <th>2</th>\n",
       "      <td>Running</td>\n",
       "      <td>7/13/20 18:57</td>\n",
       "      <td>Cherry Hill Running</td>\n",
       "      <td>5.01</td>\n",
       "      <td>392</td>\n",
       "      <td>0:40:29</td>\n",
       "      <td>128</td>\n",
       "      <td>151</td>\n",
       "      <td>170</td>\n",
       "      <td>180</td>\n",
       "      <td>8:05</td>\n",
       "      <td>5:49</td>\n",
       "      <td>124</td>\n",
       "      <td>124</td>\n",
       "      <td>1.17</td>\n",
       "      <td>00:04.1</td>\n",
       "      <td>6</td>\n",
       "    </tr>\n",
       "    <tr>\n",
       "      <th>3</th>\n",
       "      <td>Running</td>\n",
       "      <td>7/12/20 18:44</td>\n",
       "      <td>Cherry Hill Running</td>\n",
       "      <td>7.01</td>\n",
       "      <td>633</td>\n",
       "      <td>0:52:55</td>\n",
       "      <td>142</td>\n",
       "      <td>157</td>\n",
       "      <td>172</td>\n",
       "      <td>180</td>\n",
       "      <td>7:33</td>\n",
       "      <td>5:00</td>\n",
       "      <td>215</td>\n",
       "      <td>219</td>\n",
       "      <td>1.24</td>\n",
       "      <td>00:05.1</td>\n",
       "      <td>8</td>\n",
       "    </tr>\n",
       "    <tr>\n",
       "      <th>4</th>\n",
       "      <td>Running</td>\n",
       "      <td>7/11/20 19:35</td>\n",
       "      <td>Cherry Hill Running</td>\n",
       "      <td>5.19</td>\n",
       "      <td>419</td>\n",
       "      <td>0:41:35</td>\n",
       "      <td>129</td>\n",
       "      <td>143</td>\n",
       "      <td>170</td>\n",
       "      <td>178</td>\n",
       "      <td>8:01</td>\n",
       "      <td>6:48</td>\n",
       "      <td>76</td>\n",
       "      <td>80</td>\n",
       "      <td>1.18</td>\n",
       "      <td>01:27.1</td>\n",
       "      <td>6</td>\n",
       "    </tr>\n",
       "  </tbody>\n",
       "</table>\n",
       "</div>"
      ],
      "text/plain": [
       "  Activity Type           Date                Title  Distance Calories  \\\n",
       "0       Running   7/15/20 9:41  Cherry Hill Running      6.00      530   \n",
       "1       Running  7/14/20 17:45  Cherry Hill Running      6.50      587   \n",
       "2       Running  7/13/20 18:57  Cherry Hill Running      5.01      392   \n",
       "3       Running  7/12/20 18:44  Cherry Hill Running      7.01      633   \n",
       "4       Running  7/11/20 19:35  Cherry Hill Running      5.19      419   \n",
       "\n",
       "      Time Avg HR Max HR Avg Run Cadence Max Run Cadence Avg Pace Best Pace  \\\n",
       "0  0:43:55    141    160             176             182     7:19      6:20   \n",
       "1  0:47:04    144    160             172             182     7:14      6:35   \n",
       "2  0:40:29    128    151             170             180     8:05      5:49   \n",
       "3  0:52:55    142    157             172             180     7:33      5:00   \n",
       "4  0:41:35    129    143             170             178     8:01      6:48   \n",
       "\n",
       "  Elev Gain Elev Loss  Avg Stride Length Best Lap Time  Number of Laps  \n",
       "0       169       173               1.26       00:02.3               7  \n",
       "1       183       187               1.29       03:32.7               7  \n",
       "2       124       124               1.17       00:04.1               6  \n",
       "3       215       219               1.24       00:05.1               8  \n",
       "4        76        80               1.18       01:27.1               6  "
      ]
     },
     "execution_count": 125,
     "metadata": {},
     "output_type": "execute_result"
    }
   ],
   "source": [
    "# Extract project df\n",
    "PROJECT_URL = 'https://raw.githubusercontent.com/AdrianSzymczyk/running-ml-project/main/data/activity_log.csv'\n",
    "df = pd.read_csv(PROJECT_URL)\n",
    "df.head()"
   ]
  },
  {
   "cell_type": "code",
   "execution_count": 126,
   "id": "31cd277d",
   "metadata": {},
   "outputs": [
    {
     "name": "stdout",
     "output_type": "stream",
     "text": [
      "<class 'pandas.core.frame.DataFrame'>\n",
      "RangeIndex: 689 entries, 0 to 688\n",
      "Data columns (total 17 columns):\n",
      " #   Column             Non-Null Count  Dtype  \n",
      "---  ------             --------------  -----  \n",
      " 0   Activity Type      689 non-null    object \n",
      " 1   Date               689 non-null    object \n",
      " 2   Title              689 non-null    object \n",
      " 3   Distance           689 non-null    float64\n",
      " 4   Calories           689 non-null    object \n",
      " 5   Time               689 non-null    object \n",
      " 6   Avg HR             689 non-null    object \n",
      " 7   Max HR             689 non-null    object \n",
      " 8   Avg Run Cadence    689 non-null    object \n",
      " 9   Max Run Cadence    689 non-null    object \n",
      " 10  Avg Pace           689 non-null    object \n",
      " 11  Best Pace          689 non-null    object \n",
      " 12  Elev Gain          689 non-null    object \n",
      " 13  Elev Loss          689 non-null    object \n",
      " 14  Avg Stride Length  689 non-null    float64\n",
      " 15  Best Lap Time      689 non-null    object \n",
      " 16  Number of Laps     689 non-null    int64  \n",
      "dtypes: float64(2), int64(1), object(14)\n",
      "memory usage: 91.6+ KB\n"
     ]
    }
   ],
   "source": [
    "df.info()"
   ]
  },
  {
   "cell_type": "markdown",
   "id": "4fa329c8",
   "metadata": {},
   "source": [
    "# Preprocessing"
   ]
  },
  {
   "cell_type": "markdown",
   "id": "f48e373d",
   "metadata": {},
   "source": [
    "### Delete rows with missing values "
   ]
  },
  {
   "cell_type": "code",
   "execution_count": 127,
   "id": "ebcf804a",
   "metadata": {},
   "outputs": [],
   "source": [
    "df = df[~df[['Distance', 'Avg HR', 'Max HR', 'Avg Pace', 'Avg Run Cadence', 'Elev Gain', 'Elev Loss']].isin(['--']).any(axis=1)].reset_index(drop=True)"
   ]
  },
  {
   "cell_type": "markdown",
   "id": "3532d08b",
   "metadata": {},
   "source": [
    "#### Reset indices after deleting rows"
   ]
  },
  {
   "cell_type": "markdown",
   "id": "5bd6b009",
   "metadata": {},
   "source": [
    "## Convert Avg HR Max HR columns into numeric type"
   ]
  },
  {
   "cell_type": "code",
   "execution_count": 128,
   "id": "b473d5cf",
   "metadata": {},
   "outputs": [],
   "source": [
    "df['Elev Gain'] = df['Elev Gain'].apply(lambda x: int(str(x).replace(',', '')))\n",
    "df['Elev Loss'] = df['Elev Loss'].apply(lambda x: int(str(x).replace(',', '')))\n",
    "df['Calories'] = df['Calories'].apply(lambda x: int(str(x).replace(',', '')))"
   ]
  },
  {
   "cell_type": "code",
   "execution_count": 129,
   "id": "8596127a",
   "metadata": {},
   "outputs": [],
   "source": [
    "df['Calories'] = df['Calories'].astype(int)\n",
    "df['Avg HR'] = df['Avg HR'].astype(int)\n",
    "df['Max HR'] = df['Max HR'].astype(int)\n",
    "df['Avg Run Cadence'] = df['Avg Run Cadence'].astype(int)\n",
    "df['Max Run Cadence'] = df['Max Run Cadence'].astype(int)\n",
    "df['Elev Gain'] = df['Elev Gain'].astype(float)\n",
    "df['Elev Loss'] = df['Elev Loss'].astype(float)"
   ]
  },
  {
   "cell_type": "markdown",
   "id": "bf7758fb",
   "metadata": {},
   "source": [
    "### Fix problem with Time shorter than 10 minutes"
   ]
  },
  {
   "cell_type": "markdown",
   "id": "a759e125",
   "metadata": {},
   "source": [
    "#### Convert column Time values with format %M:%S.%MS to format %H:%M:%S"
   ]
  },
  {
   "cell_type": "code",
   "execution_count": 130,
   "id": "ceabf994",
   "metadata": {
    "scrolled": false
   },
   "outputs": [],
   "source": [
    "invalid_time_indices = df[df['Time'].apply(lambda x: x[-2] == '.')].index"
   ]
  },
  {
   "cell_type": "code",
   "execution_count": 131,
   "id": "0c27dfb3",
   "metadata": {
    "scrolled": false
   },
   "outputs": [],
   "source": [
    "df['Time'] = df['Time'].apply(lambda x: datetime.strptime(x, '%M:%S.%f').time() if x[-2] == '.' else datetime.strptime(x, '%H:%M:%S').time())"
   ]
  },
  {
   "cell_type": "markdown",
   "id": "fb4f8d02",
   "metadata": {},
   "source": [
    "### Convert Time into numeric representation as total number of seconds"
   ]
  },
  {
   "cell_type": "code",
   "execution_count": 132,
   "id": "e7191f97",
   "metadata": {},
   "outputs": [],
   "source": [
    "df['Time'] = pd.to_timedelta(df['Time'].astype(str)).dt.total_seconds().astype(int)"
   ]
  },
  {
   "cell_type": "markdown",
   "id": "6b0fd351",
   "metadata": {},
   "source": [
    "#### Avg Pace conversion"
   ]
  },
  {
   "cell_type": "code",
   "execution_count": 133,
   "id": "10ad7ec6",
   "metadata": {},
   "outputs": [],
   "source": [
    "df['Avg Pace'] = df['Avg Pace'].apply(pace_to_km)"
   ]
  },
  {
   "cell_type": "markdown",
   "id": "b5b43171",
   "metadata": {},
   "source": [
    "#### Best Pace conversion"
   ]
  },
  {
   "cell_type": "code",
   "execution_count": 134,
   "id": "e210a7c1",
   "metadata": {},
   "outputs": [],
   "source": [
    "df['Best Pace'] = df['Best Pace'].apply(pace_to_km)"
   ]
  },
  {
   "cell_type": "markdown",
   "id": "121e3d49",
   "metadata": {},
   "source": [
    "### Convert data units from Miles to Kilometers"
   ]
  },
  {
   "cell_type": "markdown",
   "id": "4c8f854e",
   "metadata": {},
   "source": [
    "#### Distance conversion"
   ]
  },
  {
   "cell_type": "code",
   "execution_count": 135,
   "id": "00630eb6",
   "metadata": {},
   "outputs": [],
   "source": [
    "df['Distance'] = df['Distance'].apply(lambda x: round(x * 1.60934, 2))"
   ]
  },
  {
   "cell_type": "markdown",
   "id": "6bf56757",
   "metadata": {},
   "source": [
    "#### Pace conversion "
   ]
  },
  {
   "cell_type": "code",
   "execution_count": 136,
   "id": "78027108",
   "metadata": {},
   "outputs": [],
   "source": [
    "def pace_to_km(pace):\n",
    "    mile = 1.60934 \n",
    "    minutes, seconds = pace.split(':')\n",
    "    pace_in_seconds = int(minutes) * 60 + int(seconds)\n",
    "    pace_per_km = round(pace_in_seconds / mile)\n",
    "    return pace_per_km"
   ]
  },
  {
   "cell_type": "markdown",
   "id": "9a76fe99",
   "metadata": {},
   "source": [
    "## Drop columns which won't be usefull for out regression"
   ]
  },
  {
   "cell_type": "code",
   "execution_count": 137,
   "id": "5760e1ec",
   "metadata": {},
   "outputs": [],
   "source": [
    "df_for_model = df.drop(['Activity Type', 'Date', 'Title', 'Best Lap Time', 'Number of Laps', 'Best Pace'], axis=1)"
   ]
  },
  {
   "cell_type": "code",
   "execution_count": 138,
   "id": "ffb425b4",
   "metadata": {},
   "outputs": [
    {
     "data": {
      "text/html": [
       "<div>\n",
       "<style scoped>\n",
       "    .dataframe tbody tr th:only-of-type {\n",
       "        vertical-align: middle;\n",
       "    }\n",
       "\n",
       "    .dataframe tbody tr th {\n",
       "        vertical-align: top;\n",
       "    }\n",
       "\n",
       "    .dataframe thead th {\n",
       "        text-align: right;\n",
       "    }\n",
       "</style>\n",
       "<table border=\"1\" class=\"dataframe\">\n",
       "  <thead>\n",
       "    <tr style=\"text-align: right;\">\n",
       "      <th></th>\n",
       "      <th>Distance</th>\n",
       "      <th>Calories</th>\n",
       "      <th>Time</th>\n",
       "      <th>Avg HR</th>\n",
       "      <th>Max HR</th>\n",
       "      <th>Avg Run Cadence</th>\n",
       "      <th>Max Run Cadence</th>\n",
       "      <th>Avg Pace</th>\n",
       "      <th>Elev Gain</th>\n",
       "      <th>Elev Loss</th>\n",
       "      <th>Avg Stride Length</th>\n",
       "    </tr>\n",
       "  </thead>\n",
       "  <tbody>\n",
       "    <tr>\n",
       "      <th>0</th>\n",
       "      <td>9.66</td>\n",
       "      <td>530</td>\n",
       "      <td>2635</td>\n",
       "      <td>141</td>\n",
       "      <td>160</td>\n",
       "      <td>176</td>\n",
       "      <td>182</td>\n",
       "      <td>273</td>\n",
       "      <td>169.0</td>\n",
       "      <td>173.0</td>\n",
       "      <td>1.26</td>\n",
       "    </tr>\n",
       "    <tr>\n",
       "      <th>1</th>\n",
       "      <td>10.46</td>\n",
       "      <td>587</td>\n",
       "      <td>2824</td>\n",
       "      <td>144</td>\n",
       "      <td>160</td>\n",
       "      <td>172</td>\n",
       "      <td>182</td>\n",
       "      <td>270</td>\n",
       "      <td>183.0</td>\n",
       "      <td>187.0</td>\n",
       "      <td>1.29</td>\n",
       "    </tr>\n",
       "    <tr>\n",
       "      <th>2</th>\n",
       "      <td>8.06</td>\n",
       "      <td>392</td>\n",
       "      <td>2429</td>\n",
       "      <td>128</td>\n",
       "      <td>151</td>\n",
       "      <td>170</td>\n",
       "      <td>180</td>\n",
       "      <td>301</td>\n",
       "      <td>124.0</td>\n",
       "      <td>124.0</td>\n",
       "      <td>1.17</td>\n",
       "    </tr>\n",
       "    <tr>\n",
       "      <th>3</th>\n",
       "      <td>11.28</td>\n",
       "      <td>633</td>\n",
       "      <td>3175</td>\n",
       "      <td>142</td>\n",
       "      <td>157</td>\n",
       "      <td>172</td>\n",
       "      <td>180</td>\n",
       "      <td>281</td>\n",
       "      <td>215.0</td>\n",
       "      <td>219.0</td>\n",
       "      <td>1.24</td>\n",
       "    </tr>\n",
       "    <tr>\n",
       "      <th>4</th>\n",
       "      <td>8.35</td>\n",
       "      <td>419</td>\n",
       "      <td>2495</td>\n",
       "      <td>129</td>\n",
       "      <td>143</td>\n",
       "      <td>170</td>\n",
       "      <td>178</td>\n",
       "      <td>299</td>\n",
       "      <td>76.0</td>\n",
       "      <td>80.0</td>\n",
       "      <td>1.18</td>\n",
       "    </tr>\n",
       "  </tbody>\n",
       "</table>\n",
       "</div>"
      ],
      "text/plain": [
       "   Distance  Calories  Time  Avg HR  Max HR  Avg Run Cadence  Max Run Cadence  \\\n",
       "0      9.66       530  2635     141     160              176              182   \n",
       "1     10.46       587  2824     144     160              172              182   \n",
       "2      8.06       392  2429     128     151              170              180   \n",
       "3     11.28       633  3175     142     157              172              180   \n",
       "4      8.35       419  2495     129     143              170              178   \n",
       "\n",
       "   Avg Pace  Elev Gain  Elev Loss  Avg Stride Length  \n",
       "0       273      169.0      173.0               1.26  \n",
       "1       270      183.0      187.0               1.29  \n",
       "2       301      124.0      124.0               1.17  \n",
       "3       281      215.0      219.0               1.24  \n",
       "4       299       76.0       80.0               1.18  "
      ]
     },
     "execution_count": 138,
     "metadata": {},
     "output_type": "execute_result"
    }
   ],
   "source": [
    "df_for_model.head()"
   ]
  },
  {
   "cell_type": "markdown",
   "id": "b43b544c",
   "metadata": {},
   "source": [
    "## Looking for Correlations"
   ]
  },
  {
   "cell_type": "code",
   "execution_count": 139,
   "id": "ba50004f",
   "metadata": {},
   "outputs": [
    {
     "data": {
      "text/html": [
       "<div>\n",
       "<style scoped>\n",
       "    .dataframe tbody tr th:only-of-type {\n",
       "        vertical-align: middle;\n",
       "    }\n",
       "\n",
       "    .dataframe tbody tr th {\n",
       "        vertical-align: top;\n",
       "    }\n",
       "\n",
       "    .dataframe thead th {\n",
       "        text-align: right;\n",
       "    }\n",
       "</style>\n",
       "<table border=\"1\" class=\"dataframe\">\n",
       "  <thead>\n",
       "    <tr style=\"text-align: right;\">\n",
       "      <th></th>\n",
       "      <th>Distance</th>\n",
       "      <th>Calories</th>\n",
       "      <th>Time</th>\n",
       "      <th>Avg HR</th>\n",
       "      <th>Max HR</th>\n",
       "      <th>Avg Run Cadence</th>\n",
       "      <th>Max Run Cadence</th>\n",
       "      <th>Avg Pace</th>\n",
       "      <th>Elev Gain</th>\n",
       "      <th>Elev Loss</th>\n",
       "      <th>Avg Stride Length</th>\n",
       "    </tr>\n",
       "  </thead>\n",
       "  <tbody>\n",
       "    <tr>\n",
       "      <th>count</th>\n",
       "      <td>634.000000</td>\n",
       "      <td>634.000000</td>\n",
       "      <td>634.000000</td>\n",
       "      <td>634.000000</td>\n",
       "      <td>634.000000</td>\n",
       "      <td>634.000000</td>\n",
       "      <td>634.000000</td>\n",
       "      <td>634.000000</td>\n",
       "      <td>634.000000</td>\n",
       "      <td>634.000000</td>\n",
       "      <td>634.00000</td>\n",
       "    </tr>\n",
       "    <tr>\n",
       "      <th>mean</th>\n",
       "      <td>8.499543</td>\n",
       "      <td>421.746057</td>\n",
       "      <td>2234.938486</td>\n",
       "      <td>144.457413</td>\n",
       "      <td>165.668770</td>\n",
       "      <td>177.037855</td>\n",
       "      <td>189.063091</td>\n",
       "      <td>258.143533</td>\n",
       "      <td>264.821767</td>\n",
       "      <td>265.157729</td>\n",
       "      <td>1.34082</td>\n",
       "    </tr>\n",
       "    <tr>\n",
       "      <th>std</th>\n",
       "      <td>6.263989</td>\n",
       "      <td>300.780601</td>\n",
       "      <td>1628.836675</td>\n",
       "      <td>14.036251</td>\n",
       "      <td>15.044665</td>\n",
       "      <td>7.085251</td>\n",
       "      <td>10.158264</td>\n",
       "      <td>38.750140</td>\n",
       "      <td>276.334467</td>\n",
       "      <td>277.648169</td>\n",
       "      <td>0.17664</td>\n",
       "    </tr>\n",
       "    <tr>\n",
       "      <th>min</th>\n",
       "      <td>0.400000</td>\n",
       "      <td>7.000000</td>\n",
       "      <td>66.000000</td>\n",
       "      <td>102.000000</td>\n",
       "      <td>116.000000</td>\n",
       "      <td>162.000000</td>\n",
       "      <td>168.000000</td>\n",
       "      <td>160.000000</td>\n",
       "      <td>3.000000</td>\n",
       "      <td>3.000000</td>\n",
       "      <td>0.90000</td>\n",
       "    </tr>\n",
       "    <tr>\n",
       "      <th>25%</th>\n",
       "      <td>3.400000</td>\n",
       "      <td>177.500000</td>\n",
       "      <td>919.250000</td>\n",
       "      <td>135.000000</td>\n",
       "      <td>156.000000</td>\n",
       "      <td>172.000000</td>\n",
       "      <td>180.000000</td>\n",
       "      <td>249.000000</td>\n",
       "      <td>63.000000</td>\n",
       "      <td>59.000000</td>\n",
       "      <td>1.25000</td>\n",
       "    </tr>\n",
       "    <tr>\n",
       "      <th>50%</th>\n",
       "      <td>6.570000</td>\n",
       "      <td>379.000000</td>\n",
       "      <td>1822.000000</td>\n",
       "      <td>143.000000</td>\n",
       "      <td>165.000000</td>\n",
       "      <td>176.000000</td>\n",
       "      <td>188.000000</td>\n",
       "      <td>264.000000</td>\n",
       "      <td>153.000000</td>\n",
       "      <td>148.500000</td>\n",
       "      <td>1.29500</td>\n",
       "    </tr>\n",
       "    <tr>\n",
       "      <th>75%</th>\n",
       "      <td>12.860000</td>\n",
       "      <td>610.000000</td>\n",
       "      <td>3327.250000</td>\n",
       "      <td>152.000000</td>\n",
       "      <td>176.000000</td>\n",
       "      <td>180.000000</td>\n",
       "      <td>194.000000</td>\n",
       "      <td>279.000000</td>\n",
       "      <td>403.750000</td>\n",
       "      <td>397.750000</td>\n",
       "      <td>1.36000</td>\n",
       "    </tr>\n",
       "    <tr>\n",
       "      <th>max</th>\n",
       "      <td>28.980000</td>\n",
       "      <td>1654.000000</td>\n",
       "      <td>7200.000000</td>\n",
       "      <td>188.000000</td>\n",
       "      <td>209.000000</td>\n",
       "      <td>202.000000</td>\n",
       "      <td>246.000000</td>\n",
       "      <td>400.000000</td>\n",
       "      <td>1262.000000</td>\n",
       "      <td>1521.000000</td>\n",
       "      <td>1.86000</td>\n",
       "    </tr>\n",
       "  </tbody>\n",
       "</table>\n",
       "</div>"
      ],
      "text/plain": [
       "         Distance     Calories         Time      Avg HR      Max HR  \\\n",
       "count  634.000000   634.000000   634.000000  634.000000  634.000000   \n",
       "mean     8.499543   421.746057  2234.938486  144.457413  165.668770   \n",
       "std      6.263989   300.780601  1628.836675   14.036251   15.044665   \n",
       "min      0.400000     7.000000    66.000000  102.000000  116.000000   \n",
       "25%      3.400000   177.500000   919.250000  135.000000  156.000000   \n",
       "50%      6.570000   379.000000  1822.000000  143.000000  165.000000   \n",
       "75%     12.860000   610.000000  3327.250000  152.000000  176.000000   \n",
       "max     28.980000  1654.000000  7200.000000  188.000000  209.000000   \n",
       "\n",
       "       Avg Run Cadence  Max Run Cadence    Avg Pace    Elev Gain    Elev Loss  \\\n",
       "count       634.000000       634.000000  634.000000   634.000000   634.000000   \n",
       "mean        177.037855       189.063091  258.143533   264.821767   265.157729   \n",
       "std           7.085251        10.158264   38.750140   276.334467   277.648169   \n",
       "min         162.000000       168.000000  160.000000     3.000000     3.000000   \n",
       "25%         172.000000       180.000000  249.000000    63.000000    59.000000   \n",
       "50%         176.000000       188.000000  264.000000   153.000000   148.500000   \n",
       "75%         180.000000       194.000000  279.000000   403.750000   397.750000   \n",
       "max         202.000000       246.000000  400.000000  1262.000000  1521.000000   \n",
       "\n",
       "       Avg Stride Length  \n",
       "count          634.00000  \n",
       "mean             1.34082  \n",
       "std              0.17664  \n",
       "min              0.90000  \n",
       "25%              1.25000  \n",
       "50%              1.29500  \n",
       "75%              1.36000  \n",
       "max              1.86000  "
      ]
     },
     "execution_count": 139,
     "metadata": {},
     "output_type": "execute_result"
    }
   ],
   "source": [
    "df_for_model.describe()"
   ]
  },
  {
   "cell_type": "code",
   "execution_count": 140,
   "id": "a78f8811",
   "metadata": {},
   "outputs": [],
   "source": [
    "corr_matrix = df_for_model.corr(numeric_only=True)"
   ]
  },
  {
   "cell_type": "code",
   "execution_count": 141,
   "id": "8c9bd4e5",
   "metadata": {},
   "outputs": [
    {
     "data": {
      "text/plain": [
       "Time                 1.000000\n",
       "Distance             0.992891\n",
       "Calories             0.955622\n",
       "Elev Gain            0.821551\n",
       "Elev Loss            0.818582\n",
       "Avg Pace             0.252870\n",
       "Max HR               0.134543\n",
       "Avg HR              -0.053432\n",
       "Max Run Cadence     -0.178102\n",
       "Avg Stride Length   -0.319321\n",
       "Avg Run Cadence     -0.331184\n",
       "Name: Time, dtype: float64"
      ]
     },
     "execution_count": 141,
     "metadata": {},
     "output_type": "execute_result"
    }
   ],
   "source": [
    "corr_matrix['Time'].sort_values(ascending=False)"
   ]
  },
  {
   "cell_type": "markdown",
   "id": "91b3f23e",
   "metadata": {},
   "source": [
    "# Split dataset"
   ]
  },
  {
   "cell_type": "code",
   "execution_count": 142,
   "id": "6bfadf9c",
   "metadata": {},
   "outputs": [],
   "source": [
    "from sklearn.model_selection import train_test_split\n",
    "\n",
    "def get_data_splits(X, y, train_size=0.7):\n",
    "    X_train, X_, y_train, y_ = train_test_split(X, y, train_size=train_size, random_state=42)\n",
    "    X_val, X_test, y_val, y_test = train_test_split(X_, y_, train_size=0.5, random_state=42)\n",
    "    return X_train, X_val, X_test, y_train, y_val, y_test"
   ]
  },
  {
   "cell_type": "code",
   "execution_count": 143,
   "id": "0f89072f",
   "metadata": {},
   "outputs": [],
   "source": [
    "X_train, X_val, X_test, y_train, y_val, y_test = get_data_splits(X=df_for_model.drop('Time', axis=1), y=df_for_model['Time'])"
   ]
  },
  {
   "cell_type": "markdown",
   "id": "96b23221",
   "metadata": {},
   "source": [
    "# Train, adjust hyperparameters and evaluate models"
   ]
  },
  {
   "cell_type": "markdown",
   "id": "98331d7f",
   "metadata": {},
   "source": [
    "## -->Linear Regression"
   ]
  },
  {
   "cell_type": "code",
   "execution_count": 144,
   "id": "2f43d53e",
   "metadata": {},
   "outputs": [
    {
     "name": "stdout",
     "output_type": "stream",
     "text": [
      "Mean squared error: 123.09 seconds\n",
      "Mean absolute error: 87.63 seconds\n"
     ]
    }
   ],
   "source": [
    "from sklearn.linear_model import LinearRegression\n",
    "from sklearn.metrics import mean_squared_error, mean_absolute_error\n",
    "\n",
    "lin_reg = LinearRegression()\n",
    "# Train model on the training set\n",
    "lin_reg.fit(X_train, y_train)\n",
    "# Predict values \n",
    "y_pred = lin_reg.predict(X_test)\n",
    "# Evaluate the model on the test set\n",
    "mse = mean_squared_error(y_test, y_pred, squared=False)\n",
    "mae = mean_absolute_error(y_test, y_pred)\n",
    "print(f'Mean squared error: {mse:.2f} seconds')\n",
    "print(f'Mean absolute error: {mae:.2f} seconds')"
   ]
  },
  {
   "cell_type": "code",
   "execution_count": 145,
   "id": "bb75bff4",
   "metadata": {},
   "outputs": [
    {
     "name": "stdout",
     "output_type": "stream",
     "text": [
      "Outcomes: [111.26083732 135.6175408  116.75448959 156.96834224 141.54296541\n",
      " 117.27024139 106.41079103 180.81606197 105.08903385 107.47253924]\n",
      "Mean: 127.92028428428975\n",
      "Standard deviation: 24.09200759322915\n"
     ]
    }
   ],
   "source": [
    "from sklearn.model_selection import cross_val_score\n",
    "\n",
    "scores = cross_val_score(lin_reg, X_train, y_train, scoring='neg_mean_squared_error', cv=10)\n",
    "scores = np.sqrt(-scores)\n",
    "print('Outcomes:', scores)\n",
    "print('Mean:', scores.mean())\n",
    "print('Standard deviation:', scores.std())"
   ]
  },
  {
   "cell_type": "markdown",
   "id": "9d9f38e7",
   "metadata": {},
   "source": [
    "### <u> Linear Regression with PolynomialFeature </u> BEST ONE"
   ]
  },
  {
   "cell_type": "code",
   "execution_count": 146,
   "id": "2efecf64",
   "metadata": {
    "scrolled": false
   },
   "outputs": [
    {
     "name": "stdout",
     "output_type": "stream",
     "text": [
      "Mean squared error: 4.94 seconds\n",
      "Mean absolute error: 3.55 seconds\n",
      "\n",
      "Outcomes: [2.4097625  6.52823458 4.54182088 5.81777243 5.42498357 4.2994862\n",
      " 3.07439461 5.11304174 4.24435201 4.5800948 ]\n",
      "Mean: 4.603394332413428\n",
      "Standard deviation: 1.1614620087993124\n"
     ]
    }
   ],
   "source": [
    "from sklearn.preprocessing import PolynomialFeatures\n",
    "from sklearn.preprocessing import StandardScaler\n",
    "from sklearn.pipeline import make_pipeline\n",
    "\n",
    "polynomial_regression = make_pipeline(\n",
    "    PolynomialFeatures(include_bias=False),\n",
    "    StandardScaler(),\n",
    "    LinearRegression()\n",
    ")\n",
    "# Train model on training set\n",
    "polynomial_regression.fit(X_train, y_train)\n",
    "# Predict valeus \n",
    "y_pred = polynomial_regression.predict(X_test)\n",
    "# Evalueate the model on the test set\n",
    "mse = mean_squared_error(y_test, y_pred, squared=False)\n",
    "mae = mean_absolute_error(y_test, y_pred)\n",
    "print(f'Mean squared error: {mse:.2f} seconds')\n",
    "print(f'Mean absolute error: {mae:.2f} seconds')\n",
    "\n",
    "scores = cross_val_score(polynomial_regression, X_train, y_train, scoring='neg_mean_squared_error', cv=10)\n",
    "scores = np.sqrt(-scores)\n",
    "print('\\nOutcomes:', scores)\n",
    "print('Mean:', scores.mean())\n",
    "print('Standard deviation:', scores.std())"
   ]
  },
  {
   "cell_type": "code",
   "execution_count": 25,
   "id": "07ba583c",
   "metadata": {
    "scrolled": true
   },
   "outputs": [
    {
     "data": {
      "text/html": [
       "<div>\n",
       "<style scoped>\n",
       "    .dataframe tbody tr th:only-of-type {\n",
       "        vertical-align: middle;\n",
       "    }\n",
       "\n",
       "    .dataframe tbody tr th {\n",
       "        vertical-align: top;\n",
       "    }\n",
       "\n",
       "    .dataframe thead th {\n",
       "        text-align: right;\n",
       "    }\n",
       "</style>\n",
       "<table border=\"1\" class=\"dataframe\">\n",
       "  <thead>\n",
       "    <tr style=\"text-align: right;\">\n",
       "      <th></th>\n",
       "      <th>y_test</th>\n",
       "      <th>y_pred</th>\n",
       "    </tr>\n",
       "  </thead>\n",
       "  <tbody>\n",
       "    <tr>\n",
       "      <th>0</th>\n",
       "      <td>178</td>\n",
       "      <td>178.565962</td>\n",
       "    </tr>\n",
       "    <tr>\n",
       "      <th>1</th>\n",
       "      <td>2323</td>\n",
       "      <td>2323.377057</td>\n",
       "    </tr>\n",
       "    <tr>\n",
       "      <th>2</th>\n",
       "      <td>2387</td>\n",
       "      <td>2384.067641</td>\n",
       "    </tr>\n",
       "    <tr>\n",
       "      <th>3</th>\n",
       "      <td>3333</td>\n",
       "      <td>3331.161803</td>\n",
       "    </tr>\n",
       "    <tr>\n",
       "      <th>4</th>\n",
       "      <td>888</td>\n",
       "      <td>888.036804</td>\n",
       "    </tr>\n",
       "  </tbody>\n",
       "</table>\n",
       "</div>"
      ],
      "text/plain": [
       "   y_test       y_pred\n",
       "0     178   178.565962\n",
       "1    2323  2323.377057\n",
       "2    2387  2384.067641\n",
       "3    3333  3331.161803\n",
       "4     888   888.036804"
      ]
     },
     "execution_count": 25,
     "metadata": {},
     "output_type": "execute_result"
    }
   ],
   "source": [
    "pd.DataFrame({'y_test': y_test.values, 'y_pred': y_pred}).head()"
   ]
  },
  {
   "cell_type": "code",
   "execution_count": 26,
   "id": "d437fe59",
   "metadata": {},
   "outputs": [
    {
     "name": "stdout",
     "output_type": "stream",
     "text": [
      "Best hyperparameters:  {'poly__degree': 2}\n",
      "Best MSE:  5.405348314305393\n"
     ]
    }
   ],
   "source": [
    "from sklearn.model_selection import GridSearchCV, RandomizedSearchCV\n",
    "from sklearn.pipeline import Pipeline\n",
    "\n",
    "pipeline = Pipeline([\n",
    "    ('poly', PolynomialFeatures(include_bias=False)),\n",
    "    ('scaler', StandardScaler()),\n",
    "    ('linear', LinearRegression())\n",
    "])\n",
    "\n",
    "param_grid = {\n",
    "    'poly__degree': [1,2,3,4]\n",
    "}\n",
    "# Create a GridSearchCV object with pipeline and hyperparamters to search over\n",
    "grid_search = GridSearchCV(pipeline, param_grid, cv=5, scoring='neg_mean_squared_error', n_jobs=-1)\n",
    "# Train the grid search on training set\n",
    "grid_search.fit(X_train, y_train)\n",
    "\n",
    "# Print the best hyperparameters and the corresponding mean squared error\n",
    "print(\"Best hyperparameters: \", grid_search.best_params_)\n",
    "print(\"Best MSE: \", np.sqrt(-grid_search.best_score_))"
   ]
  },
  {
   "cell_type": "markdown",
   "id": "91078013",
   "metadata": {},
   "source": [
    "## --> SVM"
   ]
  },
  {
   "cell_type": "code",
   "execution_count": 27,
   "id": "54a2191f",
   "metadata": {},
   "outputs": [
    {
     "name": "stdout",
     "output_type": "stream",
     "text": [
      "Mean squared error: 1752.09 seconds\n",
      "Mean absolute error: 1352.38 seconds\n",
      "\n",
      "Outcomes: [1463.38583766 1668.56549134 1458.48011337 1899.08778814 1634.39489456\n",
      " 1498.1952712  1882.60971203 1885.11979069 1612.33029929 1825.51476271]\n",
      "Mean: 1682.7683960991685\n",
      "Standard deviation: 169.72261657888671\n"
     ]
    }
   ],
   "source": [
    "from sklearn.svm import SVR\n",
    "\n",
    "svm_reg_pipe = make_pipeline(\n",
    "    StandardScaler(),\n",
    "    SVR()\n",
    ")\n",
    "svm_reg = SVR()\n",
    "# Train model on training set\n",
    "svm_reg_pipe.fit(X_train, y_train)\n",
    "y_pred = svm_reg_pipe.predict(X_test)\n",
    "# Evalueate the model on the test set\n",
    "mse = mean_squared_error(y_test, y_pred, squared=False)\n",
    "mae = mean_absolute_error(y_test, y_pred)\n",
    "print(f'Mean squared error: {mse:.2f} seconds')\n",
    "print(f'Mean absolute error: {mae:.2f} seconds')\n",
    "\n",
    "scores = cross_val_score(svm_reg_pipe, X_train, y_train, scoring='neg_mean_squared_error', cv=10)\n",
    "scores = np.sqrt(-scores)\n",
    "print('\\nOutcomes:', scores)\n",
    "print('Mean:', scores.mean())\n",
    "print('Standard deviation:', scores.std())"
   ]
  },
  {
   "cell_type": "markdown",
   "id": "e59fcda5",
   "metadata": {},
   "source": [
    "## --> RandomForest"
   ]
  },
  {
   "cell_type": "code",
   "execution_count": 28,
   "id": "82869350",
   "metadata": {
    "scrolled": true
   },
   "outputs": [
    {
     "name": "stdout",
     "output_type": "stream",
     "text": [
      "Mean squared error: 99.85 seconds\n",
      "Mean absolute error: 63.72 seconds\n",
      "\n",
      "Outcomes: [ 97.44426657  79.68426797  89.23167184 163.50320648 137.90629646\n",
      " 115.21141868 113.43881191 184.63416597 106.26859622 133.76336014]\n",
      "Mean: 122.10860622454797\n",
      "Standard deviation: 31.4182244010454\n"
     ]
    }
   ],
   "source": [
    "from sklearn.ensemble import RandomForestRegressor\n",
    "\n",
    "forest_reg = make_pipeline(\n",
    "    StandardScaler(),\n",
    "    RandomForestRegressor(random_state=42)\n",
    ")\n",
    "# Train model on training set\n",
    "forest_reg.fit(X_train, y_train)\n",
    "y_pred = forest_reg.predict(X_test)\n",
    "# Evalueate the model on the test set\n",
    "mse = mean_squared_error(y_test, y_pred, squared=False)\n",
    "mae = mean_absolute_error(y_test, y_pred)\n",
    "print(f'Mean squared error: {mse:.2f} seconds')\n",
    "print(f'Mean absolute error: {mae:.2f} seconds')\n",
    "\n",
    "scores = cross_val_score(forest_reg, X_train, y_train, scoring='neg_mean_squared_error', cv=10)\n",
    "scores = np.sqrt(-scores)\n",
    "print('\\nOutcomes:', scores)\n",
    "print('Mean:', scores.mean())\n",
    "print('Standard deviation:', scores.std())"
   ]
  },
  {
   "cell_type": "code",
   "execution_count": 29,
   "id": "115c52f5",
   "metadata": {},
   "outputs": [
    {
     "data": {
      "text/html": [
       "<div>\n",
       "<style scoped>\n",
       "    .dataframe tbody tr th:only-of-type {\n",
       "        vertical-align: middle;\n",
       "    }\n",
       "\n",
       "    .dataframe tbody tr th {\n",
       "        vertical-align: top;\n",
       "    }\n",
       "\n",
       "    .dataframe thead th {\n",
       "        text-align: right;\n",
       "    }\n",
       "</style>\n",
       "<table border=\"1\" class=\"dataframe\">\n",
       "  <thead>\n",
       "    <tr style=\"text-align: right;\">\n",
       "      <th></th>\n",
       "      <th>y_test</th>\n",
       "      <th>y_pred</th>\n",
       "    </tr>\n",
       "  </thead>\n",
       "  <tbody>\n",
       "    <tr>\n",
       "      <th>0</th>\n",
       "      <td>178</td>\n",
       "      <td>179.82</td>\n",
       "    </tr>\n",
       "    <tr>\n",
       "      <th>1</th>\n",
       "      <td>2323</td>\n",
       "      <td>2373.75</td>\n",
       "    </tr>\n",
       "    <tr>\n",
       "      <th>2</th>\n",
       "      <td>2387</td>\n",
       "      <td>2356.00</td>\n",
       "    </tr>\n",
       "    <tr>\n",
       "      <th>3</th>\n",
       "      <td>3333</td>\n",
       "      <td>3316.33</td>\n",
       "    </tr>\n",
       "    <tr>\n",
       "      <th>4</th>\n",
       "      <td>888</td>\n",
       "      <td>880.15</td>\n",
       "    </tr>\n",
       "  </tbody>\n",
       "</table>\n",
       "</div>"
      ],
      "text/plain": [
       "   y_test   y_pred\n",
       "0     178   179.82\n",
       "1    2323  2373.75\n",
       "2    2387  2356.00\n",
       "3    3333  3316.33\n",
       "4     888   880.15"
      ]
     },
     "execution_count": 29,
     "metadata": {},
     "output_type": "execute_result"
    }
   ],
   "source": [
    "pd.DataFrame({'y_test': y_test.values, 'y_pred': y_pred}).head()"
   ]
  },
  {
   "cell_type": "markdown",
   "id": "67a3e80a",
   "metadata": {},
   "source": [
    "## --> Stochastic Gradient Descent"
   ]
  },
  {
   "cell_type": "code",
   "execution_count": 30,
   "id": "c93f8265",
   "metadata": {},
   "outputs": [
    {
     "name": "stdout",
     "output_type": "stream",
     "text": [
      "Mean squared error: 555351423880402.25 seconds\n",
      "Mean absolute error: 401307243498854.19 seconds\n"
     ]
    }
   ],
   "source": [
    "from sklearn.linear_model import SGDRegressor\n",
    "\n",
    "# Train model on training set\n",
    "sgd_reg = SGDRegressor()\n",
    "sgd_reg.fit(X_train, y_train)\n",
    "y_pred = sgd_reg.predict(X_test)\n",
    "# Evalueate the model on the test set\n",
    "mse = mean_squared_error(y_test, y_pred, squared=False)\n",
    "mae = mean_absolute_error(y_test, y_pred)\n",
    "print(f'Mean squared error: {mse:.2f} seconds')\n",
    "print(f'Mean absolute error: {mae:.2f} seconds')"
   ]
  },
  {
   "cell_type": "code",
   "execution_count": 31,
   "id": "41f35a3e",
   "metadata": {},
   "outputs": [
    {
     "name": "stdout",
     "output_type": "stream",
     "text": [
      "Best hyperparamenters:  {'power_t': 0.25, 'penalty': 'l2', 'max_iter': 4000, 'loss': 'epsilon_insensitive', 'learning_rate': 'constant', 'eta0': 0.001, 'alpha': 0.001}\n",
      "Best MSE:  0.8948497032185945\n"
     ]
    }
   ],
   "source": [
    "param_grid = {\n",
    "    'alpha': 10.0 ** -np.arange(1, 7),\n",
    "    'loss': ['huber', 'epsilon_insensitive'],\n",
    "    'penalty': ['l2', 'l1', 'elasticnet'],\n",
    "    'learning_rate': ['constant', 'optimal', 'invscaling'],\n",
    "    'eta0': 10.0 ** -np.arange(1, 4),\n",
    "    'power_t': np.arange(0, 2, 0.25),\n",
    "    'max_iter': np.arange(1000, 10000, 1000),\n",
    "}\n",
    "model = SGDRegressor()\n",
    "rnd_search = RandomizedSearchCV(model, param_grid)\n",
    "rnd_search.fit(X_train, y_train)\n",
    "print('Best hyperparamenters: ', rnd_search.best_params_)\n",
    "print(\"Best MSE: \", rnd_search.best_score_)"
   ]
  },
  {
   "cell_type": "code",
   "execution_count": 35,
   "id": "bf436f08",
   "metadata": {},
   "outputs": [],
   "source": [
    "model = SGDRegressor(\n",
    "    loss='huber', penalty='l2', alpha=1e-05, max_iter=9000,\n",
    "    learning_rate='invscaling', eta0=0.01, power_t=0.25,\n",
    "    warm_start=True)"
   ]
  },
  {
   "cell_type": "code",
   "execution_count": 33,
   "id": "dd04d7f1",
   "metadata": {},
   "outputs": [],
   "source": [
    "model = SGDRegressor(**rnd_search.best_params_)"
   ]
  },
  {
   "cell_type": "code",
   "execution_count": 36,
   "id": "67c85727",
   "metadata": {},
   "outputs": [
    {
     "name": "stdout",
     "output_type": "stream",
     "text": [
      "Epoch: 00 | train_mse: 183687.12640, val_mse: 174286.47211\n",
      "Epoch: 10 | train_mse: 138561.26237, val_mse: 140535.21575\n",
      "Epoch: 20 | train_mse: 135294.16132, val_mse: 145528.05680\n",
      "Epoch: 30 | train_mse: 163137.43817, val_mse: 182188.87248\n",
      "Epoch: 40 | train_mse: 117340.36812, val_mse: 119386.84121\n",
      "Epoch: 50 | train_mse: 119770.99464, val_mse: 131677.56914\n",
      "Epoch: 60 | train_mse: 112350.16549, val_mse: 125362.27965\n",
      "Epoch: 70 | train_mse: 94580.39761, val_mse: 103537.21024\n",
      "Epoch: 80 | train_mse: 91545.40585, val_mse: 91224.75233\n",
      "Epoch: 90 | train_mse: 174558.96443, val_mse: 199857.76730\n",
      "Epoch: 100 | train_mse: 74812.77639, val_mse: 76471.81931\n",
      "Epoch: 110 | train_mse: 97964.47460, val_mse: 114128.33726\n",
      "Epoch: 120 | train_mse: 68706.26892, val_mse: 72289.22739\n",
      "Epoch: 130 | train_mse: 60921.59940, val_mse: 67851.72584\n",
      "Epoch: 140 | train_mse: 61492.43948, val_mse: 59708.97303\n",
      "Epoch: 150 | train_mse: 95278.82588, val_mse: 81259.98814\n",
      "Epoch: 160 | train_mse: 50053.73953, val_mse: 60099.00917\n",
      "Epoch: 170 | train_mse: 69637.98714, val_mse: 86701.65266\n",
      "Epoch: 180 | train_mse: 46412.36057, val_mse: 45419.94213\n",
      "Epoch: 190 | train_mse: 41574.63493, val_mse: 42386.52627\n"
     ]
    },
    {
     "data": {
      "image/png": "[encoded data removed]",
      "text/plain": [
       "<Figure size 640x480 with 1 Axes>"
      ]
     },
     "metadata": {},
     "output_type": "display_data"
    }
   ],
   "source": [
    "import matplotlib.pyplot as plt\n",
    "\n",
    "num_epochs = 200\n",
    "train_mse = []\n",
    "val_mse = []\n",
    "\n",
    "for epoch in range(num_epochs):\n",
    "    # Training\n",
    "    model.fit(X_train, y_train)\n",
    "\n",
    "    # Evaluation\n",
    "    train_pred = model.predict(X_train)\n",
    "    val_pred = model.predict(X_val)    \n",
    "    train_mse.append(mean_squared_error(y_train, train_pred))\n",
    "    val_mse.append(mean_squared_error(y_val, val_pred))\n",
    "    \n",
    "    if not epoch%10:\n",
    "        print(\n",
    "            f\"Epoch: {epoch:02d} | \"\n",
    "            f\"train_mse: {train_mse[-1]:.5f}, \"\n",
    "            f\"val_mse: {val_mse[-1]:.5f}\"\n",
    "        )\n",
    "\n",
    "# Plot the MSE for each epoch\n",
    "plt.plot(train_mse, label='train')\n",
    "plt.plot(val_mse, label='validation')\n",
    "plt.xlabel('Epoch')\n",
    "plt.ylabel('MSE')\n",
    "plt.legend()\n",
    "plt.show()"
   ]
  },
  {
   "cell_type": "markdown",
   "id": "834df8c4",
   "metadata": {},
   "source": [
    " "
   ]
  },
  {
   "cell_type": "markdown",
   "id": "db93bac7",
   "metadata": {},
   "source": [
    "## Testing models with different combination of features"
   ]
  },
  {
   "cell_type": "code",
   "execution_count": 37,
   "id": "9e25eb49",
   "metadata": {},
   "outputs": [
    {
     "data": {
      "text/plain": [
       "Calories             1.000000\n",
       "Time                 0.955622\n",
       "Distance             0.950508\n",
       "Number of Laps       0.944696\n",
       "Elev Gain            0.767314\n",
       "Elev Loss            0.763612\n",
       "Avg Pace             0.242882\n",
       "Max HR               0.236209\n",
       "Avg HR               0.104829\n",
       "Best Pace            0.054429\n",
       "Max Run Cadence     -0.216974\n",
       "Avg Stride Length   -0.299361\n",
       "Avg Run Cadence     -0.366149\n",
       "Name: Calories, dtype: float64"
      ]
     },
     "execution_count": 37,
     "metadata": {},
     "output_type": "execute_result"
    }
   ],
   "source": [
    "df.corr(numeric_only=True)['Calories'].sort_values(ascending=False)"
   ]
  },
  {
   "cell_type": "code",
   "execution_count": 38,
   "id": "ae14e463",
   "metadata": {},
   "outputs": [],
   "source": [
    "new_df = df_for_model.drop(['Max HR', 'Best Pace', 'Max Run Cadence', 'Avg Stride Length'], axis=1)"
   ]
  },
  {
   "cell_type": "code",
   "execution_count": 39,
   "id": "17dcd475",
   "metadata": {},
   "outputs": [
    {
     "data": {
      "text/html": [
       "<div>\n",
       "<style scoped>\n",
       "    .dataframe tbody tr th:only-of-type {\n",
       "        vertical-align: middle;\n",
       "    }\n",
       "\n",
       "    .dataframe tbody tr th {\n",
       "        vertical-align: top;\n",
       "    }\n",
       "\n",
       "    .dataframe thead th {\n",
       "        text-align: right;\n",
       "    }\n",
       "</style>\n",
       "<table border=\"1\" class=\"dataframe\">\n",
       "  <thead>\n",
       "    <tr style=\"text-align: right;\">\n",
       "      <th></th>\n",
       "      <th>Distance</th>\n",
       "      <th>Calories</th>\n",
       "      <th>Time</th>\n",
       "      <th>Avg HR</th>\n",
       "      <th>Avg Run Cadence</th>\n",
       "      <th>Avg Pace</th>\n",
       "      <th>Elev Gain</th>\n",
       "      <th>Elev Loss</th>\n",
       "    </tr>\n",
       "  </thead>\n",
       "  <tbody>\n",
       "    <tr>\n",
       "      <th>0</th>\n",
       "      <td>9.66</td>\n",
       "      <td>530</td>\n",
       "      <td>2635</td>\n",
       "      <td>141</td>\n",
       "      <td>176</td>\n",
       "      <td>273</td>\n",
       "      <td>169.0</td>\n",
       "      <td>173.0</td>\n",
       "    </tr>\n",
       "    <tr>\n",
       "      <th>1</th>\n",
       "      <td>10.46</td>\n",
       "      <td>587</td>\n",
       "      <td>2824</td>\n",
       "      <td>144</td>\n",
       "      <td>172</td>\n",
       "      <td>270</td>\n",
       "      <td>183.0</td>\n",
       "      <td>187.0</td>\n",
       "    </tr>\n",
       "    <tr>\n",
       "      <th>2</th>\n",
       "      <td>8.06</td>\n",
       "      <td>392</td>\n",
       "      <td>2429</td>\n",
       "      <td>128</td>\n",
       "      <td>170</td>\n",
       "      <td>301</td>\n",
       "      <td>124.0</td>\n",
       "      <td>124.0</td>\n",
       "    </tr>\n",
       "    <tr>\n",
       "      <th>3</th>\n",
       "      <td>11.28</td>\n",
       "      <td>633</td>\n",
       "      <td>3175</td>\n",
       "      <td>142</td>\n",
       "      <td>172</td>\n",
       "      <td>281</td>\n",
       "      <td>215.0</td>\n",
       "      <td>219.0</td>\n",
       "    </tr>\n",
       "    <tr>\n",
       "      <th>4</th>\n",
       "      <td>8.35</td>\n",
       "      <td>419</td>\n",
       "      <td>2495</td>\n",
       "      <td>129</td>\n",
       "      <td>170</td>\n",
       "      <td>299</td>\n",
       "      <td>76.0</td>\n",
       "      <td>80.0</td>\n",
       "    </tr>\n",
       "  </tbody>\n",
       "</table>\n",
       "</div>"
      ],
      "text/plain": [
       "   Distance  Calories  Time  Avg HR  Avg Run Cadence  Avg Pace  Elev Gain  \\\n",
       "0      9.66       530  2635     141              176       273      169.0   \n",
       "1     10.46       587  2824     144              172       270      183.0   \n",
       "2      8.06       392  2429     128              170       301      124.0   \n",
       "3     11.28       633  3175     142              172       281      215.0   \n",
       "4      8.35       419  2495     129              170       299       76.0   \n",
       "\n",
       "   Elev Loss  \n",
       "0      173.0  \n",
       "1      187.0  \n",
       "2      124.0  \n",
       "3      219.0  \n",
       "4       80.0  "
      ]
     },
     "execution_count": 39,
     "metadata": {},
     "output_type": "execute_result"
    }
   ],
   "source": [
    "new_df.head()"
   ]
  },
  {
   "cell_type": "code",
   "execution_count": 40,
   "id": "9a66d969",
   "metadata": {},
   "outputs": [],
   "source": [
    "X_train, X_val, X_test, y_train, y_val, y_test = get_data_splits(X=new_df.drop('Calories', axis=1), y=new_df['Calories'])"
   ]
  },
  {
   "cell_type": "markdown",
   "id": "ddeac0dc",
   "metadata": {},
   "source": [
    "### Linear Regression"
   ]
  },
  {
   "cell_type": "code",
   "execution_count": 41,
   "id": "f0581bf2",
   "metadata": {},
   "outputs": [
    {
     "name": "stdout",
     "output_type": "stream",
     "text": [
      "Mean squared error: 64.12 calories\n",
      "Mean absolute error: 44.54 calories\n",
      "\n",
      "Outcomes: [57.92225573 93.5023716  58.70922722 86.02391241 92.60274924 68.03373995\n",
      " 64.38318104 82.15636907 87.38622441 68.67914931]\n",
      "Mean: 75.93991799660951\n",
      "Standard deviation: 13.144414404180528\n"
     ]
    }
   ],
   "source": [
    "lin_reg = LinearRegression()\n",
    "# Train model on the training set\n",
    "lin_reg.fit(X_train, y_train)\n",
    "# Predict values \n",
    "y_pred = lin_reg.predict(X_test)\n",
    "# Evaluate the model on the test set\n",
    "mse = mean_squared_error(y_test, y_pred, squared=False)\n",
    "mae = mean_absolute_error(y_test, y_pred)\n",
    "print(f'Mean squared error: {mse:.2f} calories')\n",
    "print(f'Mean absolute error: {mae:.2f} calories')\n",
    "\n",
    "scores = cross_val_score(lin_reg, X_train, y_train, scoring='neg_mean_squared_error', cv=10)\n",
    "scores = np.sqrt(-scores)\n",
    "print('\\nOutcomes:', scores)\n",
    "print('Mean:', scores.mean())\n",
    "print('Standard deviation:', scores.std())"
   ]
  },
  {
   "cell_type": "markdown",
   "id": "88b67ad6",
   "metadata": {},
   "source": [
    "### Linear Regression with Polynomial Features"
   ]
  },
  {
   "cell_type": "code",
   "execution_count": 42,
   "id": "b2dd403e",
   "metadata": {
    "scrolled": true
   },
   "outputs": [
    {
     "name": "stdout",
     "output_type": "stream",
     "text": [
      "Mean squared error: 45.39 calories\n",
      "Mean absolute error: 29.73 calories\n",
      "\n",
      "Outcomes: [37.22197739 50.341404   31.87968289 44.14693276 46.37864098 40.59431664\n",
      " 42.49243655 48.20695616 56.68468381 50.21788391]\n",
      "Mean: 44.81649150926388\n",
      "Standard deviation: 6.805903400856608\n"
     ]
    }
   ],
   "source": [
    "polynomial_regression = make_pipeline(\n",
    "    PolynomialFeatures(include_bias=False),\n",
    "    StandardScaler(),\n",
    "    LinearRegression()\n",
    ")\n",
    "# Train model on training set\n",
    "polynomial_regression.fit(X_train, y_train)\n",
    "# Predict valeus \n",
    "y_pred = polynomial_regression.predict(X_test)\n",
    "# Evalueate the model on the test set\n",
    "mse = mean_squared_error(y_test, y_pred, squared=False)\n",
    "mae = mean_absolute_error(y_test, y_pred)\n",
    "print(f'Mean squared error: {mse:.2f} calories')\n",
    "print(f'Mean absolute error: {mae:.2f} calories')\n",
    "\n",
    "scores = cross_val_score(polynomial_regression, X_train, y_train, scoring='neg_mean_squared_error', cv=10)\n",
    "scores = np.sqrt(-scores)\n",
    "print('\\nOutcomes:', scores)\n",
    "print('Mean:', scores.mean())\n",
    "print('Standard deviation:', scores.std())"
   ]
  },
  {
   "cell_type": "code",
   "execution_count": 43,
   "id": "f4f32bb8",
   "metadata": {
    "scrolled": true
   },
   "outputs": [
    {
     "data": {
      "text/html": [
       "<div>\n",
       "<style scoped>\n",
       "    .dataframe tbody tr th:only-of-type {\n",
       "        vertical-align: middle;\n",
       "    }\n",
       "\n",
       "    .dataframe tbody tr th {\n",
       "        vertical-align: top;\n",
       "    }\n",
       "\n",
       "    .dataframe thead th {\n",
       "        text-align: right;\n",
       "    }\n",
       "</style>\n",
       "<table border=\"1\" class=\"dataframe\">\n",
       "  <thead>\n",
       "    <tr style=\"text-align: right;\">\n",
       "      <th></th>\n",
       "      <th>y_test</th>\n",
       "      <th>y_pred</th>\n",
       "    </tr>\n",
       "  </thead>\n",
       "  <tbody>\n",
       "    <tr>\n",
       "      <th>0</th>\n",
       "      <td>29</td>\n",
       "      <td>34.472443</td>\n",
       "    </tr>\n",
       "    <tr>\n",
       "      <th>1</th>\n",
       "      <td>506</td>\n",
       "      <td>459.723263</td>\n",
       "    </tr>\n",
       "    <tr>\n",
       "      <th>2</th>\n",
       "      <td>440</td>\n",
       "      <td>427.809020</td>\n",
       "    </tr>\n",
       "    <tr>\n",
       "      <th>3</th>\n",
       "      <td>808</td>\n",
       "      <td>892.003966</td>\n",
       "    </tr>\n",
       "    <tr>\n",
       "      <th>4</th>\n",
       "      <td>163</td>\n",
       "      <td>166.039333</td>\n",
       "    </tr>\n",
       "  </tbody>\n",
       "</table>\n",
       "</div>"
      ],
      "text/plain": [
       "   y_test      y_pred\n",
       "0      29   34.472443\n",
       "1     506  459.723263\n",
       "2     440  427.809020\n",
       "3     808  892.003966\n",
       "4     163  166.039333"
      ]
     },
     "execution_count": 43,
     "metadata": {},
     "output_type": "execute_result"
    }
   ],
   "source": [
    "pd.DataFrame({'y_test': y_test.values, 'y_pred': y_pred}).head()"
   ]
  },
  {
   "cell_type": "markdown",
   "id": "c180862a",
   "metadata": {},
   "source": [
    "### -->SVM Regressor"
   ]
  },
  {
   "cell_type": "code",
   "execution_count": 61,
   "id": "60b8eea6",
   "metadata": {},
   "outputs": [
    {
     "name": "stdout",
     "output_type": "stream",
     "text": [
      "Mean squared error: 282.78 calories\n",
      "Mean absolute error: 214.50 calories\n",
      "\n",
      "Outcomes: [223.10835328 330.17757264 246.94185521 301.31299113 253.37620159\n",
      " 257.45625399 295.986131   324.50230541 270.12568411 277.02739194]\n",
      "Mean: 278.00147402889166\n",
      "Standard deviation: 32.89527160547896\n"
     ]
    }
   ],
   "source": [
    "from sklearn.svm import SVR\n",
    "\n",
    "svm_reg_pipe = make_pipeline(\n",
    "    StandardScaler(),\n",
    "    SVR()\n",
    ")\n",
    "# Train model on training set\n",
    "svm_reg_pipe.fit(X_train, y_train)\n",
    "y_pred = svm_reg_pipe.predict(X_test)\n",
    "# Evalueate the model on the test set\n",
    "mse = mean_squared_error(y_test, y_pred, squared=False)\n",
    "mae = mean_absolute_error(y_test, y_pred)\n",
    "print(f'Mean squared error: {mse:.2f} calories')\n",
    "print(f'Mean absolute error: {mae:.2f} calories')\n",
    "\n",
    "scores = cross_val_score(svm_reg_pipe, X_train, y_train, scoring='neg_mean_squared_error', cv=10)\n",
    "scores = np.sqrt(-scores)\n",
    "print('\\nOutcomes:', scores)\n",
    "print('Mean:', scores.mean())\n",
    "print('Standard deviation:', scores.std())"
   ]
  },
  {
   "cell_type": "markdown",
   "id": "28728c63",
   "metadata": {},
   "source": [
    "### -->RandomForest Regressor"
   ]
  },
  {
   "cell_type": "code",
   "execution_count": 83,
   "id": "989d6e05",
   "metadata": {
    "scrolled": true
   },
   "outputs": [
    {
     "name": "stdout",
     "output_type": "stream",
     "text": [
      "Mean squared error: 57.58 calories\n",
      "Mean absolute error: 36.54 calories\n"
     ]
    }
   ],
   "source": [
    "forest_reg = make_pipeline(\n",
    "    StandardScaler(),\n",
    "    RandomForestRegressor(n_estimators=500, min_samples_leaf=1, random_state=42)\n",
    ")\n",
    "# Train model on training set\n",
    "forest_reg.fit(X_train, y_train)\n",
    "y_pred = forest_reg.predict(X_test)\n",
    "# Evalueate the model on the test set\n",
    "mse = mean_squared_error(y_test, y_pred, squared=False)\n",
    "mae = mean_absolute_error(y_test, y_pred)\n",
    "print(f'Mean squared error: {mse:.2f} calories')\n",
    "print(f'Mean absolute error: {mae:.2f} calories')\n",
    "\n",
    "# scores = cross_val_score(forest_reg, X_train, y_train, scoring='neg_mean_squared_error', cv=10)\n",
    "# scores = np.sqrt(-scores)\n",
    "# print('\\nOutcomes:', scores)\n",
    "# print('Mean:', scores.mean())\n",
    "# print('Standard deviation:', scores.std())"
   ]
  },
  {
   "cell_type": "code",
   "execution_count": 46,
   "id": "786c2852",
   "metadata": {},
   "outputs": [
    {
     "data": {
      "text/html": [
       "<div>\n",
       "<style scoped>\n",
       "    .dataframe tbody tr th:only-of-type {\n",
       "        vertical-align: middle;\n",
       "    }\n",
       "\n",
       "    .dataframe tbody tr th {\n",
       "        vertical-align: top;\n",
       "    }\n",
       "\n",
       "    .dataframe thead th {\n",
       "        text-align: right;\n",
       "    }\n",
       "</style>\n",
       "<table border=\"1\" class=\"dataframe\">\n",
       "  <thead>\n",
       "    <tr style=\"text-align: right;\">\n",
       "      <th></th>\n",
       "      <th>y_test</th>\n",
       "      <th>y_pred</th>\n",
       "    </tr>\n",
       "  </thead>\n",
       "  <tbody>\n",
       "    <tr>\n",
       "      <th>0</th>\n",
       "      <td>29</td>\n",
       "      <td>22.53</td>\n",
       "    </tr>\n",
       "    <tr>\n",
       "      <th>1</th>\n",
       "      <td>506</td>\n",
       "      <td>471.82</td>\n",
       "    </tr>\n",
       "    <tr>\n",
       "      <th>2</th>\n",
       "      <td>440</td>\n",
       "      <td>422.23</td>\n",
       "    </tr>\n",
       "    <tr>\n",
       "      <th>3</th>\n",
       "      <td>808</td>\n",
       "      <td>720.70</td>\n",
       "    </tr>\n",
       "    <tr>\n",
       "      <th>4</th>\n",
       "      <td>163</td>\n",
       "      <td>166.05</td>\n",
       "    </tr>\n",
       "  </tbody>\n",
       "</table>\n",
       "</div>"
      ],
      "text/plain": [
       "   y_test  y_pred\n",
       "0      29   22.53\n",
       "1     506  471.82\n",
       "2     440  422.23\n",
       "3     808  720.70\n",
       "4     163  166.05"
      ]
     },
     "execution_count": 46,
     "metadata": {},
     "output_type": "execute_result"
    }
   ],
   "source": [
    "pd.DataFrame({'y_test': y_test.values, 'y_pred': y_pred}).head()"
   ]
  },
  {
   "cell_type": "code",
   "execution_count": 68,
   "id": "59e2d9ea",
   "metadata": {},
   "outputs": [
    {
     "name": "stdout",
     "output_type": "stream",
     "text": [
      "Best Hyperparameters: {'bootstrap': True, 'max_depth': 10, 'max_features': 1.0, 'min_samples_leaf': 2, 'min_samples_split': 2, 'n_estimators': 500}\n",
      "Best Score: -3061.2560565306753\n"
     ]
    }
   ],
   "source": [
    "# Define the hyperparameter parameters\n",
    "params = {\n",
    "    'n_estimators': np.arange(100, 1000, 100),\n",
    "    'max_depth': [None, 5, 10, 15],\n",
    "    'min_samples_split': [2, 5, 10],\n",
    "    'min_samples_leaf': [1, 2, 4],\n",
    "    'max_features': [1.0, 'log2', 'sqrt'],\n",
    "    'bootstrap': [True, False]\n",
    "}\n",
    "\n",
    "# Create the Random Forest Regressor object\n",
    "rf_reg = RandomForestRegressor(random_state=42)\n",
    "# Create the RandomizedSearchCV object\n",
    "rs_reg = GridSearchCV(rf_reg, params, cv=5, scoring='neg_mean_squared_error', n_jobs=-1)\n",
    "# Train the RandomizedSearchCV object on the training set\n",
    "rs_reg.fit(X_train, y_train)\n",
    "\n",
    "# Print the best hyperparameters found\n",
    "print('Best Hyperparameters:', rs_reg.best_params_)\n",
    "print('Best Score:', rs_reg.best_score_)"
   ]
  },
  {
   "cell_type": "code",
   "execution_count": 69,
   "id": "b93bc151",
   "metadata": {},
   "outputs": [
    {
     "name": "stdout",
     "output_type": "stream",
     "text": [
      "Mean squared error: 61.01 calories\n",
      "Mean absolute error: 38.11 calories\n",
      "\n",
      "Outcomes: [28.70346378 87.43988601 46.61296396 64.0412089  47.27718239 53.80995253\n",
      " 43.1893268  50.15974648 48.23187139 54.24153121]\n",
      "Mean: 52.37071334573564\n",
      "Standard deviation: 14.481606922788176\n"
     ]
    }
   ],
   "source": [
    "forest_reg_best_params = make_pipeline(\n",
    "    StandardScaler(),\n",
    "    RandomForestRegressor(**rs_reg.best_params_)\n",
    ")\n",
    "# Train model on training set\n",
    "forest_reg_best_params.fit(X_train, y_train)\n",
    "y_pred = forest_reg_best_params.predict(X_test)\n",
    "# Evalueate the model on the test set\n",
    "mse = mean_squared_error(y_test, y_pred, squared=False)\n",
    "mae = mean_absolute_error(y_test, y_pred)\n",
    "print(f'Mean squared error: {mse:.2f} calories')\n",
    "print(f'Mean absolute error: {mae:.2f} calories')\n",
    "\n",
    "scores = cross_val_score(forest_reg_best_params, X_train, y_train, scoring='neg_mean_squared_error', cv=10)\n",
    "scores = np.sqrt(-scores)\n",
    "print('\\nOutcomes:', scores)\n",
    "print('Mean:', scores.mean())\n",
    "print('Standard deviation:', scores.std())"
   ]
  },
  {
   "cell_type": "markdown",
   "id": "635e18c2",
   "metadata": {},
   "source": [
    "## Testing models on new data"
   ]
  },
  {
   "cell_type": "code",
   "execution_count": 50,
   "id": "8a39c266",
   "metadata": {
    "scrolled": true
   },
   "outputs": [
    {
     "data": {
      "text/html": [
       "<div>\n",
       "<style scoped>\n",
       "    .dataframe tbody tr th:only-of-type {\n",
       "        vertical-align: middle;\n",
       "    }\n",
       "\n",
       "    .dataframe tbody tr th {\n",
       "        vertical-align: top;\n",
       "    }\n",
       "\n",
       "    .dataframe thead th {\n",
       "        text-align: right;\n",
       "    }\n",
       "</style>\n",
       "<table border=\"1\" class=\"dataframe\">\n",
       "  <thead>\n",
       "    <tr style=\"text-align: right;\">\n",
       "      <th></th>\n",
       "      <th>Distance</th>\n",
       "      <th>Time</th>\n",
       "      <th>Avg HR</th>\n",
       "      <th>Avg Run Cadence</th>\n",
       "      <th>Avg Pace</th>\n",
       "      <th>Elev Gain</th>\n",
       "      <th>Elev Loss</th>\n",
       "    </tr>\n",
       "  </thead>\n",
       "  <tbody>\n",
       "    <tr>\n",
       "      <th>0</th>\n",
       "      <td>10.5</td>\n",
       "      <td>5355.0</td>\n",
       "      <td>135</td>\n",
       "      <td>174</td>\n",
       "      <td>510.0</td>\n",
       "      <td>120</td>\n",
       "      <td>110</td>\n",
       "    </tr>\n",
       "    <tr>\n",
       "      <th>1</th>\n",
       "      <td>8.2</td>\n",
       "      <td>4470.0</td>\n",
       "      <td>142</td>\n",
       "      <td>168</td>\n",
       "      <td>546.0</td>\n",
       "      <td>70</td>\n",
       "      <td>80</td>\n",
       "    </tr>\n",
       "    <tr>\n",
       "      <th>2</th>\n",
       "      <td>12.4</td>\n",
       "      <td>5724.0</td>\n",
       "      <td>149</td>\n",
       "      <td>180</td>\n",
       "      <td>468.0</td>\n",
       "      <td>200</td>\n",
       "      <td>220</td>\n",
       "    </tr>\n",
       "    <tr>\n",
       "      <th>3</th>\n",
       "      <td>6.7</td>\n",
       "      <td>3342.0</td>\n",
       "      <td>128</td>\n",
       "      <td>182</td>\n",
       "      <td>498.0</td>\n",
       "      <td>30</td>\n",
       "      <td>40</td>\n",
       "    </tr>\n",
       "    <tr>\n",
       "      <th>4</th>\n",
       "      <td>9.3</td>\n",
       "      <td>4914.0</td>\n",
       "      <td>133</td>\n",
       "      <td>177</td>\n",
       "      <td>528.0</td>\n",
       "      <td>300</td>\n",
       "      <td>280</td>\n",
       "    </tr>\n",
       "  </tbody>\n",
       "</table>\n",
       "</div>"
      ],
      "text/plain": [
       "   Distance    Time  Avg HR  Avg Run Cadence  Avg Pace  Elev Gain  Elev Loss\n",
       "0      10.5  5355.0     135              174     510.0        120        110\n",
       "1       8.2  4470.0     142              168     546.0         70         80\n",
       "2      12.4  5724.0     149              180     468.0        200        220\n",
       "3       6.7  3342.0     128              182     498.0         30         40\n",
       "4       9.3  4914.0     133              177     528.0        300        280"
      ]
     },
     "execution_count": 50,
     "metadata": {},
     "output_type": "execute_result"
    }
   ],
   "source": [
    "import pandas as pd\n",
    "\n",
    "data = {'Distance': [10.5, 8.2, 12.4, 6.7, 9.3],\n",
    "        'Time': [89.25, 74.5, 95.4, 55.7, 81.9],\n",
    "        'Avg HR': [135, 142, 149, 128, 133],\n",
    "        'Avg Run Cadence': [174, 168, 180, 182, 177],\n",
    "        'Avg Pace': [8.5, 9.1, 7.8, 8.3, 8.8],\n",
    "        'Elev Gain': [120, 70, 200, 30, 300],\n",
    "        'Elev Loss': [110, 80, 220, 40, 280]\n",
    "}\n",
    "\n",
    "new_test_data = pd.DataFrame(data)\n",
    "new_test_data['Time'] = 60 * new_test_data['Time']\n",
    "new_test_data['Avg Pace'] = 60 * new_test_data['Avg Pace']\n",
    "new_test_data"
   ]
  },
  {
   "cell_type": "code",
   "execution_count": 87,
   "id": "46f7e925",
   "metadata": {},
   "outputs": [
    {
     "name": "stdout",
     "output_type": "stream",
     "text": [
      "\n",
      "Polynomial regressor: [166.2154024  355.96136895 334.37437688 -60.11809234  99.69084471] \n",
      "RandomForest regressor: [692.37033333 633.16356081 928.1343746  388.6766     605.924     ]\n",
      "RandomForest regressor with best params: [703.68406587 600.97300794 943.31806587 386.66032778 612.05442302]\n",
      "\n"
     ]
    }
   ],
   "source": [
    "predict_calories_pol = polynomial_regression.predict(new_test_data)\n",
    "predict_calories_forest = forest_reg.predict(new_test_data)\n",
    "predict_calories_forest_rs = forest_reg_best_params.predict(new_test_data)\n",
    "print(f'''\n",
    "Polynomial regressor: {predict_calories_pol} \n",
    "RandomForest regressor: {predict_calories_forest}\n",
    "RandomForest regressor with best params: {predict_calories_forest_rs}\n",
    "''')"
   ]
  },
  {
   "cell_type": "code",
   "execution_count": null,
   "id": "9c1d5e22",
   "metadata": {},
   "outputs": [],
   "source": []
  }
 ],
 "metadata": {
  "kernelspec": {
   "display_name": "Python 3 (ipykernel)",
   "language": "python",
   "name": "python3"
  },
  "language_info": {
   "codemirror_mode": {
    "name": "ipython",
    "version": 3
   },
   "file_extension": ".py",
   "mimetype": "text/x-python",
   "name": "python",
   "nbconvert_exporter": "python",
   "pygments_lexer": "ipython3",
   "version": "3.11.2"
  }
 },
 "nbformat": 4,
 "nbformat_minor": 5
}
